{
  "cells": [
    {
      "cell_type": "markdown",
      "metadata": {
        "id": "view-in-github",
        "colab_type": "text"
      },
      "source": [
        "<a href=\"https://colab.research.google.com/github/Fardeen210/Fardeen_INFO5731_Fall2024/blob/main/Mohammed_Fardeen_Ali_Assignment_1.ipynb\" target=\"_parent\"><img src=\"https://colab.research.google.com/assets/colab-badge.svg\" alt=\"Open In Colab\"/></a>"
      ]
    },
    {
      "cell_type": "markdown",
      "metadata": {
        "id": "Ryk8D1Q4Wsrp"
      },
      "source": [
        "# **INFO5731 Assignment One**"
      ]
    },
    {
      "cell_type": "markdown",
      "source": [
        "This assignment includes range of programming tasks and data analysis exercises, aiming to enhance your Python skills and proficiency in string manipulation, numerical computations, and data science. Follow the instructions carefully and design well-structured Python programs to address each question.\n",
        "\n",
        "Late Submission will have a penalty of 10% reduction for each day after the deadline."
      ],
      "metadata": {
        "id": "qcP6re2g5A5r"
      }
    },
    {
      "cell_type": "markdown",
      "metadata": {
        "id": "JkzR8cFAyGik"
      },
      "source": [
        "# Question 1 (10 points).\n",
        "\n",
        "The formula that describes the volume V of a hemisphere with radius r is the following:\n",
        "\n",
        "$ V=\\frac{2}{3}\\ast\\ \\pi\\ast\\ r^3 $\n",
        "\n",
        "Write a program to calculate the value of V when r is in the range of even numbers from 1-20. Output the result in the following format:\n",
        "\n",
        "\tr\tV\n",
        "\t2\t…\n",
        "\t4\t…\n",
        "\t6\t…\n",
        "\t.\n",
        "\t.\n",
        "\t.\n",
        "\t20\t…\n"
      ]
    },
    {
      "cell_type": "code",
      "execution_count": null,
      "metadata": {
        "id": "jDyTKYs-yGit",
        "colab": {
          "base_uri": "https://localhost:8080/"
        },
        "outputId": "a043d5e7-b9c8-4274-9d08-e62762ba6a59"
      },
      "outputs": [
        {
          "output_type": "stream",
          "name": "stdout",
          "text": [
            "r  V\n",
            "2 16.76\n",
            "4 134.04\n",
            "6 452.39\n",
            "8 1072.33\n",
            "10 2094.4\n",
            "12 3619.11\n",
            "14 5747.02\n",
            "16 8578.64\n",
            "18 12214.51\n",
            "20 16755.16\n"
          ]
        }
      ],
      "source": [
        "# Your code here\n",
        "import math\n",
        "print(f\"r  V\")\n",
        "for i in range(2,22,2):\n",
        "  if i%2==0:\n",
        "    volume=(2/3)*math.pi*(i**3)\n",
        "    print(i,round(volume,2))"
      ]
    },
    {
      "cell_type": "markdown",
      "metadata": {
        "id": "90_NR8c5XGWc"
      },
      "source": [
        "# Question 2 (20 points)\n",
        "\n",
        "(a) Write a Python program to generate a sequence of 12 random numbers falling within the range of 50 to 150.\n",
        "\n",
        "(b) Arrange the generated numbers in ascending order. Display the sorted list.\n",
        "\n",
        "(c) Extend the program to arrange the numbers in descending order as well. Present the sorted list accordingly.\n",
        "\n",
        "(d) Compute and output the average of the entire group of generated numbers.\n",
        "\n",
        "(e) Enhance the program to calculate and display the average of the first 6 numbers from both the ascending and descending sorted lists."
      ]
    },
    {
      "cell_type": "code",
      "execution_count": 15,
      "metadata": {
        "id": "5QX6bJjGWXY9",
        "colab": {
          "base_uri": "https://localhost:8080/"
        },
        "outputId": "2c13bb4d-6374-4463-d114-b50821022e02"
      },
      "outputs": [
        {
          "output_type": "stream",
          "name": "stdout",
          "text": [
            "Random 12 numbers are [123, 74, 54, 134, 122, 114, 68, 65, 125, 72, 150, 69]\n",
            "Average of entire group of generated numbers is 97.5 \n",
            "\n",
            "Sorted list in ascending order [54, 65, 68, 69, 72, 74, 114, 122, 123, 125, 134, 150]\n",
            "Average of first 6 numbers of ascending is 67.0 \n",
            "\n",
            "Sorted list in descending order [150, 134, 125, 123, 122, 114, 74, 72, 69, 68, 65, 54]\n",
            "Average of first 6 numbers of descending is 128.0 \n",
            "\n"
          ]
        }
      ],
      "source": [
        "# Write code for each of the sub parts with proper comments.\n",
        "import random\n",
        "\n",
        "# function to find first  6 numbers avg\n",
        "def avg_first(num,text):\n",
        "  avg= round(sum(num)/len(num),2)\n",
        "  print(f\"Average of first 6 numbers of {text} is {avg}\",'\\n')\n",
        "\n",
        "#function to find avg of all random numbers generated\n",
        "def avg_total():\n",
        "  avg= round(sum(random_seq)/len(random_seq),2)\n",
        "  print(f\"Average of entire group of generated numbers is {avg}\",'\\n')\n",
        "\n",
        "#this function will sort the sequence and gives avg of first 6 numbers of sorted sequence by using first avg_first fucntion.\n",
        "def sort_sequence(seq,value,message):\n",
        "  sorted_list = sorted(seq, reverse=value)\n",
        "  print(f\"Sorted list in {message} order\",sorted_list)\n",
        "  avg_first(sorted_list[0:6],message)\n",
        "\n",
        "\n",
        "#this will generate 12 random numbers from 50-151\n",
        "random_seq= random.sample(range(50,151),12)\n",
        "print(f\"Random 12 numbers are\",random_seq)\n",
        "\n",
        "avg_total()\n",
        "sort_sequence(random_seq,False,\"ascending\")\n",
        "sort_sequence(random_seq,True,\"descending\")\n",
        "\n",
        "\n"
      ]
    },
    {
      "cell_type": "markdown",
      "metadata": {
        "id": "1F_PZdH9Sh49"
      },
      "source": [
        "# Question 3 (20 points).\n",
        "\n",
        "Create a Python program that encompasses various string manipulation task:\n",
        "\n",
        "(a) Prompt the user to input two sentences.\n",
        "\n",
        "(b) Transform each sentence into a list, where each element corresponds to a word in the sentence. For example, if the sentences are \"Hello, how are you doing today?\" and \"This is an example sentence for the program!\"\n",
        "\n",
        "The program should output:\n",
        "['Hello', ',', 'how', 'are', 'you', 'doing', 'today', '?', 'This', 'is', 'an', 'example', 'sentence', 'for', 'the', 'program', '!']\n",
        "\n",
        "(c) Compare the two sentences. Print out a list of words that occur in both sentences.\n",
        "\n",
        "(d) Remove any punctuation from the sentence and print the sanitized sentences. It should remove at least the following characters, but it can remove more: period(“.”), comma (“,”), semicolon (“;”), and colon (“:”).\n",
        "\n",
        "(e) Count the number of vowels in each of the sentences. Print out each vowel and the occurrences  in the each of the two sentences separately, such as:\n",
        "\n",
        "Sentence1: a:2, e:2, i:0, etc.\n",
        "Sentence2: a:1, e:2, i:2, etc.\n",
        "\n",
        "Design a well-structured Python program to execute these tasks efficiently."
      ]
    },
    {
      "cell_type": "code",
      "execution_count": 20,
      "metadata": {
        "id": "Y0oOSlsOS0cq",
        "colab": {
          "base_uri": "https://localhost:8080/"
        },
        "outputId": "a7e7e788-c042-4c1a-86b3-859c9cd3e2e6"
      },
      "outputs": [
        {
          "output_type": "stream",
          "name": "stdout",
          "text": [
            "Enter first sentence: Hello, how are you doing today ?\n",
            "Enter second sentance: This is an example sentence for the program !\n",
            "desired output ['Hello,', 'how', 'are', 'you', 'doing', 'today', '?', 'This', 'is', 'an', 'example', 'sentence', 'for', 'the', 'program', '!'] \n",
            "\n",
            "the common words between two fiven inputs are [] \n",
            "\n",
            "after sanitizing sentence: Hello how are you doing today  \n",
            "\n",
            "after sanitizing sentences This is an example sentence for the program  \n",
            "\n",
            "sentance 1 vowels count: '\n",
            "' {'a': 2, 'e': 2, 'i': 1, 'o': 5, 'u': 1, 'A': 0, 'E': 0, 'I': 0, 'O': 0, 'U': 0} \n",
            "\n",
            "sentance 2 vowels count: '\n",
            "' {'a': 3, 'e': 6, 'i': 2, 'o': 2, 'u': 0, 'A': 0, 'E': 0, 'I': 0, 'O': 0, 'U': 0} \n",
            "\n"
          ]
        }
      ],
      "source": [
        "import string\n",
        "\n",
        "# Your code here\n",
        "def common(sent1,sent2):\n",
        "  common_words=[]\n",
        "  for word in sent1:\n",
        "    if word in sent2:\n",
        "      common_words.append(word)\n",
        "  return common_words\n",
        "\n",
        "def sanitize(text):\n",
        "  return text.translate(str.maketrans('', '', string.punctuation))\n",
        "\n",
        "def count_vowels(text):\n",
        "  vowels= 'aeiouAEIOU'\n",
        "  count={}\n",
        "  for char in vowels:\n",
        "    count[char]=text.count(char)\n",
        "  return count\n",
        "\n",
        "input_sentance1 = input(\"Enter first sentence: \")\n",
        "input_sentance2 = input(\"Enter second sentance: \")\n",
        "\n",
        "\n",
        "#here input from the user is converted into list\n",
        "sent1 = list(input_sentance1.split())\n",
        "sent2 = list(input_sentance2.split())\n",
        "\n",
        "sentance3= sent1+sent2\n",
        "print(f\"desired output\",sentance3,'\\n')\n",
        "\n",
        "common_words = common(sent1,sent2)\n",
        "print(f\"the common words between two fiven inputs are\",common_words,'\\n')\n",
        "\n",
        "modified_words1 = sanitize(input_sentance1)\n",
        "modified_words2 = sanitize(input_sentance2)\n",
        "\n",
        "print(f\"after sanitizing sentence:\",modified_words1,'\\n')\n",
        "print(f\"after sanitizing sentences\",modified_words2,'\\n')\n",
        "\n",
        "count_vowels1= count_vowels(input_sentance1)\n",
        "print(f\"sentance 1 vowels count: '\\n'\",count_vowels1,'\\n')\n",
        "count_vowels2= count_vowels(input_sentance2)\n",
        "print(f\"sentance 2 vowels count: '\\n'\",count_vowels2,'\\n')\n",
        "\n",
        "\n"
      ]
    },
    {
      "cell_type": "markdown",
      "source": [
        "# Question 4 (20 Points)"
      ],
      "metadata": {
        "id": "OP4-5qxAtInv"
      }
    },
    {
      "cell_type": "markdown",
      "source": [
        "Design and implement a simple command-line calculator program. The program should handle both integers and floating-point numbers.\n",
        "\n",
        "(a) Write program that takes a mathematical expression as input and evaluates it. The program should support addition, subtraction, multiplication, and division.\n",
        "\n",
        "(b) Extend the calculator to handle parentheses in mathematical expressions. Implement the necessary logic to evaluate expressions with nested parentheses.\n",
        "\n",
        "(c) Enhance your calculator to include additional mathematical operations such as exponentiation, square root, and modulus.\n",
        "\n",
        "(d) Implement error handling in the calculator program. Handle cases such as division by zero and invalid input expressions. Provide meaningful error messages.\n",
        "\n",
        "(e) Implement a command to exit the calculator."
      ],
      "metadata": {
        "id": "uzN4_hDptK9U"
      }
    },
    {
      "cell_type": "code",
      "source": [
        "\n",
        "import math\n",
        "\n",
        "def calculate(expression):\n",
        "    expression = expression.replace('^', '**')\n",
        "    expression = expression.replace('sqrt', 'math.sqrt')\n",
        "    expression = expression.replace('mod', '%')\n",
        "    try:\n",
        "        result = eval(expression)\n",
        "        if isinstance(result, float):\n",
        "            return round(result, 2)\n",
        "        return result\n",
        "\n",
        "    except ZeroDivisionError:\n",
        "        return \"Error: Can't Divide by zero\"\n",
        "    except ValueError:\n",
        "        return \"Error: Check given input properly\"\n",
        "    except NameError:\n",
        "        return \"Error: Invalid data type in expression\"\n",
        "    except SyntaxError:\n",
        "        return \"Error: Invalid input expression.\"\n",
        "    except Exception as e:\n",
        "        print(f\"Unexpected error: {e}\")\n",
        "\n",
        "user_input = input(\"Enter a mathematical expression (type 'exit' to quit): \")\n",
        "while user_input.lower() != 'exit':\n",
        "    result = calculate(user_input)\n",
        "    print(\"Result:\", result)\n",
        "    user_input = input(\"Enter a mathematical expression (type 'exit' to quit): \")\n",
        "    if user_input.lower() == 'exit':\n",
        "        print(\"Exiting the calculator.\")\n",
        "        break"
      ],
      "metadata": {
        "id": "8nQnVxjJuYtu",
        "colab": {
          "base_uri": "https://localhost:8080/"
        },
        "outputId": "af73a525-216b-4833-bf59-a8c7cae974d1"
      },
      "execution_count": 21,
      "outputs": [
        {
          "output_type": "stream",
          "name": "stdout",
          "text": [
            "Enter a mathematical expression (type 'exit' to quit): 5+8+5+584+75+587/5+5mod6+(9+8*3)\n",
            "Result: 832.4\n",
            "Enter a mathematical expression (type 'exit' to quit): exit\n",
            "Exiting the calculator.\n"
          ]
        }
      ]
    },
    {
      "cell_type": "markdown",
      "metadata": {
        "id": "z3tBE7E-Xn5X"
      },
      "source": [
        "# Question 5 (30 points).\n",
        "\n",
        "In the field of Data Science, data is often formatted as a comma-delimited (CSV) file, where each line in a file corresponds to a field's value. Refer to Chapter 9 (p. 106) for more information on comma-delimited files.\n",
        "\n",
        "To answer this question, you will need to download the file [Assignment1_denton_housing.csv](https://raw.githubusercontent.com/unt-iialab/info5731-spring2022/main/assignments/Assignment1_denton_housing.csv) included with this assignment. The file contains statistics about housing in the city of Denton from 2008 to 2014. Write a program to implement the following questions.\n",
        "\n",
        "(a) (5 pts) Calculate the difference in the number of Occupied Housing Units from year to year and print it. The difference must be calculated for the consecutive years such as 2008-2009, 2009-2010 etc. Finally, print the values in the ascending order.\n",
        "\n",
        "(b) (5 pts) For all the years, calculate the percentage of housing units which are vacant an occupied. Print the results in the following format:\n",
        "\n",
        "Year Vacant Housing Units Occupied Housing Units\n",
        "\n",
        "    2008  30%   70%                          \n",
        "\t2009 ----- -----\n",
        "\t2010 ----- -----\n",
        "    2011 ----- -----\n",
        "\t2012 ----- -----\n",
        "    2013 ----- -----\n",
        "\t2014 ----- -----\n",
        "  \n",
        "  \n",
        "\n",
        "(c) (10 pts) Calculate and print the valued and years in which the highest number of housing units were vacant and occupied. Print the results in the following format:  \n",
        "\n",
        "                              Year\tValue\n",
        "\tVacant Housing Units\t  -----   -----\n",
        "\tOccupied Housing Units\t-----   -----\n",
        "\n",
        "(d) (10 pts) Calculate the harmonic mean of the total housing units and print it out. You can find the information about harmonic mean here: https://ncalculators.com/statistics/harmonic-mean-calculator.htm"
      ]
    },
    {
      "cell_type": "code",
      "execution_count": 20,
      "metadata": {
        "id": "lqGYuHBhcsRH",
        "colab": {
          "base_uri": "https://localhost:8080/",
          "height": 923
        },
        "collapsed": true,
        "outputId": "f353d807-f34b-435a-d1af-02560fba8332"
      },
      "outputs": [
        {
          "output_type": "stream",
          "name": "stdout",
          "text": [
            "Difference in the number of Occupied Housing Units from year to year:\n",
            "    year  Difference\n",
            "17  2009      -795.0\n",
            "11  2011      -303.0\n",
            "8   2012      1404.0\n",
            "5   2013      1565.0\n",
            "2   2014      2622.0\n",
            "14  2010      5091.0\n"
          ]
        },
        {
          "output_type": "display_data",
          "data": {
            "text/plain": [
              "<Figure size 640x480 with 1 Axes>"
            ],
            "image/png": "[encoded data removed]"
          },
          "metadata": {}
        },
        {
          "output_type": "stream",
          "name": "stdout",
          "text": [
            "\n",
            "\n",
            "Year  Vacant Housing Units      Occupied Housing Units   \n",
            "2008           10.88%                89.12%\n",
            "2009            9.07%                90.93%\n",
            "2010            8.14%                91.86%\n",
            "2011            9.38%                90.62%\n",
            "2012            6.68%                93.32%\n",
            "2013            8.80%                91.20%\n",
            "2014            5.73%                94.27%\n",
            "\n",
            "\n",
            "                          Year       Value\n",
            "Vacant Housing Units       2008       4483           \n",
            "Occupied Housing Units    2014       46295     \n",
            "\n",
            "\n",
            "Harmonic mean of the total housing units is 44398.29\n"
          ]
        }
      ],
      "source": [
        "import pandas as pd\n",
        "import matplotlib.pyplot as plt\n",
        "\n",
        "#this function will calculate total housing units\n",
        "def total_vacants(data):\n",
        "  occupied_units = data[data['title_field'] == 'Occupied Housing Units']\n",
        "  vacant_units = data[data['title_field'] == 'Vacant Housing Units']\n",
        "    # Ensure the data is sorted by year for accurate percentage calculation\n",
        "  occupied_units_sorted = occupied_units.sort_values(by='year')\n",
        "  vacant_units_sorted = vacant_units.sort_values(by='year')\n",
        "\n",
        "    # Merge the DataFrames on the 'year' column\n",
        "  merged_units = pd.merge(occupied_units_sorted, vacant_units_sorted, on='year', suffixes=('_occupied', '_vacant'))\n",
        "  merged_units['Total Housing Units'] = merged_units['value_occupied'] + merged_units['value_vacant']\n",
        "  return merged_units\n",
        "\n",
        "#Calculate the difference in the number of Occupied Housing Units from year to year\n",
        "def diff_occupied_units(data):\n",
        "    occupied_units = data[data['title_field'] == 'Occupied Housing Units'].sort_values(by=['year'])\n",
        "    occupied_units['Difference'] = occupied_units['value'].diff()\n",
        "    occupied_units_diff = occupied_units.dropna().sort_values(by='Difference', ascending=True)\n",
        "\n",
        "    # Print the results (year and Difference)\n",
        "    print(\"Difference in the number of Occupied Housing Units from year to year:\")\n",
        "    print(occupied_units_diff[['year', 'Difference']])\n",
        "\n",
        "    #Visualizing\n",
        "    occupied_units_vis = data[data['title_field'] == 'Occupied Housing Units'].sort_values(by=['year'],ascending=True)\n",
        "    plt.plot(occupied_units_vis['year'], occupied_units['Difference'])\n",
        "    plt.xlabel('Year')\n",
        "    plt.ylabel('Difference')\n",
        "    plt.title('Difference in Occupied Housing Units from Year to Year')\n",
        "    plt.show()\n",
        "\n",
        "#Percentage of housing units which are vacant an occupied.\n",
        "def percentage_vacant_occupied(data,total):\n",
        "  all_vacants =total\n",
        "  all_vacants['Vacant_percentage'] = (all_vacants['value_vacant'] / all_vacants['Total Housing Units']) * 100\n",
        "  all_vacants['Occupied_percentage'] = (all_vacants['value_occupied'] / all_vacants['Total Housing Units']) * 100\n",
        "\n",
        "  print(f\"{'Year':<5} {'Vacant Housing Units':<25} {'Occupied Housing Units':<25}\")\n",
        "  for index, row in all_vacants.iterrows():\n",
        "      print(f\"{row['year']:<10}{row['Vacant_percentage']:10.2f}% {row['Occupied_percentage']:20.2f}%\")\n",
        "\n",
        "\n",
        "#the value and year in which the highest number of housing units were vacant and occupied\n",
        "def highest_no_of_housing_units(data):\n",
        "  occupied_units = data[data['title_field'] == 'Occupied Housing Units']\n",
        "  vacant_units = data[data['title_field'] == 'Vacant Housing Units']\n",
        "  omax = occupied_units.loc[occupied_units['value'].idxmax()]\n",
        "  vmax = vacant_units.loc[vacant_units['value'].idxmax()]\n",
        "\n",
        "  print(f\"{'':<25} {'Year':<10} {'Value':<5}\")\n",
        "  print(f\"Vacant Housing Units       {vmax['year']:<10} {vmax['value']:<15}\")\n",
        "  print(f\"Occupied Housing Units    {omax['year']:<10} {omax['value']:<10}\")\n",
        "\n",
        "#harmonic_mean\n",
        "def harmonic_mean(data,total):\n",
        "  total_vacants =total['Total Housing Units']\n",
        "  denom=0\n",
        "  n=len(total_vacants)\n",
        "  for i in total_vacants:\n",
        "    denom=denom+1/i\n",
        "  h_mean=round(n/denom,2)\n",
        "  print(f\"Harmonic mean of the total housing units is {h_mean}\")\n",
        "\n",
        "\n",
        "file_copy = pd.read_csv('https://raw.githubusercontent.com/unt-iialab/info5731-spring2022/main/assignments/Assignment1_denton_housing.csv')\n",
        "\n",
        "vacants_total = total_vacants(file_copy)\n",
        "diff_occupied_units(file_copy)\n",
        "print('\\n')\n",
        "percentage_vacant_occupied(file_copy,vacants_total)\n",
        "print('\\n')\n",
        "highest_no_of_housing_units(file_copy)\n",
        "print('\\n')\n",
        "harmonic_mean(file_copy,vacants_total)"
      ]
    },
    {
      "cell_type": "code",
      "source": [],
      "metadata": {
        "id": "Vhdb4EsJc3aF"
      },
      "execution_count": null,
      "outputs": []
    },
    {
      "cell_type": "markdown",
      "source": [
        "# Mandatory Question\n",
        "\n",
        "Provide your thoughts on the assignment. What did you find challenging, and what aspects did you enjoy? Your opinion on the provided time to complete the assignment. Share any suggestions for improvement. Your feedback will be valuable for enhancing the learning experience."
      ],
      "metadata": {
        "id": "q8BFCvWp32cf"
      }
    },
    {
      "cell_type": "code",
      "source": [
        "# Write your response below\n"
      ],
      "metadata": {
        "id": "_e557s2w4BpK"
      },
      "execution_count": null,
      "outputs": []
    }
  ],
  "metadata": {
    "colab": {
      "provenance": [],
      "include_colab_link": true
    },
    "kernelspec": {
      "display_name": "Python 3 (ipykernel)",
      "language": "python",
      "name": "python3"
    },
    "language_info": {
      "codemirror_mode": {
        "name": "ipython",
        "version": 3
      },
      "file_extension": ".py",
      "mimetype": "text/x-python",
      "name": "python",
      "nbconvert_exporter": "python",
      "pygments_lexer": "ipython3",
      "version": "3.9.12"
    }
  },
  "nbformat": 4,
  "nbformat_minor": 0
}