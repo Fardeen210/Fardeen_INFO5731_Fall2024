{
  "cells": [
    {
      "cell_type": "markdown",
      "metadata": {
        "id": "view-in-github",
        "colab_type": "text"
      },
      "source": [
        "<a href=\"https://colab.research.google.com/github/Fardeen210/Fardeen_INFO5731_Fall2024/blob/main/Mohammed__Fardeen_Ali_Exercise_4_Updated.ipynb\" target=\"_parent\"><img src=\"https://colab.research.google.com/assets/colab-badge.svg\" alt=\"Open In Colab\"/></a>"
      ]
    },
    {
      "cell_type": "markdown",
      "metadata": {
        "id": "VdRwkJBn70nX"
      },
      "source": [
        "# **INFO5731 In-class Exercise 4**\n",
        "\n",
        "**This exercise will provide a valuable learning experience in working with text data and extracting features using various topic modeling algorithms. Key concepts such as Latent Dirichlet Allocation (LDA), Latent Semantic Analysis (LSA), lda2vec, and BERTopic.**"
      ]
    },
    {
      "cell_type": "markdown",
      "source": [
        "***Please use the text corpus you collected in your last in-class-exercise for this exercise. Perform the following tasks***.\n",
        "\n",
        "**Expectations**:\n",
        "*   Students are expected to complete the exercise during lecture period to meet the active participation criteria of the course.\n",
        "*   Use the provided .*ipynb* document to write your code & respond to the questions. Avoid generating a new file.\n",
        "*   Write complete answers and run all the cells before submission.\n",
        "*   Make sure the submission is \"clean\"; *i.e.*, no unnecessary code cells.\n",
        "*   Once finished, allow shared rights from top right corner (*see Canvas for details*).\n",
        "\n",
        "**Total points**: 40\n",
        "\n",
        "**Deadline**: This in-class exercise is due at the end of the day tomorrow, at 11:59 PM.\n",
        "\n",
        "**Late submissions will have a penalty of 10% of the marks for each day of late submission, and no requests will be answered. Manage your time accordingly.**\n"
      ],
      "metadata": {
        "id": "TU-pLW33lpcS"
      }
    },
    {
      "cell_type": "markdown",
      "source": [
        "# **About Dataset**\n",
        "\n",
        "I am using a **data set from kaggle** of amazone product review\n",
        "\n",
        "\n",
        "Data set: https://www.kaggle.com/datasets/arhamrumi/amazon-product-reviews?resource=download\n",
        "\n",
        "About Dataset: This dataset has amzone product reviews of 568k customer reviews.\n",
        "It has ProductId, USerID, ProfileName, Helpfullness Counter Score, Text, Summary, Time. It has around 5Lakh plus rows\n",
        "\n",
        "For this assiginment i am using only product id and text for analysis.\n",
        "\n",
        "### **Note: Because my in-class assiginment dataset is not good**"
      ],
      "metadata": {
        "id": "nj9Gylyj9-Hi"
      }
    },
    {
      "cell_type": "code",
      "source": [
        "from google.colab import drive\n",
        "drive.mount('/content/gdrive')"
      ],
      "metadata": {
        "colab": {
          "base_uri": "https://localhost:8080/"
        },
        "id": "d0dYUH91Rz68",
        "outputId": "e6e6856a-f215-4d86-962b-6923c27fca6d"
      },
      "execution_count": null,
      "outputs": [
        {
          "output_type": "stream",
          "name": "stdout",
          "text": [
            "Mounted at /content/gdrive\n"
          ]
        }
      ]
    },
    {
      "cell_type": "code",
      "source": [
        "import pandas as pd\n",
        "\n",
        "file_path = r\"/content/gdrive/MyDrive/Dataset/Reviews.csv\"\n",
        "\n",
        "df = pd.read_csv(file_path, usecols=['ProductId','Text'], engine='python')\n",
        "\n",
        "\n",
        "# Display the loaded dataframe\n",
        "df.head()"
      ],
      "metadata": {
        "colab": {
          "base_uri": "https://localhost:8080/",
          "height": 206
        },
        "id": "_tWgrjZR-V0Y",
        "outputId": "086a7020-0540-4080-df5f-40f331cf67cb"
      },
      "execution_count": null,
      "outputs": [
        {
          "output_type": "execute_result",
          "data": {
            "text/plain": [
              "    ProductId                                               Text\n",
              "0  B001E4KFG0  I have bought several of the Vitality canned d...\n",
              "1  B00813GRG4  Product arrived labeled as Jumbo Salted Peanut...\n",
              "2  B000LQOCH0  This is a confection that has been around a fe...\n",
              "3  B000UA0QIQ  If you are looking for the secret ingredient i...\n",
              "4  B006K2ZZ7K  Great taffy at a great price.  There was a wid..."
            ],
            "text/html": [
              "\n",
              "  <div id=\"df-62add797-d769-4666-97d1-7de1e8a69b28\" class=\"colab-df-container\">\n",
              "    <div>\n",
              "<style scoped>\n",
              "    .dataframe tbody tr th:only-of-type {\n",
              "        vertical-align: middle;\n",
              "    }\n",
              "\n",
              "    .dataframe tbody tr th {\n",
              "        vertical-align: top;\n",
              "    }\n",
              "\n",
              "    .dataframe thead th {\n",
              "        text-align: right;\n",
              "    }\n",
              "</style>\n",
              "<table border=\"1\" class=\"dataframe\">\n",
              "  <thead>\n",
              "    <tr style=\"text-align: right;\">\n",
              "      <th></th>\n",
              "      <th>ProductId</th>\n",
              "      <th>Text</th>\n",
              "    </tr>\n",
              "  </thead>\n",
              "  <tbody>\n",
              "    <tr>\n",
              "      <th>0</th>\n",
              "      <td>B001E4KFG0</td>\n",
              "      <td>I have bought several of the Vitality canned d...</td>\n",
              "    </tr>\n",
              "    <tr>\n",
              "      <th>1</th>\n",
              "      <td>B00813GRG4</td>\n",
              "      <td>Product arrived labeled as Jumbo Salted Peanut...</td>\n",
              "    </tr>\n",
              "    <tr>\n",
              "      <th>2</th>\n",
              "      <td>B000LQOCH0</td>\n",
              "      <td>This is a confection that has been around a fe...</td>\n",
              "    </tr>\n",
              "    <tr>\n",
              "      <th>3</th>\n",
              "      <td>B000UA0QIQ</td>\n",
              "      <td>If you are looking for the secret ingredient i...</td>\n",
              "    </tr>\n",
              "    <tr>\n",
              "      <th>4</th>\n",
              "      <td>B006K2ZZ7K</td>\n",
              "      <td>Great taffy at a great price.  There was a wid...</td>\n",
              "    </tr>\n",
              "  </tbody>\n",
              "</table>\n",
              "</div>\n",
              "    <div class=\"colab-df-buttons\">\n",
              "\n",
              "  <div class=\"colab-df-container\">\n",
              "    <button class=\"colab-df-convert\" onclick=\"convertToInteractive('df-62add797-d769-4666-97d1-7de1e8a69b28')\"\n",
              "            title=\"Convert this dataframe to an interactive table.\"\n",
              "            style=\"display:none;\">\n",
              "\n",
              "  <svg xmlns=\"http://www.w3.org/2000/svg\" height=\"24px\" viewBox=\"0 -960 960 960\">\n",
              "    <path d=\"M120-120v-720h720v720H120Zm60-500h600v-160H180v160Zm220 220h160v-160H400v160Zm0 220h160v-160H400v160ZM180-400h160v-160H180v160Zm440 0h160v-160H620v160ZM180-180h160v-160H180v160Zm440 0h160v-160H620v160Z\"/>\n",
              "  </svg>\n",
              "    </button>\n",
              "\n",
              "  <style>\n",
              "    .colab-df-container {\n",
              "      display:flex;\n",
              "      gap: 12px;\n",
              "    }\n",
              "\n",
              "    .colab-df-convert {\n",
              "      background-color: #E8F0FE;\n",
              "      border: none;\n",
              "      border-radius: 50%;\n",
              "      cursor: pointer;\n",
              "      display: none;\n",
              "      fill: #1967D2;\n",
              "      height: 32px;\n",
              "      padding: 0 0 0 0;\n",
              "      width: 32px;\n",
              "    }\n",
              "\n",
              "    .colab-df-convert:hover {\n",
              "      background-color: #E2EBFA;\n",
              "      box-shadow: 0px 1px 2px rgba(60, 64, 67, 0.3), 0px 1px 3px 1px rgba(60, 64, 67, 0.15);\n",
              "      fill: #174EA6;\n",
              "    }\n",
              "\n",
              "    .colab-df-buttons div {\n",
              "      margin-bottom: 4px;\n",
              "    }\n",
              "\n",
              "    [theme=dark] .colab-df-convert {\n",
              "      background-color: #3B4455;\n",
              "      fill: #D2E3FC;\n",
              "    }\n",
              "\n",
              "    [theme=dark] .colab-df-convert:hover {\n",
              "      background-color: #434B5C;\n",
              "      box-shadow: 0px 1px 3px 1px rgba(0, 0, 0, 0.15);\n",
              "      filter: drop-shadow(0px 1px 2px rgba(0, 0, 0, 0.3));\n",
              "      fill: #FFFFFF;\n",
              "    }\n",
              "  </style>\n",
              "\n",
              "    <script>\n",
              "      const buttonEl =\n",
              "        document.querySelector('#df-62add797-d769-4666-97d1-7de1e8a69b28 button.colab-df-convert');\n",
              "      buttonEl.style.display =\n",
              "        google.colab.kernel.accessAllowed ? 'block' : 'none';\n",
              "\n",
              "      async function convertToInteractive(key) {\n",
              "        const element = document.querySelector('#df-62add797-d769-4666-97d1-7de1e8a69b28');\n",
              "        const dataTable =\n",
              "          await google.colab.kernel.invokeFunction('convertToInteractive',\n",
              "                                                    [key], {});\n",
              "        if (!dataTable) return;\n",
              "\n",
              "        const docLinkHtml = 'Like what you see? Visit the ' +\n",
              "          '<a target=\"_blank\" href=https://colab.research.google.com/notebooks/data_table.ipynb>data table notebook</a>'\n",
              "          + ' to learn more about interactive tables.';\n",
              "        element.innerHTML = '';\n",
              "        dataTable['output_type'] = 'display_data';\n",
              "        await google.colab.output.renderOutput(dataTable, element);\n",
              "        const docLink = document.createElement('div');\n",
              "        docLink.innerHTML = docLinkHtml;\n",
              "        element.appendChild(docLink);\n",
              "      }\n",
              "    </script>\n",
              "  </div>\n",
              "\n",
              "\n",
              "<div id=\"df-08988a0c-2c71-415a-9a36-1b31daebd85b\">\n",
              "  <button class=\"colab-df-quickchart\" onclick=\"quickchart('df-08988a0c-2c71-415a-9a36-1b31daebd85b')\"\n",
              "            title=\"Suggest charts\"\n",
              "            style=\"display:none;\">\n",
              "\n",
              "<svg xmlns=\"http://www.w3.org/2000/svg\" height=\"24px\"viewBox=\"0 0 24 24\"\n",
              "     width=\"24px\">\n",
              "    <g>\n",
              "        <path d=\"M19 3H5c-1.1 0-2 .9-2 2v14c0 1.1.9 2 2 2h14c1.1 0 2-.9 2-2V5c0-1.1-.9-2-2-2zM9 17H7v-7h2v7zm4 0h-2V7h2v10zm4 0h-2v-4h2v4z\"/>\n",
              "    </g>\n",
              "</svg>\n",
              "  </button>\n",
              "\n",
              "<style>\n",
              "  .colab-df-quickchart {\n",
              "      --bg-color: #E8F0FE;\n",
              "      --fill-color: #1967D2;\n",
              "      --hover-bg-color: #E2EBFA;\n",
              "      --hover-fill-color: #174EA6;\n",
              "      --disabled-fill-color: #AAA;\n",
              "      --disabled-bg-color: #DDD;\n",
              "  }\n",
              "\n",
              "  [theme=dark] .colab-df-quickchart {\n",
              "      --bg-color: #3B4455;\n",
              "      --fill-color: #D2E3FC;\n",
              "      --hover-bg-color: #434B5C;\n",
              "      --hover-fill-color: #FFFFFF;\n",
              "      --disabled-bg-color: #3B4455;\n",
              "      --disabled-fill-color: #666;\n",
              "  }\n",
              "\n",
              "  .colab-df-quickchart {\n",
              "    background-color: var(--bg-color);\n",
              "    border: none;\n",
              "    border-radius: 50%;\n",
              "    cursor: pointer;\n",
              "    display: none;\n",
              "    fill: var(--fill-color);\n",
              "    height: 32px;\n",
              "    padding: 0;\n",
              "    width: 32px;\n",
              "  }\n",
              "\n",
              "  .colab-df-quickchart:hover {\n",
              "    background-color: var(--hover-bg-color);\n",
              "    box-shadow: 0 1px 2px rgba(60, 64, 67, 0.3), 0 1px 3px 1px rgba(60, 64, 67, 0.15);\n",
              "    fill: var(--button-hover-fill-color);\n",
              "  }\n",
              "\n",
              "  .colab-df-quickchart-complete:disabled,\n",
              "  .colab-df-quickchart-complete:disabled:hover {\n",
              "    background-color: var(--disabled-bg-color);\n",
              "    fill: var(--disabled-fill-color);\n",
              "    box-shadow: none;\n",
              "  }\n",
              "\n",
              "  .colab-df-spinner {\n",
              "    border: 2px solid var(--fill-color);\n",
              "    border-color: transparent;\n",
              "    border-bottom-color: var(--fill-color);\n",
              "    animation:\n",
              "      spin 1s steps(1) infinite;\n",
              "  }\n",
              "\n",
              "  @keyframes spin {\n",
              "    0% {\n",
              "      border-color: transparent;\n",
              "      border-bottom-color: var(--fill-color);\n",
              "      border-left-color: var(--fill-color);\n",
              "    }\n",
              "    20% {\n",
              "      border-color: transparent;\n",
              "      border-left-color: var(--fill-color);\n",
              "      border-top-color: var(--fill-color);\n",
              "    }\n",
              "    30% {\n",
              "      border-color: transparent;\n",
              "      border-left-color: var(--fill-color);\n",
              "      border-top-color: var(--fill-color);\n",
              "      border-right-color: var(--fill-color);\n",
              "    }\n",
              "    40% {\n",
              "      border-color: transparent;\n",
              "      border-right-color: var(--fill-color);\n",
              "      border-top-color: var(--fill-color);\n",
              "    }\n",
              "    60% {\n",
              "      border-color: transparent;\n",
              "      border-right-color: var(--fill-color);\n",
              "    }\n",
              "    80% {\n",
              "      border-color: transparent;\n",
              "      border-right-color: var(--fill-color);\n",
              "      border-bottom-color: var(--fill-color);\n",
              "    }\n",
              "    90% {\n",
              "      border-color: transparent;\n",
              "      border-bottom-color: var(--fill-color);\n",
              "    }\n",
              "  }\n",
              "</style>\n",
              "\n",
              "  <script>\n",
              "    async function quickchart(key) {\n",
              "      const quickchartButtonEl =\n",
              "        document.querySelector('#' + key + ' button');\n",
              "      quickchartButtonEl.disabled = true;  // To prevent multiple clicks.\n",
              "      quickchartButtonEl.classList.add('colab-df-spinner');\n",
              "      try {\n",
              "        const charts = await google.colab.kernel.invokeFunction(\n",
              "            'suggestCharts', [key], {});\n",
              "      } catch (error) {\n",
              "        console.error('Error during call to suggestCharts:', error);\n",
              "      }\n",
              "      quickchartButtonEl.classList.remove('colab-df-spinner');\n",
              "      quickchartButtonEl.classList.add('colab-df-quickchart-complete');\n",
              "    }\n",
              "    (() => {\n",
              "      let quickchartButtonEl =\n",
              "        document.querySelector('#df-08988a0c-2c71-415a-9a36-1b31daebd85b button');\n",
              "      quickchartButtonEl.style.display =\n",
              "        google.colab.kernel.accessAllowed ? 'block' : 'none';\n",
              "    })();\n",
              "  </script>\n",
              "</div>\n",
              "\n",
              "    </div>\n",
              "  </div>\n"
            ],
            "application/vnd.google.colaboratory.intrinsic+json": {
              "type": "dataframe",
              "variable_name": "df"
            }
          },
          "metadata": {},
          "execution_count": 6
        }
      ]
    },
    {
      "cell_type": "code",
      "source": [
        "# Took a sample of 113691 reviews for ease in processing as my laptop cant handle large dataset\n",
        "\n",
        "data_sample_df = pd.DataFrame(df.sample(frac=0.2))\n",
        "data_sample_df.head()"
      ],
      "metadata": {
        "colab": {
          "base_uri": "https://localhost:8080/",
          "height": 206
        },
        "id": "NkX9CXFHAEHD",
        "outputId": "a9c6e5a7-6c68-49fa-84b6-17ccda03bfee"
      },
      "execution_count": null,
      "outputs": [
        {
          "output_type": "execute_result",
          "data": {
            "text/plain": [
              "         ProductId                                               Text\n",
              "328020  B000G7TBMK  I purchased this product from Amazon on a regu...\n",
              "390165  B008YA1DZE  I wanted to try a decaf coffee for after dinne...\n",
              "362753  B000UXA0LG  Ordered and received the product without a hit...\n",
              "339630  B000HDCNBY  This is a great snack that I've tried when I w...\n",
              "139905  B0061IUKDM  I tend to drink strong coffee and black teas a..."
            ],
            "text/html": [
              "\n",
              "  <div id=\"df-53f1c6f2-8fc6-4ec2-885b-74c7a49f390e\" class=\"colab-df-container\">\n",
              "    <div>\n",
              "<style scoped>\n",
              "    .dataframe tbody tr th:only-of-type {\n",
              "        vertical-align: middle;\n",
              "    }\n",
              "\n",
              "    .dataframe tbody tr th {\n",
              "        vertical-align: top;\n",
              "    }\n",
              "\n",
              "    .dataframe thead th {\n",
              "        text-align: right;\n",
              "    }\n",
              "</style>\n",
              "<table border=\"1\" class=\"dataframe\">\n",
              "  <thead>\n",
              "    <tr style=\"text-align: right;\">\n",
              "      <th></th>\n",
              "      <th>ProductId</th>\n",
              "      <th>Text</th>\n",
              "    </tr>\n",
              "  </thead>\n",
              "  <tbody>\n",
              "    <tr>\n",
              "      <th>328020</th>\n",
              "      <td>B000G7TBMK</td>\n",
              "      <td>I purchased this product from Amazon on a regu...</td>\n",
              "    </tr>\n",
              "    <tr>\n",
              "      <th>390165</th>\n",
              "      <td>B008YA1DZE</td>\n",
              "      <td>I wanted to try a decaf coffee for after dinne...</td>\n",
              "    </tr>\n",
              "    <tr>\n",
              "      <th>362753</th>\n",
              "      <td>B000UXA0LG</td>\n",
              "      <td>Ordered and received the product without a hit...</td>\n",
              "    </tr>\n",
              "    <tr>\n",
              "      <th>339630</th>\n",
              "      <td>B000HDCNBY</td>\n",
              "      <td>This is a great snack that I've tried when I w...</td>\n",
              "    </tr>\n",
              "    <tr>\n",
              "      <th>139905</th>\n",
              "      <td>B0061IUKDM</td>\n",
              "      <td>I tend to drink strong coffee and black teas a...</td>\n",
              "    </tr>\n",
              "  </tbody>\n",
              "</table>\n",
              "</div>\n",
              "    <div class=\"colab-df-buttons\">\n",
              "\n",
              "  <div class=\"colab-df-container\">\n",
              "    <button class=\"colab-df-convert\" onclick=\"convertToInteractive('df-53f1c6f2-8fc6-4ec2-885b-74c7a49f390e')\"\n",
              "            title=\"Convert this dataframe to an interactive table.\"\n",
              "            style=\"display:none;\">\n",
              "\n",
              "  <svg xmlns=\"http://www.w3.org/2000/svg\" height=\"24px\" viewBox=\"0 -960 960 960\">\n",
              "    <path d=\"M120-120v-720h720v720H120Zm60-500h600v-160H180v160Zm220 220h160v-160H400v160Zm0 220h160v-160H400v160ZM180-400h160v-160H180v160Zm440 0h160v-160H620v160ZM180-180h160v-160H180v160Zm440 0h160v-160H620v160Z\"/>\n",
              "  </svg>\n",
              "    </button>\n",
              "\n",
              "  <style>\n",
              "    .colab-df-container {\n",
              "      display:flex;\n",
              "      gap: 12px;\n",
              "    }\n",
              "\n",
              "    .colab-df-convert {\n",
              "      background-color: #E8F0FE;\n",
              "      border: none;\n",
              "      border-radius: 50%;\n",
              "      cursor: pointer;\n",
              "      display: none;\n",
              "      fill: #1967D2;\n",
              "      height: 32px;\n",
              "      padding: 0 0 0 0;\n",
              "      width: 32px;\n",
              "    }\n",
              "\n",
              "    .colab-df-convert:hover {\n",
              "      background-color: #E2EBFA;\n",
              "      box-shadow: 0px 1px 2px rgba(60, 64, 67, 0.3), 0px 1px 3px 1px rgba(60, 64, 67, 0.15);\n",
              "      fill: #174EA6;\n",
              "    }\n",
              "\n",
              "    .colab-df-buttons div {\n",
              "      margin-bottom: 4px;\n",
              "    }\n",
              "\n",
              "    [theme=dark] .colab-df-convert {\n",
              "      background-color: #3B4455;\n",
              "      fill: #D2E3FC;\n",
              "    }\n",
              "\n",
              "    [theme=dark] .colab-df-convert:hover {\n",
              "      background-color: #434B5C;\n",
              "      box-shadow: 0px 1px 3px 1px rgba(0, 0, 0, 0.15);\n",
              "      filter: drop-shadow(0px 1px 2px rgba(0, 0, 0, 0.3));\n",
              "      fill: #FFFFFF;\n",
              "    }\n",
              "  </style>\n",
              "\n",
              "    <script>\n",
              "      const buttonEl =\n",
              "        document.querySelector('#df-53f1c6f2-8fc6-4ec2-885b-74c7a49f390e button.colab-df-convert');\n",
              "      buttonEl.style.display =\n",
              "        google.colab.kernel.accessAllowed ? 'block' : 'none';\n",
              "\n",
              "      async function convertToInteractive(key) {\n",
              "        const element = document.querySelector('#df-53f1c6f2-8fc6-4ec2-885b-74c7a49f390e');\n",
              "        const dataTable =\n",
              "          await google.colab.kernel.invokeFunction('convertToInteractive',\n",
              "                                                    [key], {});\n",
              "        if (!dataTable) return;\n",
              "\n",
              "        const docLinkHtml = 'Like what you see? Visit the ' +\n",
              "          '<a target=\"_blank\" href=https://colab.research.google.com/notebooks/data_table.ipynb>data table notebook</a>'\n",
              "          + ' to learn more about interactive tables.';\n",
              "        element.innerHTML = '';\n",
              "        dataTable['output_type'] = 'display_data';\n",
              "        await google.colab.output.renderOutput(dataTable, element);\n",
              "        const docLink = document.createElement('div');\n",
              "        docLink.innerHTML = docLinkHtml;\n",
              "        element.appendChild(docLink);\n",
              "      }\n",
              "    </script>\n",
              "  </div>\n",
              "\n",
              "\n",
              "<div id=\"df-8d6f23e6-1244-48dd-9a79-1fc4c9a4483f\">\n",
              "  <button class=\"colab-df-quickchart\" onclick=\"quickchart('df-8d6f23e6-1244-48dd-9a79-1fc4c9a4483f')\"\n",
              "            title=\"Suggest charts\"\n",
              "            style=\"display:none;\">\n",
              "\n",
              "<svg xmlns=\"http://www.w3.org/2000/svg\" height=\"24px\"viewBox=\"0 0 24 24\"\n",
              "     width=\"24px\">\n",
              "    <g>\n",
              "        <path d=\"M19 3H5c-1.1 0-2 .9-2 2v14c0 1.1.9 2 2 2h14c1.1 0 2-.9 2-2V5c0-1.1-.9-2-2-2zM9 17H7v-7h2v7zm4 0h-2V7h2v10zm4 0h-2v-4h2v4z\"/>\n",
              "    </g>\n",
              "</svg>\n",
              "  </button>\n",
              "\n",
              "<style>\n",
              "  .colab-df-quickchart {\n",
              "      --bg-color: #E8F0FE;\n",
              "      --fill-color: #1967D2;\n",
              "      --hover-bg-color: #E2EBFA;\n",
              "      --hover-fill-color: #174EA6;\n",
              "      --disabled-fill-color: #AAA;\n",
              "      --disabled-bg-color: #DDD;\n",
              "  }\n",
              "\n",
              "  [theme=dark] .colab-df-quickchart {\n",
              "      --bg-color: #3B4455;\n",
              "      --fill-color: #D2E3FC;\n",
              "      --hover-bg-color: #434B5C;\n",
              "      --hover-fill-color: #FFFFFF;\n",
              "      --disabled-bg-color: #3B4455;\n",
              "      --disabled-fill-color: #666;\n",
              "  }\n",
              "\n",
              "  .colab-df-quickchart {\n",
              "    background-color: var(--bg-color);\n",
              "    border: none;\n",
              "    border-radius: 50%;\n",
              "    cursor: pointer;\n",
              "    display: none;\n",
              "    fill: var(--fill-color);\n",
              "    height: 32px;\n",
              "    padding: 0;\n",
              "    width: 32px;\n",
              "  }\n",
              "\n",
              "  .colab-df-quickchart:hover {\n",
              "    background-color: var(--hover-bg-color);\n",
              "    box-shadow: 0 1px 2px rgba(60, 64, 67, 0.3), 0 1px 3px 1px rgba(60, 64, 67, 0.15);\n",
              "    fill: var(--button-hover-fill-color);\n",
              "  }\n",
              "\n",
              "  .colab-df-quickchart-complete:disabled,\n",
              "  .colab-df-quickchart-complete:disabled:hover {\n",
              "    background-color: var(--disabled-bg-color);\n",
              "    fill: var(--disabled-fill-color);\n",
              "    box-shadow: none;\n",
              "  }\n",
              "\n",
              "  .colab-df-spinner {\n",
              "    border: 2px solid var(--fill-color);\n",
              "    border-color: transparent;\n",
              "    border-bottom-color: var(--fill-color);\n",
              "    animation:\n",
              "      spin 1s steps(1) infinite;\n",
              "  }\n",
              "\n",
              "  @keyframes spin {\n",
              "    0% {\n",
              "      border-color: transparent;\n",
              "      border-bottom-color: var(--fill-color);\n",
              "      border-left-color: var(--fill-color);\n",
              "    }\n",
              "    20% {\n",
              "      border-color: transparent;\n",
              "      border-left-color: var(--fill-color);\n",
              "      border-top-color: var(--fill-color);\n",
              "    }\n",
              "    30% {\n",
              "      border-color: transparent;\n",
              "      border-left-color: var(--fill-color);\n",
              "      border-top-color: var(--fill-color);\n",
              "      border-right-color: var(--fill-color);\n",
              "    }\n",
              "    40% {\n",
              "      border-color: transparent;\n",
              "      border-right-color: var(--fill-color);\n",
              "      border-top-color: var(--fill-color);\n",
              "    }\n",
              "    60% {\n",
              "      border-color: transparent;\n",
              "      border-right-color: var(--fill-color);\n",
              "    }\n",
              "    80% {\n",
              "      border-color: transparent;\n",
              "      border-right-color: var(--fill-color);\n",
              "      border-bottom-color: var(--fill-color);\n",
              "    }\n",
              "    90% {\n",
              "      border-color: transparent;\n",
              "      border-bottom-color: var(--fill-color);\n",
              "    }\n",
              "  }\n",
              "</style>\n",
              "\n",
              "  <script>\n",
              "    async function quickchart(key) {\n",
              "      const quickchartButtonEl =\n",
              "        document.querySelector('#' + key + ' button');\n",
              "      quickchartButtonEl.disabled = true;  // To prevent multiple clicks.\n",
              "      quickchartButtonEl.classList.add('colab-df-spinner');\n",
              "      try {\n",
              "        const charts = await google.colab.kernel.invokeFunction(\n",
              "            'suggestCharts', [key], {});\n",
              "      } catch (error) {\n",
              "        console.error('Error during call to suggestCharts:', error);\n",
              "      }\n",
              "      quickchartButtonEl.classList.remove('colab-df-spinner');\n",
              "      quickchartButtonEl.classList.add('colab-df-quickchart-complete');\n",
              "    }\n",
              "    (() => {\n",
              "      let quickchartButtonEl =\n",
              "        document.querySelector('#df-8d6f23e6-1244-48dd-9a79-1fc4c9a4483f button');\n",
              "      quickchartButtonEl.style.display =\n",
              "        google.colab.kernel.accessAllowed ? 'block' : 'none';\n",
              "    })();\n",
              "  </script>\n",
              "</div>\n",
              "\n",
              "    </div>\n",
              "  </div>\n"
            ],
            "application/vnd.google.colaboratory.intrinsic+json": {
              "type": "dataframe",
              "variable_name": "data_sample_df"
            }
          },
          "metadata": {},
          "execution_count": 9
        }
      ]
    },
    {
      "cell_type": "code",
      "source": [
        "data_df = pd.DataFrame()\n",
        "data_df['ProductId'] = data_sample_df['ProductId']\n",
        "data_df['Text'] = data_sample_df['Text']"
      ],
      "metadata": {
        "id": "BisvMOYRBZYP"
      },
      "execution_count": null,
      "outputs": []
    },
    {
      "cell_type": "code",
      "source": [
        "from inspect import cleandoc\n",
        "from gensim.parsing.preprocessing import remove_stopwords, strip_punctuation \\\n",
        "                                        , preprocess_string, strip_short, stem_text\n",
        "# preprocess given text\n",
        "def preprocess(text):\n",
        "\n",
        "    # clean text based on given filters\n",
        "    CUSTOM_FILTERS = [lambda x: x.lower(),\n",
        "                                remove_stopwords,\n",
        "                                strip_punctuation,\n",
        "                                strip_short,\n",
        "                                stem_text]\n",
        "    text = preprocess_string(text, CUSTOM_FILTERS)\n",
        "\n",
        "    return text\n",
        "# apply function to all reviews\n",
        "data_df['clean_text'] = data_sample_df['Text'].apply(lambda x: preprocess(x))\n",
        "print(data_df.head(10))"
      ],
      "metadata": {
        "colab": {
          "base_uri": "https://localhost:8080/"
        },
        "id": "xg5MCbkhF-W5",
        "outputId": "bcad8c2c-7299-4ac1-eab2-9ef6b0d891ac"
      },
      "execution_count": null,
      "outputs": [
        {
          "output_type": "stream",
          "name": "stdout",
          "text": [
            "         ProductId                                               Text  \\\n",
            "328020  B000G7TBMK  I purchased this product from Amazon on a regu...   \n",
            "390165  B008YA1DZE  I wanted to try a decaf coffee for after dinne...   \n",
            "362753  B000UXA0LG  Ordered and received the product without a hit...   \n",
            "339630  B000HDCNBY  This is a great snack that I've tried when I w...   \n",
            "139905  B0061IUKDM  I tend to drink strong coffee and black teas a...   \n",
            "149656  B000E8WIAS  I got this to go with the HCG diet - Not much ...   \n",
            "227979  B003VXHGPK  This is a great cup of hazelnut coffee; smooth...   \n",
            "394554  B000FKGT8W  The chips tasted great, but I was very disappo...   \n",
            "233968  B000BWCIZM  GREAT delivery, great product! I was very plea...   \n",
            "19407   B000GZYAT6  I've been doing a bit of experimentation with ...   \n",
            "\n",
            "                                               clean_text  \n",
            "328020  [purchas, product, amazon, regular, basi, husb...  \n",
            "390165  [want, try, decaf, coffe, dinner, donut, hous,...  \n",
            "362753  [order, receiv, product, hitch, great, dog, bu...  \n",
            "339630  [great, snack, tri, visit, friend, bui, recomm...  \n",
            "139905  [tend, drink, strong, coffe, black, tea, care,...  \n",
            "149656  [got, hcg, diet, flavor, tri, chocol, english,...  \n",
            "227979  [great, cup, hazelnut, coffe, smooth, balanc, ...  \n",
            "394554  [chip, tast, great, disappoint, receiv, bag, s...  \n",
            "233968  [great, deliveri, great, product, pleas, order...  \n",
            "19407   [bit, experiment, make, pho, home, vari, degre...  \n"
          ]
        }
      ]
    },
    {
      "cell_type": "code",
      "source": [
        "from gensim import corpora\n",
        "\n",
        "# create a dictionary with the corpus\n",
        "corpus = data_df['clean_text']\n",
        "dictionary = corpora.Dictionary(corpus)\n",
        "\n",
        "# convert corpus into a bag of words\n",
        "bow = [dictionary.doc2bow(text) for text in corpus]"
      ],
      "metadata": {
        "id": "1kUUQbmYG_e3"
      },
      "execution_count": null,
      "outputs": []
    },
    {
      "cell_type": "markdown",
      "source": [
        "# Data is cleaned and obtained BOW\n",
        "\n",
        "---\n",
        "\n"
      ],
      "metadata": {
        "id": "otTOx1oyXTF5"
      }
    },
    {
      "cell_type": "markdown",
      "metadata": {
        "id": "ARqm7u6B70ne"
      },
      "source": [
        "## Question 1 (10 Points)\n",
        "\n",
        "**Generate K topics by using LDA, the number of topics K should be decided by the coherence score, then summarize what are the topics.**\n",
        "\n",
        "You may refer the code here: https://www.machinelearningplus.com/nlp/topic-modeling-gensim-python/"
      ]
    },
    {
      "cell_type": "markdown",
      "source": [],
      "metadata": {
        "id": "7egmwQHJCHW-"
      }
    },
    {
      "cell_type": "code",
      "source": [
        "import gensim\n",
        "from gensim.models import LdaModel\n",
        "from gensim.models.coherencemodel import CoherenceModel"
      ],
      "metadata": {
        "id": "Tp6zzbTcMXey"
      },
      "execution_count": null,
      "outputs": []
    },
    {
      "cell_type": "code",
      "source": [
        "def finding_coherence (corpus=corpus,id2word=dictionary):\n",
        "  for i in range(2,11):\n",
        "    lda_model = LdaModel(bow, id2word=dictionary, num_topics=i)\n",
        "    coherence_model_lda = CoherenceModel(model=lda_model, texts=data_df['clean_text'], dictionary=dictionary, coherence='c_v')\n",
        "    coherence_model_lda.get_coherence()\n",
        "    print('Coherence score with {} clusters: {}'.format(i, coherence_model_lda.get_coherence()))\n",
        "\n",
        "finding_coherence(corpus,dictionary)"
      ],
      "metadata": {
        "colab": {
          "base_uri": "https://localhost:8080/"
        },
        "id": "LsGs0exoAqMh",
        "outputId": "38825776-8ba9-421f-ffbf-772362dd6bb3"
      },
      "execution_count": null,
      "outputs": [
        {
          "output_type": "stream",
          "name": "stdout",
          "text": [
            "Coherence score with 2 clusters: 0.3823019240573956\n",
            "Coherence score with 3 clusters: 0.40343978480751375\n",
            "Coherence score with 4 clusters: 0.4296066983778497\n",
            "Coherence score with 5 clusters: 0.46276804751692957\n",
            "Coherence score with 6 clusters: 0.461801063096749\n",
            "Coherence score with 7 clusters: 0.44375092687385725\n",
            "Coherence score with 8 clusters: 0.4861689634220838\n",
            "Coherence score with 9 clusters: 0.4815382260824382\n",
            "Coherence score with 10 clusters: 0.4793622304713191\n"
          ]
        }
      ]
    },
    {
      "cell_type": "code",
      "source": [
        "# Highest coherence score achieved in 8 clusters so, number of topics would be 8."
      ],
      "metadata": {
        "id": "KXG71mGQWQuk"
      },
      "execution_count": null,
      "outputs": []
    },
    {
      "cell_type": "code",
      "source": [
        "num_topics = 8\n",
        "\n",
        "lda_model = gensim.models.LdaMulticore(corpus=bow,\n",
        "                                       id2word=dictionary,\n",
        "                                       num_topics=num_topics)\n",
        "# Print the Keyword in the 8 topics\n",
        "print(lda_model.print_topics())"
      ],
      "metadata": {
        "colab": {
          "base_uri": "https://localhost:8080/"
        },
        "id": "apAdLQzGAh2c",
        "outputId": "678bacb8-a3fb-4a30-9d23-2a279ed69e4f"
      },
      "execution_count": 144,
      "outputs": [
        {
          "output_type": "stream",
          "name": "stderr",
          "text": [
            "/usr/local/lib/python3.10/dist-packages/ipykernel/ipkernel.py:283: DeprecationWarning: `should_run_async` will not call `transform_cell` automatically in the future. Please pass the result to `transformed_cell` argument and any exception that happen during thetransform in `preprocessing_exc_tuple` in IPython 7.17 and above.\n",
            "  and should_run_async(code)\n"
          ]
        },
        {
          "output_type": "stream",
          "name": "stdout",
          "text": [
            "[(0, '0.061*\"tea\" + 0.013*\"like\" + 0.012*\"tast\" + 0.011*\"bag\" + 0.009*\"green\" + 0.008*\"product\" + 0.008*\"review\" + 0.006*\"good\" + 0.005*\"smell\" + 0.005*\"packag\"'), (1, '0.013*\"product\" + 0.013*\"us\" + 0.012*\"oil\" + 0.012*\"tast\" + 0.011*\"like\" + 0.010*\"salt\" + 0.010*\"cook\" + 0.010*\"good\" + 0.008*\"sauc\" + 0.007*\"great\"'), (2, '0.017*\"water\" + 0.014*\"product\" + 0.014*\"dai\" + 0.013*\"drink\" + 0.012*\"bottl\" + 0.012*\"work\" + 0.010*\"us\" + 0.009*\"time\" + 0.008*\"energi\" + 0.008*\"great\"'), (3, '0.018*\"hot\" + 0.018*\"tast\" + 0.017*\"flavor\" + 0.016*\"sugar\" + 0.015*\"cup\" + 0.015*\"like\" + 0.014*\"product\" + 0.013*\"water\" + 0.012*\"us\" + 0.010*\"ic\"'), (4, '0.023*\"like\" + 0.023*\"tast\" + 0.018*\"flavor\" + 0.016*\"good\" + 0.015*\"chocol\" + 0.014*\"eat\" + 0.014*\"love\" + 0.013*\"snack\" + 0.013*\"cooki\" + 0.012*\"bar\"'), (5, '0.026*\"amazon\" + 0.022*\"order\" + 0.021*\"price\" + 0.020*\"product\" + 0.019*\"store\" + 0.017*\"bui\" + 0.015*\"great\" + 0.013*\"love\" + 0.012*\"box\" + 0.012*\"ship\"'), (6, '0.070*\"coffe\" + 0.037*\"flavor\" + 0.030*\"tast\" + 0.025*\"cup\" + 0.025*\"like\" + 0.014*\"good\" + 0.012*\"drink\" + 0.010*\"strong\" + 0.010*\"love\" + 0.009*\"roast\"'), (7, '0.041*\"food\" + 0.035*\"dog\" + 0.021*\"cat\" + 0.018*\"treat\" + 0.016*\"love\" + 0.015*\"eat\" + 0.013*\"like\" + 0.007*\"product\" + 0.006*\"feed\" + 0.006*\"can\"')]\n"
          ]
        }
      ]
    },
    {
      "cell_type": "code",
      "source": [
        "topics = lda_model.print_topics()\n",
        "for topic_num, topic in topics:\n",
        "  words = [word.split('*')[1].replace('\"', '').strip() for word in topic.split(' + ')]\n",
        "  word_list = ', '.join(words)\n",
        "\n",
        "  print(f\" topic {topic_num} Keywords: {word_list}\\n\")"
      ],
      "metadata": {
        "colab": {
          "base_uri": "https://localhost:8080/"
        },
        "id": "kKbBckmJZIyX",
        "outputId": "10d02373-eca7-464f-951b-2f839b8c4d38"
      },
      "execution_count": 146,
      "outputs": [
        {
          "output_type": "stream",
          "name": "stdout",
          "text": [
            " topic 0 Keywords: tea, like, tast, bag, green, product, review, good, smell, packag\n",
            "\n",
            " topic 1 Keywords: product, us, oil, tast, like, salt, cook, good, sauc, great\n",
            "\n",
            " topic 2 Keywords: water, product, dai, drink, bottl, work, us, time, energi, great\n",
            "\n",
            " topic 3 Keywords: hot, tast, flavor, sugar, cup, like, product, water, us, ic\n",
            "\n",
            " topic 4 Keywords: like, tast, flavor, good, chocol, eat, love, snack, cooki, bar\n",
            "\n",
            " topic 5 Keywords: amazon, order, price, product, store, bui, great, love, box, ship\n",
            "\n",
            " topic 6 Keywords: coffe, flavor, tast, cup, like, good, drink, strong, love, roast\n",
            "\n",
            " topic 7 Keywords: food, dog, cat, treat, love, eat, like, product, feed, can\n",
            "\n"
          ]
        },
        {
          "output_type": "stream",
          "name": "stderr",
          "text": [
            "/usr/local/lib/python3.10/dist-packages/ipykernel/ipkernel.py:283: DeprecationWarning: `should_run_async` will not call `transform_cell` automatically in the future. Please pass the result to `transformed_cell` argument and any exception that happen during thetransform in `preprocessing_exc_tuple` in IPython 7.17 and above.\n",
            "  and should_run_async(code)\n"
          ]
        }
      ]
    },
    {
      "cell_type": "markdown",
      "source": [
        "Summarization of each topic\n",
        "\n",
        "Topic | Name\n",
        "\n",
        "1 Tea and Green Tea Products\n",
        "\n",
        "2 Cooking Oils, Sauces, and Seasonings\n",
        "\n",
        "3 Bottled Drinks and Energy Products\n",
        "\n",
        "4 Hot Drinks and Sugar Products\n",
        "\n",
        "5 Snacks and Chocolate Bars\n",
        "\n",
        "6 Shopping Experience and Ordering on Amazon\n",
        "\n",
        "7 Coffee and Coffee Flavors\n",
        "\n",
        "8 Pet Food and Treats\n",
        "\n",
        "\n",
        "\n",
        "\n",
        "\n",
        "\n",
        "\n",
        "\n",
        "\n",
        "\n"
      ],
      "metadata": {
        "id": "keTgYxo1aFy6"
      }
    },
    {
      "cell_type": "markdown",
      "metadata": {
        "id": "dEUjBE6C70nf"
      },
      "source": [
        "## Question 2 (10 Points)\n",
        "\n",
        "**Generate K topics by using LSA, the number of topics K should be decided by the coherence score, then summarize what are the topics.**\n",
        "\n",
        "You may refer the code here: https://www.datacamp.com/community/tutorials/discovering-hidden-topics-python"
      ]
    },
    {
      "cell_type": "code",
      "source": [
        "from gensim.models import LsiModel\n",
        "from gensim.models.coherencemodel import CoherenceModel"
      ],
      "metadata": {
        "id": "awr70IIETuAW"
      },
      "execution_count": null,
      "outputs": []
    },
    {
      "cell_type": "code",
      "source": [
        "# Coherence score in topic modeling to measure how interpretable the topics are to humans.\n",
        "# Find the coherence score with a different number of topics\n",
        "for i in range(2,11):\n",
        "    lsi = LsiModel(bow, num_topics=i, id2word=dictionary)\n",
        "    coherence_model = CoherenceModel(model=lsi, texts= data_df['clean_text'], dictionary=dictionary, coherence='c_v')\n",
        "    coherence_score = coherence_model.get_coherence()\n",
        "    print('Coherence score with {} clusters: {}'.format(i, coherence_score))"
      ],
      "metadata": {
        "colab": {
          "base_uri": "https://localhost:8080/"
        },
        "id": "OEMyW0UQLPQB",
        "outputId": "eded33ae-d6e6-4199-b3c2-413e2ab539d9"
      },
      "execution_count": null,
      "outputs": [
        {
          "output_type": "stream",
          "name": "stdout",
          "text": [
            "Coherence score with 2 clusters: 0.4642372785318699\n",
            "Coherence score with 3 clusters: 0.4140999827184422\n",
            "Coherence score with 4 clusters: 0.36557430071721553\n",
            "Coherence score with 5 clusters: 0.3755477153379897\n",
            "Coherence score with 6 clusters: 0.39037306171153974\n",
            "Coherence score with 7 clusters: 0.39432946675187763\n",
            "Coherence score with 8 clusters: 0.3899460662558033\n",
            "Coherence score with 9 clusters: 0.3980147904051469\n",
            "Coherence score with 10 clusters: 0.38664098899471344\n"
          ]
        }
      ]
    },
    {
      "cell_type": "code",
      "source": [
        "lsi = LsiModel(bow, num_topics=2, id2word=dictionary)"
      ],
      "metadata": {
        "id": "o_UDs7qpHwaE"
      },
      "execution_count": null,
      "outputs": []
    },
    {
      "cell_type": "code",
      "source": [
        "# perform SVD on the bag of words with the LsiModel to extract 2 topics\n",
        "lsi = LsiModel(bow, num_topics=2, id2word=dictionary)# find the 5 words with the strongest association to the derived topics\n",
        "for topic_num, words in lsi.print_topics(num_words=10):\n",
        "    print('Words in {}: {}.'.format(topic_num, words))"
      ],
      "metadata": {
        "id": "ZQ-s7_4POvFc",
        "colab": {
          "base_uri": "https://localhost:8080/"
        },
        "outputId": "f2f4a0a8-b35f-4cd8-84a6-19a8a74548d5"
      },
      "execution_count": null,
      "outputs": [
        {
          "output_type": "stream",
          "name": "stdout",
          "text": [
            "Words in 0: 0.330*\"like\" + 0.277*\"tast\" + 0.240*\"flavor\" + 0.217*\"food\" + 0.211*\"tea\" + 0.207*\"product\" + 0.204*\"coffe\" + 0.193*\"good\" + 0.136*\"love\" + 0.120*\"great\".\n",
            "Words in 1: -0.536*\"tea\" + 0.498*\"food\" + -0.303*\"coffe\" + 0.261*\"dog\" + 0.256*\"cat\" + 0.170*\"eat\" + -0.146*\"tast\" + -0.140*\"flavor\" + -0.123*\"cup\" + -0.118*\"drink\".\n"
          ]
        }
      ]
    },
    {
      "cell_type": "markdown",
      "source": [
        "Summarization of two topics extracted:\n",
        "\n",
        "1. Taste and Flavor of Food and Beverages\n",
        "2. Pets and Food Preferences (Tea and Coffee Contrast)\n",
        "\n",
        "\n"
      ],
      "metadata": {
        "id": "ekNu5xLIaZh3"
      }
    },
    {
      "cell_type": "markdown",
      "metadata": {
        "id": "7oSK4soH70nf"
      },
      "source": [
        "## Question 3 (10 points):\n",
        "**Generate K topics by using lda2vec, the number of topics K should be decided by the coherence score, then summarize what are the topics.**\n",
        "\n",
        "You may refer the code here: https://nbviewer.org/github/cemoody/lda2vec/blob/master/examples/twenty_newsgroups/lda2vec/lda2vec.ipynb"
      ]
    },
    {
      "cell_type": "markdown",
      "source": [],
      "metadata": {
        "id": "iNqFSzNPaY_h"
      }
    },
    {
      "cell_type": "code",
      "execution_count": null,
      "metadata": {
        "id": "2CRuXfV570ng"
      },
      "outputs": [],
      "source": [
        "# Write your code here\n"
      ]
    },
    {
      "cell_type": "markdown",
      "metadata": {
        "id": "7nZGAOwl70ng"
      },
      "source": [
        "## Question 4 (10 points):\n",
        "**Generate K topics by using BERTopic, the number of topics K should be decided by the coherence score, then summarize what are the topics.**\n",
        "\n",
        "You may refer the code here: https://colab.research.google.com/drive/1FieRA9fLdkQEGDIMYl0I3MCjSUKVF8C-?usp=sharing"
      ]
    },
    {
      "cell_type": "code",
      "execution_count": null,
      "metadata": {
        "id": "b4HoWK-i70ng",
        "colab": {
          "base_uri": "https://localhost:8080/",
          "height": 261
        },
        "outputId": "31058a29-9d10-4605-8e13-48312d62c024"
      },
      "outputs": [
        {
          "output_type": "stream",
          "name": "stderr",
          "text": [
            "/usr/local/lib/python3.10/dist-packages/ipykernel/ipkernel.py:283: DeprecationWarning: `should_run_async` will not call `transform_cell` automatically in the future. Please pass the result to `transformed_cell` argument and any exception that happen during thetransform in `preprocessing_exc_tuple` in IPython 7.17 and above.\n",
            "  and should_run_async(code)\n"
          ]
        },
        {
          "output_type": "execute_result",
          "data": {
            "text/plain": [
              "    ProductId                                               Text\n",
              "0  B001E4KFG0  I have bought several of the Vitality canned d...\n",
              "1  B00813GRG4  Product arrived labeled as Jumbo Salted Peanut...\n",
              "2  B000LQOCH0  This is a confection that has been around a fe...\n",
              "3  B000UA0QIQ  If you are looking for the secret ingredient i...\n",
              "4  B006K2ZZ7K  Great taffy at a great price.  There was a wid..."
            ],
            "text/html": [
              "\n",
              "  <div id=\"df-f7ed62d0-3f8c-4a88-bb47-fef824db6fa1\" class=\"colab-df-container\">\n",
              "    <div>\n",
              "<style scoped>\n",
              "    .dataframe tbody tr th:only-of-type {\n",
              "        vertical-align: middle;\n",
              "    }\n",
              "\n",
              "    .dataframe tbody tr th {\n",
              "        vertical-align: top;\n",
              "    }\n",
              "\n",
              "    .dataframe thead th {\n",
              "        text-align: right;\n",
              "    }\n",
              "</style>\n",
              "<table border=\"1\" class=\"dataframe\">\n",
              "  <thead>\n",
              "    <tr style=\"text-align: right;\">\n",
              "      <th></th>\n",
              "      <th>ProductId</th>\n",
              "      <th>Text</th>\n",
              "    </tr>\n",
              "  </thead>\n",
              "  <tbody>\n",
              "    <tr>\n",
              "      <th>0</th>\n",
              "      <td>B001E4KFG0</td>\n",
              "      <td>I have bought several of the Vitality canned d...</td>\n",
              "    </tr>\n",
              "    <tr>\n",
              "      <th>1</th>\n",
              "      <td>B00813GRG4</td>\n",
              "      <td>Product arrived labeled as Jumbo Salted Peanut...</td>\n",
              "    </tr>\n",
              "    <tr>\n",
              "      <th>2</th>\n",
              "      <td>B000LQOCH0</td>\n",
              "      <td>This is a confection that has been around a fe...</td>\n",
              "    </tr>\n",
              "    <tr>\n",
              "      <th>3</th>\n",
              "      <td>B000UA0QIQ</td>\n",
              "      <td>If you are looking for the secret ingredient i...</td>\n",
              "    </tr>\n",
              "    <tr>\n",
              "      <th>4</th>\n",
              "      <td>B006K2ZZ7K</td>\n",
              "      <td>Great taffy at a great price.  There was a wid...</td>\n",
              "    </tr>\n",
              "  </tbody>\n",
              "</table>\n",
              "</div>\n",
              "    <div class=\"colab-df-buttons\">\n",
              "\n",
              "  <div class=\"colab-df-container\">\n",
              "    <button class=\"colab-df-convert\" onclick=\"convertToInteractive('df-f7ed62d0-3f8c-4a88-bb47-fef824db6fa1')\"\n",
              "            title=\"Convert this dataframe to an interactive table.\"\n",
              "            style=\"display:none;\">\n",
              "\n",
              "  <svg xmlns=\"http://www.w3.org/2000/svg\" height=\"24px\" viewBox=\"0 -960 960 960\">\n",
              "    <path d=\"M120-120v-720h720v720H120Zm60-500h600v-160H180v160Zm220 220h160v-160H400v160Zm0 220h160v-160H400v160ZM180-400h160v-160H180v160Zm440 0h160v-160H620v160ZM180-180h160v-160H180v160Zm440 0h160v-160H620v160Z\"/>\n",
              "  </svg>\n",
              "    </button>\n",
              "\n",
              "  <style>\n",
              "    .colab-df-container {\n",
              "      display:flex;\n",
              "      gap: 12px;\n",
              "    }\n",
              "\n",
              "    .colab-df-convert {\n",
              "      background-color: #E8F0FE;\n",
              "      border: none;\n",
              "      border-radius: 50%;\n",
              "      cursor: pointer;\n",
              "      display: none;\n",
              "      fill: #1967D2;\n",
              "      height: 32px;\n",
              "      padding: 0 0 0 0;\n",
              "      width: 32px;\n",
              "    }\n",
              "\n",
              "    .colab-df-convert:hover {\n",
              "      background-color: #E2EBFA;\n",
              "      box-shadow: 0px 1px 2px rgba(60, 64, 67, 0.3), 0px 1px 3px 1px rgba(60, 64, 67, 0.15);\n",
              "      fill: #174EA6;\n",
              "    }\n",
              "\n",
              "    .colab-df-buttons div {\n",
              "      margin-bottom: 4px;\n",
              "    }\n",
              "\n",
              "    [theme=dark] .colab-df-convert {\n",
              "      background-color: #3B4455;\n",
              "      fill: #D2E3FC;\n",
              "    }\n",
              "\n",
              "    [theme=dark] .colab-df-convert:hover {\n",
              "      background-color: #434B5C;\n",
              "      box-shadow: 0px 1px 3px 1px rgba(0, 0, 0, 0.15);\n",
              "      filter: drop-shadow(0px 1px 2px rgba(0, 0, 0, 0.3));\n",
              "      fill: #FFFFFF;\n",
              "    }\n",
              "  </style>\n",
              "\n",
              "    <script>\n",
              "      const buttonEl =\n",
              "        document.querySelector('#df-f7ed62d0-3f8c-4a88-bb47-fef824db6fa1 button.colab-df-convert');\n",
              "      buttonEl.style.display =\n",
              "        google.colab.kernel.accessAllowed ? 'block' : 'none';\n",
              "\n",
              "      async function convertToInteractive(key) {\n",
              "        const element = document.querySelector('#df-f7ed62d0-3f8c-4a88-bb47-fef824db6fa1');\n",
              "        const dataTable =\n",
              "          await google.colab.kernel.invokeFunction('convertToInteractive',\n",
              "                                                    [key], {});\n",
              "        if (!dataTable) return;\n",
              "\n",
              "        const docLinkHtml = 'Like what you see? Visit the ' +\n",
              "          '<a target=\"_blank\" href=https://colab.research.google.com/notebooks/data_table.ipynb>data table notebook</a>'\n",
              "          + ' to learn more about interactive tables.';\n",
              "        element.innerHTML = '';\n",
              "        dataTable['output_type'] = 'display_data';\n",
              "        await google.colab.output.renderOutput(dataTable, element);\n",
              "        const docLink = document.createElement('div');\n",
              "        docLink.innerHTML = docLinkHtml;\n",
              "        element.appendChild(docLink);\n",
              "      }\n",
              "    </script>\n",
              "  </div>\n",
              "\n",
              "\n",
              "<div id=\"df-8ff8634c-2a4a-4a66-8759-26105c210855\">\n",
              "  <button class=\"colab-df-quickchart\" onclick=\"quickchart('df-8ff8634c-2a4a-4a66-8759-26105c210855')\"\n",
              "            title=\"Suggest charts\"\n",
              "            style=\"display:none;\">\n",
              "\n",
              "<svg xmlns=\"http://www.w3.org/2000/svg\" height=\"24px\"viewBox=\"0 0 24 24\"\n",
              "     width=\"24px\">\n",
              "    <g>\n",
              "        <path d=\"M19 3H5c-1.1 0-2 .9-2 2v14c0 1.1.9 2 2 2h14c1.1 0 2-.9 2-2V5c0-1.1-.9-2-2-2zM9 17H7v-7h2v7zm4 0h-2V7h2v10zm4 0h-2v-4h2v4z\"/>\n",
              "    </g>\n",
              "</svg>\n",
              "  </button>\n",
              "\n",
              "<style>\n",
              "  .colab-df-quickchart {\n",
              "      --bg-color: #E8F0FE;\n",
              "      --fill-color: #1967D2;\n",
              "      --hover-bg-color: #E2EBFA;\n",
              "      --hover-fill-color: #174EA6;\n",
              "      --disabled-fill-color: #AAA;\n",
              "      --disabled-bg-color: #DDD;\n",
              "  }\n",
              "\n",
              "  [theme=dark] .colab-df-quickchart {\n",
              "      --bg-color: #3B4455;\n",
              "      --fill-color: #D2E3FC;\n",
              "      --hover-bg-color: #434B5C;\n",
              "      --hover-fill-color: #FFFFFF;\n",
              "      --disabled-bg-color: #3B4455;\n",
              "      --disabled-fill-color: #666;\n",
              "  }\n",
              "\n",
              "  .colab-df-quickchart {\n",
              "    background-color: var(--bg-color);\n",
              "    border: none;\n",
              "    border-radius: 50%;\n",
              "    cursor: pointer;\n",
              "    display: none;\n",
              "    fill: var(--fill-color);\n",
              "    height: 32px;\n",
              "    padding: 0;\n",
              "    width: 32px;\n",
              "  }\n",
              "\n",
              "  .colab-df-quickchart:hover {\n",
              "    background-color: var(--hover-bg-color);\n",
              "    box-shadow: 0 1px 2px rgba(60, 64, 67, 0.3), 0 1px 3px 1px rgba(60, 64, 67, 0.15);\n",
              "    fill: var(--button-hover-fill-color);\n",
              "  }\n",
              "\n",
              "  .colab-df-quickchart-complete:disabled,\n",
              "  .colab-df-quickchart-complete:disabled:hover {\n",
              "    background-color: var(--disabled-bg-color);\n",
              "    fill: var(--disabled-fill-color);\n",
              "    box-shadow: none;\n",
              "  }\n",
              "\n",
              "  .colab-df-spinner {\n",
              "    border: 2px solid var(--fill-color);\n",
              "    border-color: transparent;\n",
              "    border-bottom-color: var(--fill-color);\n",
              "    animation:\n",
              "      spin 1s steps(1) infinite;\n",
              "  }\n",
              "\n",
              "  @keyframes spin {\n",
              "    0% {\n",
              "      border-color: transparent;\n",
              "      border-bottom-color: var(--fill-color);\n",
              "      border-left-color: var(--fill-color);\n",
              "    }\n",
              "    20% {\n",
              "      border-color: transparent;\n",
              "      border-left-color: var(--fill-color);\n",
              "      border-top-color: var(--fill-color);\n",
              "    }\n",
              "    30% {\n",
              "      border-color: transparent;\n",
              "      border-left-color: var(--fill-color);\n",
              "      border-top-color: var(--fill-color);\n",
              "      border-right-color: var(--fill-color);\n",
              "    }\n",
              "    40% {\n",
              "      border-color: transparent;\n",
              "      border-right-color: var(--fill-color);\n",
              "      border-top-color: var(--fill-color);\n",
              "    }\n",
              "    60% {\n",
              "      border-color: transparent;\n",
              "      border-right-color: var(--fill-color);\n",
              "    }\n",
              "    80% {\n",
              "      border-color: transparent;\n",
              "      border-right-color: var(--fill-color);\n",
              "      border-bottom-color: var(--fill-color);\n",
              "    }\n",
              "    90% {\n",
              "      border-color: transparent;\n",
              "      border-bottom-color: var(--fill-color);\n",
              "    }\n",
              "  }\n",
              "</style>\n",
              "\n",
              "  <script>\n",
              "    async function quickchart(key) {\n",
              "      const quickchartButtonEl =\n",
              "        document.querySelector('#' + key + ' button');\n",
              "      quickchartButtonEl.disabled = true;  // To prevent multiple clicks.\n",
              "      quickchartButtonEl.classList.add('colab-df-spinner');\n",
              "      try {\n",
              "        const charts = await google.colab.kernel.invokeFunction(\n",
              "            'suggestCharts', [key], {});\n",
              "      } catch (error) {\n",
              "        console.error('Error during call to suggestCharts:', error);\n",
              "      }\n",
              "      quickchartButtonEl.classList.remove('colab-df-spinner');\n",
              "      quickchartButtonEl.classList.add('colab-df-quickchart-complete');\n",
              "    }\n",
              "    (() => {\n",
              "      let quickchartButtonEl =\n",
              "        document.querySelector('#df-8ff8634c-2a4a-4a66-8759-26105c210855 button');\n",
              "      quickchartButtonEl.style.display =\n",
              "        google.colab.kernel.accessAllowed ? 'block' : 'none';\n",
              "    })();\n",
              "  </script>\n",
              "</div>\n",
              "\n",
              "    </div>\n",
              "  </div>\n"
            ],
            "application/vnd.google.colaboratory.intrinsic+json": {
              "type": "dataframe",
              "variable_name": "df_bert"
            }
          },
          "metadata": {},
          "execution_count": 25
        }
      ],
      "source": [
        "# Write your code here\n",
        "import pandas as pd\n",
        "\n",
        "file_path = r\"/content/gdrive/MyDrive/Dataset/Reviews.csv\"\n",
        "\n",
        "df_bert = pd.read_csv(file_path, usecols=['ProductId','Text'], engine='python')\n",
        "\n",
        "\n",
        "# Display the loaded dataframe\n",
        "df_bert.head()"
      ]
    },
    {
      "cell_type": "code",
      "source": [
        "bert_sample_df = pd.DataFrame(df_bert.sample(frac=0.035))\n",
        "bert_sample_df.head()"
      ],
      "metadata": {
        "colab": {
          "base_uri": "https://localhost:8080/",
          "height": 261
        },
        "id": "_xevuCCObTTP",
        "outputId": "a7ed450f-3ec4-4472-c14a-0c58f6e99689"
      },
      "execution_count": null,
      "outputs": [
        {
          "output_type": "stream",
          "name": "stderr",
          "text": [
            "/usr/local/lib/python3.10/dist-packages/ipykernel/ipkernel.py:283: DeprecationWarning: `should_run_async` will not call `transform_cell` automatically in the future. Please pass the result to `transformed_cell` argument and any exception that happen during thetransform in `preprocessing_exc_tuple` in IPython 7.17 and above.\n",
            "  and should_run_async(code)\n"
          ]
        },
        {
          "output_type": "execute_result",
          "data": {
            "text/plain": [
              "         ProductId                                               Text\n",
              "127217  B006O8AHIC  These little fruit cups of peaches are quite s...\n",
              "56997   B0006NEHLY  Our dog likes these treats. We keep them in ou...\n",
              "239621  B001E6K6B2  This was a great deal at $7.29 (subscribe & sa...\n",
              "272242  B0029O0HZS  I have tried numerous dry cat foods, but the o...\n",
              "221352  B002R6P7U8  If I'm in a hurry and there's no time to make ..."
            ],
            "text/html": [
              "\n",
              "  <div id=\"df-f7c0dfdd-8fb9-4f3e-852d-8fdba4b77ae4\" class=\"colab-df-container\">\n",
              "    <div>\n",
              "<style scoped>\n",
              "    .dataframe tbody tr th:only-of-type {\n",
              "        vertical-align: middle;\n",
              "    }\n",
              "\n",
              "    .dataframe tbody tr th {\n",
              "        vertical-align: top;\n",
              "    }\n",
              "\n",
              "    .dataframe thead th {\n",
              "        text-align: right;\n",
              "    }\n",
              "</style>\n",
              "<table border=\"1\" class=\"dataframe\">\n",
              "  <thead>\n",
              "    <tr style=\"text-align: right;\">\n",
              "      <th></th>\n",
              "      <th>ProductId</th>\n",
              "      <th>Text</th>\n",
              "    </tr>\n",
              "  </thead>\n",
              "  <tbody>\n",
              "    <tr>\n",
              "      <th>127217</th>\n",
              "      <td>B006O8AHIC</td>\n",
              "      <td>These little fruit cups of peaches are quite s...</td>\n",
              "    </tr>\n",
              "    <tr>\n",
              "      <th>56997</th>\n",
              "      <td>B0006NEHLY</td>\n",
              "      <td>Our dog likes these treats. We keep them in ou...</td>\n",
              "    </tr>\n",
              "    <tr>\n",
              "      <th>239621</th>\n",
              "      <td>B001E6K6B2</td>\n",
              "      <td>This was a great deal at $7.29 (subscribe &amp; sa...</td>\n",
              "    </tr>\n",
              "    <tr>\n",
              "      <th>272242</th>\n",
              "      <td>B0029O0HZS</td>\n",
              "      <td>I have tried numerous dry cat foods, but the o...</td>\n",
              "    </tr>\n",
              "    <tr>\n",
              "      <th>221352</th>\n",
              "      <td>B002R6P7U8</td>\n",
              "      <td>If I'm in a hurry and there's no time to make ...</td>\n",
              "    </tr>\n",
              "  </tbody>\n",
              "</table>\n",
              "</div>\n",
              "    <div class=\"colab-df-buttons\">\n",
              "\n",
              "  <div class=\"colab-df-container\">\n",
              "    <button class=\"colab-df-convert\" onclick=\"convertToInteractive('df-f7c0dfdd-8fb9-4f3e-852d-8fdba4b77ae4')\"\n",
              "            title=\"Convert this dataframe to an interactive table.\"\n",
              "            style=\"display:none;\">\n",
              "\n",
              "  <svg xmlns=\"http://www.w3.org/2000/svg\" height=\"24px\" viewBox=\"0 -960 960 960\">\n",
              "    <path d=\"M120-120v-720h720v720H120Zm60-500h600v-160H180v160Zm220 220h160v-160H400v160Zm0 220h160v-160H400v160ZM180-400h160v-160H180v160Zm440 0h160v-160H620v160ZM180-180h160v-160H180v160Zm440 0h160v-160H620v160Z\"/>\n",
              "  </svg>\n",
              "    </button>\n",
              "\n",
              "  <style>\n",
              "    .colab-df-container {\n",
              "      display:flex;\n",
              "      gap: 12px;\n",
              "    }\n",
              "\n",
              "    .colab-df-convert {\n",
              "      background-color: #E8F0FE;\n",
              "      border: none;\n",
              "      border-radius: 50%;\n",
              "      cursor: pointer;\n",
              "      display: none;\n",
              "      fill: #1967D2;\n",
              "      height: 32px;\n",
              "      padding: 0 0 0 0;\n",
              "      width: 32px;\n",
              "    }\n",
              "\n",
              "    .colab-df-convert:hover {\n",
              "      background-color: #E2EBFA;\n",
              "      box-shadow: 0px 1px 2px rgba(60, 64, 67, 0.3), 0px 1px 3px 1px rgba(60, 64, 67, 0.15);\n",
              "      fill: #174EA6;\n",
              "    }\n",
              "\n",
              "    .colab-df-buttons div {\n",
              "      margin-bottom: 4px;\n",
              "    }\n",
              "\n",
              "    [theme=dark] .colab-df-convert {\n",
              "      background-color: #3B4455;\n",
              "      fill: #D2E3FC;\n",
              "    }\n",
              "\n",
              "    [theme=dark] .colab-df-convert:hover {\n",
              "      background-color: #434B5C;\n",
              "      box-shadow: 0px 1px 3px 1px rgba(0, 0, 0, 0.15);\n",
              "      filter: drop-shadow(0px 1px 2px rgba(0, 0, 0, 0.3));\n",
              "      fill: #FFFFFF;\n",
              "    }\n",
              "  </style>\n",
              "\n",
              "    <script>\n",
              "      const buttonEl =\n",
              "        document.querySelector('#df-f7c0dfdd-8fb9-4f3e-852d-8fdba4b77ae4 button.colab-df-convert');\n",
              "      buttonEl.style.display =\n",
              "        google.colab.kernel.accessAllowed ? 'block' : 'none';\n",
              "\n",
              "      async function convertToInteractive(key) {\n",
              "        const element = document.querySelector('#df-f7c0dfdd-8fb9-4f3e-852d-8fdba4b77ae4');\n",
              "        const dataTable =\n",
              "          await google.colab.kernel.invokeFunction('convertToInteractive',\n",
              "                                                    [key], {});\n",
              "        if (!dataTable) return;\n",
              "\n",
              "        const docLinkHtml = 'Like what you see? Visit the ' +\n",
              "          '<a target=\"_blank\" href=https://colab.research.google.com/notebooks/data_table.ipynb>data table notebook</a>'\n",
              "          + ' to learn more about interactive tables.';\n",
              "        element.innerHTML = '';\n",
              "        dataTable['output_type'] = 'display_data';\n",
              "        await google.colab.output.renderOutput(dataTable, element);\n",
              "        const docLink = document.createElement('div');\n",
              "        docLink.innerHTML = docLinkHtml;\n",
              "        element.appendChild(docLink);\n",
              "      }\n",
              "    </script>\n",
              "  </div>\n",
              "\n",
              "\n",
              "<div id=\"df-7b4f0c65-bd6e-41dc-a819-d748fcfd576f\">\n",
              "  <button class=\"colab-df-quickchart\" onclick=\"quickchart('df-7b4f0c65-bd6e-41dc-a819-d748fcfd576f')\"\n",
              "            title=\"Suggest charts\"\n",
              "            style=\"display:none;\">\n",
              "\n",
              "<svg xmlns=\"http://www.w3.org/2000/svg\" height=\"24px\"viewBox=\"0 0 24 24\"\n",
              "     width=\"24px\">\n",
              "    <g>\n",
              "        <path d=\"M19 3H5c-1.1 0-2 .9-2 2v14c0 1.1.9 2 2 2h14c1.1 0 2-.9 2-2V5c0-1.1-.9-2-2-2zM9 17H7v-7h2v7zm4 0h-2V7h2v10zm4 0h-2v-4h2v4z\"/>\n",
              "    </g>\n",
              "</svg>\n",
              "  </button>\n",
              "\n",
              "<style>\n",
              "  .colab-df-quickchart {\n",
              "      --bg-color: #E8F0FE;\n",
              "      --fill-color: #1967D2;\n",
              "      --hover-bg-color: #E2EBFA;\n",
              "      --hover-fill-color: #174EA6;\n",
              "      --disabled-fill-color: #AAA;\n",
              "      --disabled-bg-color: #DDD;\n",
              "  }\n",
              "\n",
              "  [theme=dark] .colab-df-quickchart {\n",
              "      --bg-color: #3B4455;\n",
              "      --fill-color: #D2E3FC;\n",
              "      --hover-bg-color: #434B5C;\n",
              "      --hover-fill-color: #FFFFFF;\n",
              "      --disabled-bg-color: #3B4455;\n",
              "      --disabled-fill-color: #666;\n",
              "  }\n",
              "\n",
              "  .colab-df-quickchart {\n",
              "    background-color: var(--bg-color);\n",
              "    border: none;\n",
              "    border-radius: 50%;\n",
              "    cursor: pointer;\n",
              "    display: none;\n",
              "    fill: var(--fill-color);\n",
              "    height: 32px;\n",
              "    padding: 0;\n",
              "    width: 32px;\n",
              "  }\n",
              "\n",
              "  .colab-df-quickchart:hover {\n",
              "    background-color: var(--hover-bg-color);\n",
              "    box-shadow: 0 1px 2px rgba(60, 64, 67, 0.3), 0 1px 3px 1px rgba(60, 64, 67, 0.15);\n",
              "    fill: var(--button-hover-fill-color);\n",
              "  }\n",
              "\n",
              "  .colab-df-quickchart-complete:disabled,\n",
              "  .colab-df-quickchart-complete:disabled:hover {\n",
              "    background-color: var(--disabled-bg-color);\n",
              "    fill: var(--disabled-fill-color);\n",
              "    box-shadow: none;\n",
              "  }\n",
              "\n",
              "  .colab-df-spinner {\n",
              "    border: 2px solid var(--fill-color);\n",
              "    border-color: transparent;\n",
              "    border-bottom-color: var(--fill-color);\n",
              "    animation:\n",
              "      spin 1s steps(1) infinite;\n",
              "  }\n",
              "\n",
              "  @keyframes spin {\n",
              "    0% {\n",
              "      border-color: transparent;\n",
              "      border-bottom-color: var(--fill-color);\n",
              "      border-left-color: var(--fill-color);\n",
              "    }\n",
              "    20% {\n",
              "      border-color: transparent;\n",
              "      border-left-color: var(--fill-color);\n",
              "      border-top-color: var(--fill-color);\n",
              "    }\n",
              "    30% {\n",
              "      border-color: transparent;\n",
              "      border-left-color: var(--fill-color);\n",
              "      border-top-color: var(--fill-color);\n",
              "      border-right-color: var(--fill-color);\n",
              "    }\n",
              "    40% {\n",
              "      border-color: transparent;\n",
              "      border-right-color: var(--fill-color);\n",
              "      border-top-color: var(--fill-color);\n",
              "    }\n",
              "    60% {\n",
              "      border-color: transparent;\n",
              "      border-right-color: var(--fill-color);\n",
              "    }\n",
              "    80% {\n",
              "      border-color: transparent;\n",
              "      border-right-color: var(--fill-color);\n",
              "      border-bottom-color: var(--fill-color);\n",
              "    }\n",
              "    90% {\n",
              "      border-color: transparent;\n",
              "      border-bottom-color: var(--fill-color);\n",
              "    }\n",
              "  }\n",
              "</style>\n",
              "\n",
              "  <script>\n",
              "    async function quickchart(key) {\n",
              "      const quickchartButtonEl =\n",
              "        document.querySelector('#' + key + ' button');\n",
              "      quickchartButtonEl.disabled = true;  // To prevent multiple clicks.\n",
              "      quickchartButtonEl.classList.add('colab-df-spinner');\n",
              "      try {\n",
              "        const charts = await google.colab.kernel.invokeFunction(\n",
              "            'suggestCharts', [key], {});\n",
              "      } catch (error) {\n",
              "        console.error('Error during call to suggestCharts:', error);\n",
              "      }\n",
              "      quickchartButtonEl.classList.remove('colab-df-spinner');\n",
              "      quickchartButtonEl.classList.add('colab-df-quickchart-complete');\n",
              "    }\n",
              "    (() => {\n",
              "      let quickchartButtonEl =\n",
              "        document.querySelector('#df-7b4f0c65-bd6e-41dc-a819-d748fcfd576f button');\n",
              "      quickchartButtonEl.style.display =\n",
              "        google.colab.kernel.accessAllowed ? 'block' : 'none';\n",
              "    })();\n",
              "  </script>\n",
              "</div>\n",
              "\n",
              "    </div>\n",
              "  </div>\n"
            ],
            "application/vnd.google.colaboratory.intrinsic+json": {
              "type": "dataframe",
              "variable_name": "bert_sample_df",
              "summary": "{\n  \"name\": \"bert_sample_df\",\n  \"rows\": 19896,\n  \"fields\": [\n    {\n      \"column\": \"ProductId\",\n      \"properties\": {\n        \"dtype\": \"string\",\n        \"num_unique_values\": 11083,\n        \"samples\": [\n          \"B000F3S6JY\",\n          \"B0009C9IZC\",\n          \"B00687ZUZY\"\n        ],\n        \"semantic_type\": \"\",\n        \"description\": \"\"\n      }\n    },\n    {\n      \"column\": \"Text\",\n      \"properties\": {\n        \"dtype\": \"string\",\n        \"num_unique_values\": 19257,\n        \"samples\": [\n          \"When it comes to cookies, especially the soft cookies, I'm usually the first in line.  So I was excited to see the new Chips Ahoy! Chewy Gooey Megafudge cookies.  Unfortunately, the megafudge description never made it into my package.  It turned out to be a major letdown.<br /><br />Now, these cookies seemed to have plenty of chocolate, but you never could taste it.  In fact, they were bland.  The cookies were a bit on the dry side with moments of gooey morsels that did little to introduce flavor of their own.  It's hard to downplay a cookie described as megafudge as not having much taste, but it's true.  Hopefully the other varities are more appealing.\",\n          \"<a href=\\\"http://www.amazon.com/gp/product/B000GWHFZA\\\">Cavender's All Purpose Salt Free Greek Seasoning 7 oz (NO MSG)</a><br />I first learned about this Seasoning at the Orange County California Fair, where it was used on Fried Zuccini. I latter started using on Breakfast<br />Eggs. I have used it on various other meats, but it is better on Sea Food, particularly Scallops. I prefer the Salt Free version as unlike the original version it has No MSG or Salt. Both are equal in taste, but it is the individual judgement that will prevail.<br /><br />E L Smith\",\n          \"I tried this product solely for the fact it has Wolfgang's name on it.  I should have stuck with Timothy's brand.  This was way too strong to be labeled a breakfast coffee, more like a dinner coffee.  I will not be buying this again, also way too expensive compared to the others.\"\n        ],\n        \"semantic_type\": \"\",\n        \"description\": \"\"\n      }\n    }\n  ]\n}"
            }
          },
          "metadata": {},
          "execution_count": 26
        }
      ]
    },
    {
      "cell_type": "code",
      "source": [
        "print(len(bert_sample_df))"
      ],
      "metadata": {
        "colab": {
          "base_uri": "https://localhost:8080/"
        },
        "id": "xs5NDeImbmxT",
        "outputId": "18d9ae72-69a4-4d17-a545-8545e76583e4"
      },
      "execution_count": null,
      "outputs": [
        {
          "output_type": "stream",
          "name": "stdout",
          "text": [
            "19896\n"
          ]
        },
        {
          "output_type": "stream",
          "name": "stderr",
          "text": [
            "/usr/local/lib/python3.10/dist-packages/ipykernel/ipkernel.py:283: DeprecationWarning: `should_run_async` will not call `transform_cell` automatically in the future. Please pass the result to `transformed_cell` argument and any exception that happen during thetransform in `preprocessing_exc_tuple` in IPython 7.17 and above.\n",
            "  and should_run_async(code)\n"
          ]
        }
      ]
    },
    {
      "cell_type": "code",
      "source": [
        "import re\n",
        "import nltk\n",
        "from nltk.corpus import stopwords\n",
        "from nltk.tokenize import word_tokenize\n",
        "\n",
        "nltk.download('stopwords')\n",
        "nltk.download('punkt')\n",
        "\n",
        "stop_words = stopwords.words('english')\n",
        "\n",
        "def clean_text(x):\n",
        "  x = str(x)\n",
        "  x = x.lower()\n",
        "  x = re.sub(r'#[A-Za-z0-9]*', ' ', x)\n",
        "  x = re.sub(r'https*://.*', ' ', x)\n",
        "  x = re.sub(r'@[A-Za-z0-9]+', ' ', x)\n",
        "  tokens = word_tokenize(x)\n",
        "  x = ' '.join([w for w in tokens if not w.lower() in stop_words])\n",
        "  x = re.sub(r'[%s]' % re.escape('!\"#$%&\\()*+,-./:;<=>?@[\\\\]^_`{|}~“…”’'), ' ', x)\n",
        "  x = re.sub(r'\\d+', ' ', x)\n",
        "  x = re.sub(r'\\n+', ' ', x)\n",
        "  x = re.sub(r'\\s{2,}', ' ', x)\n",
        "  return x\n",
        "\n",
        "\n",
        "bert_sample_df['clean_text'] = df_bert['Text'].apply(clean_text)\n",
        "bert_sample_df.head()"
      ],
      "metadata": {
        "colab": {
          "base_uri": "https://localhost:8080/",
          "height": 399
        },
        "id": "KrkH97C7ctcL",
        "outputId": "44360783-350e-435a-cfb4-fe9954fd7ab4"
      },
      "execution_count": null,
      "outputs": [
        {
          "output_type": "stream",
          "name": "stderr",
          "text": [
            "/usr/local/lib/python3.10/dist-packages/ipykernel/ipkernel.py:283: DeprecationWarning: `should_run_async` will not call `transform_cell` automatically in the future. Please pass the result to `transformed_cell` argument and any exception that happen during thetransform in `preprocessing_exc_tuple` in IPython 7.17 and above.\n",
            "  and should_run_async(code)\n",
            "<>:19: DeprecationWarning: invalid escape sequence '\\('\n",
            "<>:19: DeprecationWarning: invalid escape sequence '\\('\n",
            "<ipython-input-28-cd87927e00dc>:19: DeprecationWarning: invalid escape sequence '\\('\n",
            "  x = re.sub(r'[%s]' % re.escape('!\"#$%&\\()*+,-./:;<=>?@[\\\\]^_`{|}~“…”’'), ' ', x)\n",
            "[nltk_data] Downloading package stopwords to /root/nltk_data...\n",
            "[nltk_data]   Unzipping corpora/stopwords.zip.\n",
            "[nltk_data] Downloading package punkt to /root/nltk_data...\n",
            "[nltk_data]   Unzipping tokenizers/punkt.zip.\n"
          ]
        },
        {
          "output_type": "execute_result",
          "data": {
            "text/plain": [
              "         ProductId                                               Text  \\\n",
              "127217  B006O8AHIC  These little fruit cups of peaches are quite s...   \n",
              "56997   B0006NEHLY  Our dog likes these treats. We keep them in ou...   \n",
              "239621  B001E6K6B2  This was a great deal at $7.29 (subscribe & sa...   \n",
              "272242  B0029O0HZS  I have tried numerous dry cat foods, but the o...   \n",
              "221352  B002R6P7U8  If I'm in a hurry and there's no time to make ...   \n",
              "\n",
              "                                               clean_text  \n",
              "127217  little fruit cups peaches quite scrumptious pa...  \n",
              "56997   dog likes treats keep laundry room everytime g...  \n",
              "239621     great deal subscribe save night doubled price   \n",
              "272242  tried numerous dry cat foods one cats like bes...  \n",
              "221352  'm hurry 's time make coffee like starbuck 's ...  "
            ],
            "text/html": [
              "\n",
              "  <div id=\"df-5f4da0a8-314a-4422-b1e3-dc8469aedba0\" class=\"colab-df-container\">\n",
              "    <div>\n",
              "<style scoped>\n",
              "    .dataframe tbody tr th:only-of-type {\n",
              "        vertical-align: middle;\n",
              "    }\n",
              "\n",
              "    .dataframe tbody tr th {\n",
              "        vertical-align: top;\n",
              "    }\n",
              "\n",
              "    .dataframe thead th {\n",
              "        text-align: right;\n",
              "    }\n",
              "</style>\n",
              "<table border=\"1\" class=\"dataframe\">\n",
              "  <thead>\n",
              "    <tr style=\"text-align: right;\">\n",
              "      <th></th>\n",
              "      <th>ProductId</th>\n",
              "      <th>Text</th>\n",
              "      <th>clean_text</th>\n",
              "    </tr>\n",
              "  </thead>\n",
              "  <tbody>\n",
              "    <tr>\n",
              "      <th>127217</th>\n",
              "      <td>B006O8AHIC</td>\n",
              "      <td>These little fruit cups of peaches are quite s...</td>\n",
              "      <td>little fruit cups peaches quite scrumptious pa...</td>\n",
              "    </tr>\n",
              "    <tr>\n",
              "      <th>56997</th>\n",
              "      <td>B0006NEHLY</td>\n",
              "      <td>Our dog likes these treats. We keep them in ou...</td>\n",
              "      <td>dog likes treats keep laundry room everytime g...</td>\n",
              "    </tr>\n",
              "    <tr>\n",
              "      <th>239621</th>\n",
              "      <td>B001E6K6B2</td>\n",
              "      <td>This was a great deal at $7.29 (subscribe &amp; sa...</td>\n",
              "      <td>great deal subscribe save night doubled price</td>\n",
              "    </tr>\n",
              "    <tr>\n",
              "      <th>272242</th>\n",
              "      <td>B0029O0HZS</td>\n",
              "      <td>I have tried numerous dry cat foods, but the o...</td>\n",
              "      <td>tried numerous dry cat foods one cats like bes...</td>\n",
              "    </tr>\n",
              "    <tr>\n",
              "      <th>221352</th>\n",
              "      <td>B002R6P7U8</td>\n",
              "      <td>If I'm in a hurry and there's no time to make ...</td>\n",
              "      <td>'m hurry 's time make coffee like starbuck 's ...</td>\n",
              "    </tr>\n",
              "  </tbody>\n",
              "</table>\n",
              "</div>\n",
              "    <div class=\"colab-df-buttons\">\n",
              "\n",
              "  <div class=\"colab-df-container\">\n",
              "    <button class=\"colab-df-convert\" onclick=\"convertToInteractive('df-5f4da0a8-314a-4422-b1e3-dc8469aedba0')\"\n",
              "            title=\"Convert this dataframe to an interactive table.\"\n",
              "            style=\"display:none;\">\n",
              "\n",
              "  <svg xmlns=\"http://www.w3.org/2000/svg\" height=\"24px\" viewBox=\"0 -960 960 960\">\n",
              "    <path d=\"M120-120v-720h720v720H120Zm60-500h600v-160H180v160Zm220 220h160v-160H400v160Zm0 220h160v-160H400v160ZM180-400h160v-160H180v160Zm440 0h160v-160H620v160ZM180-180h160v-160H180v160Zm440 0h160v-160H620v160Z\"/>\n",
              "  </svg>\n",
              "    </button>\n",
              "\n",
              "  <style>\n",
              "    .colab-df-container {\n",
              "      display:flex;\n",
              "      gap: 12px;\n",
              "    }\n",
              "\n",
              "    .colab-df-convert {\n",
              "      background-color: #E8F0FE;\n",
              "      border: none;\n",
              "      border-radius: 50%;\n",
              "      cursor: pointer;\n",
              "      display: none;\n",
              "      fill: #1967D2;\n",
              "      height: 32px;\n",
              "      padding: 0 0 0 0;\n",
              "      width: 32px;\n",
              "    }\n",
              "\n",
              "    .colab-df-convert:hover {\n",
              "      background-color: #E2EBFA;\n",
              "      box-shadow: 0px 1px 2px rgba(60, 64, 67, 0.3), 0px 1px 3px 1px rgba(60, 64, 67, 0.15);\n",
              "      fill: #174EA6;\n",
              "    }\n",
              "\n",
              "    .colab-df-buttons div {\n",
              "      margin-bottom: 4px;\n",
              "    }\n",
              "\n",
              "    [theme=dark] .colab-df-convert {\n",
              "      background-color: #3B4455;\n",
              "      fill: #D2E3FC;\n",
              "    }\n",
              "\n",
              "    [theme=dark] .colab-df-convert:hover {\n",
              "      background-color: #434B5C;\n",
              "      box-shadow: 0px 1px 3px 1px rgba(0, 0, 0, 0.15);\n",
              "      filter: drop-shadow(0px 1px 2px rgba(0, 0, 0, 0.3));\n",
              "      fill: #FFFFFF;\n",
              "    }\n",
              "  </style>\n",
              "\n",
              "    <script>\n",
              "      const buttonEl =\n",
              "        document.querySelector('#df-5f4da0a8-314a-4422-b1e3-dc8469aedba0 button.colab-df-convert');\n",
              "      buttonEl.style.display =\n",
              "        google.colab.kernel.accessAllowed ? 'block' : 'none';\n",
              "\n",
              "      async function convertToInteractive(key) {\n",
              "        const element = document.querySelector('#df-5f4da0a8-314a-4422-b1e3-dc8469aedba0');\n",
              "        const dataTable =\n",
              "          await google.colab.kernel.invokeFunction('convertToInteractive',\n",
              "                                                    [key], {});\n",
              "        if (!dataTable) return;\n",
              "\n",
              "        const docLinkHtml = 'Like what you see? Visit the ' +\n",
              "          '<a target=\"_blank\" href=https://colab.research.google.com/notebooks/data_table.ipynb>data table notebook</a>'\n",
              "          + ' to learn more about interactive tables.';\n",
              "        element.innerHTML = '';\n",
              "        dataTable['output_type'] = 'display_data';\n",
              "        await google.colab.output.renderOutput(dataTable, element);\n",
              "        const docLink = document.createElement('div');\n",
              "        docLink.innerHTML = docLinkHtml;\n",
              "        element.appendChild(docLink);\n",
              "      }\n",
              "    </script>\n",
              "  </div>\n",
              "\n",
              "\n",
              "<div id=\"df-3553faa2-bbfb-468e-86c0-9b7bef81e39a\">\n",
              "  <button class=\"colab-df-quickchart\" onclick=\"quickchart('df-3553faa2-bbfb-468e-86c0-9b7bef81e39a')\"\n",
              "            title=\"Suggest charts\"\n",
              "            style=\"display:none;\">\n",
              "\n",
              "<svg xmlns=\"http://www.w3.org/2000/svg\" height=\"24px\"viewBox=\"0 0 24 24\"\n",
              "     width=\"24px\">\n",
              "    <g>\n",
              "        <path d=\"M19 3H5c-1.1 0-2 .9-2 2v14c0 1.1.9 2 2 2h14c1.1 0 2-.9 2-2V5c0-1.1-.9-2-2-2zM9 17H7v-7h2v7zm4 0h-2V7h2v10zm4 0h-2v-4h2v4z\"/>\n",
              "    </g>\n",
              "</svg>\n",
              "  </button>\n",
              "\n",
              "<style>\n",
              "  .colab-df-quickchart {\n",
              "      --bg-color: #E8F0FE;\n",
              "      --fill-color: #1967D2;\n",
              "      --hover-bg-color: #E2EBFA;\n",
              "      --hover-fill-color: #174EA6;\n",
              "      --disabled-fill-color: #AAA;\n",
              "      --disabled-bg-color: #DDD;\n",
              "  }\n",
              "\n",
              "  [theme=dark] .colab-df-quickchart {\n",
              "      --bg-color: #3B4455;\n",
              "      --fill-color: #D2E3FC;\n",
              "      --hover-bg-color: #434B5C;\n",
              "      --hover-fill-color: #FFFFFF;\n",
              "      --disabled-bg-color: #3B4455;\n",
              "      --disabled-fill-color: #666;\n",
              "  }\n",
              "\n",
              "  .colab-df-quickchart {\n",
              "    background-color: var(--bg-color);\n",
              "    border: none;\n",
              "    border-radius: 50%;\n",
              "    cursor: pointer;\n",
              "    display: none;\n",
              "    fill: var(--fill-color);\n",
              "    height: 32px;\n",
              "    padding: 0;\n",
              "    width: 32px;\n",
              "  }\n",
              "\n",
              "  .colab-df-quickchart:hover {\n",
              "    background-color: var(--hover-bg-color);\n",
              "    box-shadow: 0 1px 2px rgba(60, 64, 67, 0.3), 0 1px 3px 1px rgba(60, 64, 67, 0.15);\n",
              "    fill: var(--button-hover-fill-color);\n",
              "  }\n",
              "\n",
              "  .colab-df-quickchart-complete:disabled,\n",
              "  .colab-df-quickchart-complete:disabled:hover {\n",
              "    background-color: var(--disabled-bg-color);\n",
              "    fill: var(--disabled-fill-color);\n",
              "    box-shadow: none;\n",
              "  }\n",
              "\n",
              "  .colab-df-spinner {\n",
              "    border: 2px solid var(--fill-color);\n",
              "    border-color: transparent;\n",
              "    border-bottom-color: var(--fill-color);\n",
              "    animation:\n",
              "      spin 1s steps(1) infinite;\n",
              "  }\n",
              "\n",
              "  @keyframes spin {\n",
              "    0% {\n",
              "      border-color: transparent;\n",
              "      border-bottom-color: var(--fill-color);\n",
              "      border-left-color: var(--fill-color);\n",
              "    }\n",
              "    20% {\n",
              "      border-color: transparent;\n",
              "      border-left-color: var(--fill-color);\n",
              "      border-top-color: var(--fill-color);\n",
              "    }\n",
              "    30% {\n",
              "      border-color: transparent;\n",
              "      border-left-color: var(--fill-color);\n",
              "      border-top-color: var(--fill-color);\n",
              "      border-right-color: var(--fill-color);\n",
              "    }\n",
              "    40% {\n",
              "      border-color: transparent;\n",
              "      border-right-color: var(--fill-color);\n",
              "      border-top-color: var(--fill-color);\n",
              "    }\n",
              "    60% {\n",
              "      border-color: transparent;\n",
              "      border-right-color: var(--fill-color);\n",
              "    }\n",
              "    80% {\n",
              "      border-color: transparent;\n",
              "      border-right-color: var(--fill-color);\n",
              "      border-bottom-color: var(--fill-color);\n",
              "    }\n",
              "    90% {\n",
              "      border-color: transparent;\n",
              "      border-bottom-color: var(--fill-color);\n",
              "    }\n",
              "  }\n",
              "</style>\n",
              "\n",
              "  <script>\n",
              "    async function quickchart(key) {\n",
              "      const quickchartButtonEl =\n",
              "        document.querySelector('#' + key + ' button');\n",
              "      quickchartButtonEl.disabled = true;  // To prevent multiple clicks.\n",
              "      quickchartButtonEl.classList.add('colab-df-spinner');\n",
              "      try {\n",
              "        const charts = await google.colab.kernel.invokeFunction(\n",
              "            'suggestCharts', [key], {});\n",
              "      } catch (error) {\n",
              "        console.error('Error during call to suggestCharts:', error);\n",
              "      }\n",
              "      quickchartButtonEl.classList.remove('colab-df-spinner');\n",
              "      quickchartButtonEl.classList.add('colab-df-quickchart-complete');\n",
              "    }\n",
              "    (() => {\n",
              "      let quickchartButtonEl =\n",
              "        document.querySelector('#df-3553faa2-bbfb-468e-86c0-9b7bef81e39a button');\n",
              "      quickchartButtonEl.style.display =\n",
              "        google.colab.kernel.accessAllowed ? 'block' : 'none';\n",
              "    })();\n",
              "  </script>\n",
              "</div>\n",
              "\n",
              "    </div>\n",
              "  </div>\n"
            ],
            "application/vnd.google.colaboratory.intrinsic+json": {
              "type": "dataframe",
              "variable_name": "bert_sample_df",
              "summary": "{\n  \"name\": \"bert_sample_df\",\n  \"rows\": 19896,\n  \"fields\": [\n    {\n      \"column\": \"ProductId\",\n      \"properties\": {\n        \"dtype\": \"string\",\n        \"num_unique_values\": 11083,\n        \"samples\": [\n          \"B000F3S6JY\",\n          \"B0009C9IZC\",\n          \"B00687ZUZY\"\n        ],\n        \"semantic_type\": \"\",\n        \"description\": \"\"\n      }\n    },\n    {\n      \"column\": \"Text\",\n      \"properties\": {\n        \"dtype\": \"string\",\n        \"num_unique_values\": 19257,\n        \"samples\": [\n          \"When it comes to cookies, especially the soft cookies, I'm usually the first in line.  So I was excited to see the new Chips Ahoy! Chewy Gooey Megafudge cookies.  Unfortunately, the megafudge description never made it into my package.  It turned out to be a major letdown.<br /><br />Now, these cookies seemed to have plenty of chocolate, but you never could taste it.  In fact, they were bland.  The cookies were a bit on the dry side with moments of gooey morsels that did little to introduce flavor of their own.  It's hard to downplay a cookie described as megafudge as not having much taste, but it's true.  Hopefully the other varities are more appealing.\",\n          \"<a href=\\\"http://www.amazon.com/gp/product/B000GWHFZA\\\">Cavender's All Purpose Salt Free Greek Seasoning 7 oz (NO MSG)</a><br />I first learned about this Seasoning at the Orange County California Fair, where it was used on Fried Zuccini. I latter started using on Breakfast<br />Eggs. I have used it on various other meats, but it is better on Sea Food, particularly Scallops. I prefer the Salt Free version as unlike the original version it has No MSG or Salt. Both are equal in taste, but it is the individual judgement that will prevail.<br /><br />E L Smith\",\n          \"I tried this product solely for the fact it has Wolfgang's name on it.  I should have stuck with Timothy's brand.  This was way too strong to be labeled a breakfast coffee, more like a dinner coffee.  I will not be buying this again, also way too expensive compared to the others.\"\n        ],\n        \"semantic_type\": \"\",\n        \"description\": \"\"\n      }\n    },\n    {\n      \"column\": \"clean_text\",\n      \"properties\": {\n        \"dtype\": \"string\",\n        \"num_unique_values\": 19203,\n        \"samples\": [\n          \"tried many different k cups tully 's favorite like taste little sweet n't much acid 's perfect first cup coffee well time day night really good coffee \",\n          \"love balsamic 'll admit first attracted elegant packaging quite happily surprised inside package good balsamic quite lovely tongue makes great gift great olive oil course best hostess gift foodies sublime salads practically everywhere else want good balsamic \",\n          \"understand complaints science diet believe avoided food quite awhile based information 'm thrilled filler would prefer food by products yes general think priced cat throwing everything else mean everything else tried many top line foods every single one threw took vet xrays done blood work done put antibotics case nothing perfectly healthy cat except throwing food times week talked mom siamese cats lived thier late teens said fed science diet fact one urninary tract problems sd food stopped problems yes understand everything everyone saying sd horrible yet ca n't argue results fed cat 's weeks vomiting mom fed cats lived long healthy lives ca n't argue results even risks 's worth poor kitty completely emptying stomach times week food making sick cat keeps throwing 've vet check nothing wrong food working try food really work cat \"\n        ],\n        \"semantic_type\": \"\",\n        \"description\": \"\"\n      }\n    }\n  ]\n}"
            }
          },
          "metadata": {},
          "execution_count": 28
        }
      ]
    },
    {
      "cell_type": "code",
      "source": [
        "! pip install bertopic"
      ],
      "metadata": {
        "colab": {
          "base_uri": "https://localhost:8080/"
        },
        "collapsed": true,
        "id": "COYfdt38gQO6",
        "outputId": "e7af0951-f434-400d-8ea4-94c848bd7be3"
      },
      "execution_count": null,
      "outputs": [
        {
          "output_type": "stream",
          "name": "stderr",
          "text": [
            "/usr/local/lib/python3.10/dist-packages/ipykernel/ipkernel.py:283: DeprecationWarning: `should_run_async` will not call `transform_cell` automatically in the future. Please pass the result to `transformed_cell` argument and any exception that happen during thetransform in `preprocessing_exc_tuple` in IPython 7.17 and above.\n",
            "  and should_run_async(code)\n"
          ]
        },
        {
          "output_type": "stream",
          "name": "stdout",
          "text": [
            "Requirement already satisfied: bertopic in /usr/local/lib/python3.10/dist-packages (0.16.4)\n",
            "Requirement already satisfied: hdbscan>=0.8.29 in /usr/local/lib/python3.10/dist-packages (from bertopic) (0.8.39)\n",
            "Requirement already satisfied: numpy>=1.20.0 in /usr/local/lib/python3.10/dist-packages (from bertopic) (1.26.4)\n",
            "Requirement already satisfied: pandas>=1.1.5 in /usr/local/lib/python3.10/dist-packages (from bertopic) (2.2.2)\n",
            "Requirement already satisfied: plotly>=4.7.0 in /usr/local/lib/python3.10/dist-packages (from bertopic) (5.24.1)\n",
            "Requirement already satisfied: scikit-learn>=0.22.2.post1 in /usr/local/lib/python3.10/dist-packages (from bertopic) (1.5.2)\n",
            "Requirement already satisfied: sentence-transformers>=0.4.1 in /usr/local/lib/python3.10/dist-packages (from bertopic) (3.2.1)\n",
            "Requirement already satisfied: tqdm>=4.41.1 in /usr/local/lib/python3.10/dist-packages (from bertopic) (4.66.6)\n",
            "Requirement already satisfied: umap-learn>=0.5.0 in /usr/local/lib/python3.10/dist-packages (from bertopic) (0.5.7)\n",
            "Requirement already satisfied: scipy>=1.0 in /usr/local/lib/python3.10/dist-packages (from hdbscan>=0.8.29->bertopic) (1.13.1)\n",
            "Requirement already satisfied: joblib>=1.0 in /usr/local/lib/python3.10/dist-packages (from hdbscan>=0.8.29->bertopic) (1.4.2)\n",
            "Requirement already satisfied: python-dateutil>=2.8.2 in /usr/local/lib/python3.10/dist-packages (from pandas>=1.1.5->bertopic) (2.8.2)\n",
            "Requirement already satisfied: pytz>=2020.1 in /usr/local/lib/python3.10/dist-packages (from pandas>=1.1.5->bertopic) (2024.2)\n",
            "Requirement already satisfied: tzdata>=2022.7 in /usr/local/lib/python3.10/dist-packages (from pandas>=1.1.5->bertopic) (2024.2)\n",
            "Requirement already satisfied: tenacity>=6.2.0 in /usr/local/lib/python3.10/dist-packages (from plotly>=4.7.0->bertopic) (9.0.0)\n",
            "Requirement already satisfied: packaging in /usr/local/lib/python3.10/dist-packages (from plotly>=4.7.0->bertopic) (24.1)\n",
            "Requirement already satisfied: threadpoolctl>=3.1.0 in /usr/local/lib/python3.10/dist-packages (from scikit-learn>=0.22.2.post1->bertopic) (3.5.0)\n",
            "Requirement already satisfied: transformers<5.0.0,>=4.41.0 in /usr/local/lib/python3.10/dist-packages (from sentence-transformers>=0.4.1->bertopic) (4.44.2)\n",
            "Requirement already satisfied: torch>=1.11.0 in /usr/local/lib/python3.10/dist-packages (from sentence-transformers>=0.4.1->bertopic) (2.5.0+cu121)\n",
            "Requirement already satisfied: huggingface-hub>=0.20.0 in /usr/local/lib/python3.10/dist-packages (from sentence-transformers>=0.4.1->bertopic) (0.24.7)\n",
            "Requirement already satisfied: Pillow in /usr/local/lib/python3.10/dist-packages (from sentence-transformers>=0.4.1->bertopic) (10.4.0)\n",
            "Requirement already satisfied: numba>=0.51.2 in /usr/local/lib/python3.10/dist-packages (from umap-learn>=0.5.0->bertopic) (0.60.0)\n",
            "Requirement already satisfied: pynndescent>=0.5 in /usr/local/lib/python3.10/dist-packages (from umap-learn>=0.5.0->bertopic) (0.5.13)\n",
            "Requirement already satisfied: filelock in /usr/local/lib/python3.10/dist-packages (from huggingface-hub>=0.20.0->sentence-transformers>=0.4.1->bertopic) (3.16.1)\n",
            "Requirement already satisfied: fsspec>=2023.5.0 in /usr/local/lib/python3.10/dist-packages (from huggingface-hub>=0.20.0->sentence-transformers>=0.4.1->bertopic) (2024.10.0)\n",
            "Requirement already satisfied: pyyaml>=5.1 in /usr/local/lib/python3.10/dist-packages (from huggingface-hub>=0.20.0->sentence-transformers>=0.4.1->bertopic) (6.0.2)\n",
            "Requirement already satisfied: requests in /usr/local/lib/python3.10/dist-packages (from huggingface-hub>=0.20.0->sentence-transformers>=0.4.1->bertopic) (2.32.3)\n",
            "Requirement already satisfied: typing-extensions>=3.7.4.3 in /usr/local/lib/python3.10/dist-packages (from huggingface-hub>=0.20.0->sentence-transformers>=0.4.1->bertopic) (4.12.2)\n",
            "Requirement already satisfied: llvmlite<0.44,>=0.43.0dev0 in /usr/local/lib/python3.10/dist-packages (from numba>=0.51.2->umap-learn>=0.5.0->bertopic) (0.43.0)\n",
            "Requirement already satisfied: six>=1.5 in /usr/local/lib/python3.10/dist-packages (from python-dateutil>=2.8.2->pandas>=1.1.5->bertopic) (1.16.0)\n",
            "Requirement already satisfied: networkx in /usr/local/lib/python3.10/dist-packages (from torch>=1.11.0->sentence-transformers>=0.4.1->bertopic) (3.4.2)\n",
            "Requirement already satisfied: jinja2 in /usr/local/lib/python3.10/dist-packages (from torch>=1.11.0->sentence-transformers>=0.4.1->bertopic) (3.1.4)\n",
            "Requirement already satisfied: sympy==1.13.1 in /usr/local/lib/python3.10/dist-packages (from torch>=1.11.0->sentence-transformers>=0.4.1->bertopic) (1.13.1)\n",
            "Requirement already satisfied: mpmath<1.4,>=1.1.0 in /usr/local/lib/python3.10/dist-packages (from sympy==1.13.1->torch>=1.11.0->sentence-transformers>=0.4.1->bertopic) (1.3.0)\n",
            "Requirement already satisfied: regex!=2019.12.17 in /usr/local/lib/python3.10/dist-packages (from transformers<5.0.0,>=4.41.0->sentence-transformers>=0.4.1->bertopic) (2024.9.11)\n",
            "Requirement already satisfied: safetensors>=0.4.1 in /usr/local/lib/python3.10/dist-packages (from transformers<5.0.0,>=4.41.0->sentence-transformers>=0.4.1->bertopic) (0.4.5)\n",
            "Requirement already satisfied: tokenizers<0.20,>=0.19 in /usr/local/lib/python3.10/dist-packages (from transformers<5.0.0,>=4.41.0->sentence-transformers>=0.4.1->bertopic) (0.19.1)\n",
            "Requirement already satisfied: MarkupSafe>=2.0 in /usr/local/lib/python3.10/dist-packages (from jinja2->torch>=1.11.0->sentence-transformers>=0.4.1->bertopic) (3.0.2)\n",
            "Requirement already satisfied: charset-normalizer<4,>=2 in /usr/local/lib/python3.10/dist-packages (from requests->huggingface-hub>=0.20.0->sentence-transformers>=0.4.1->bertopic) (3.4.0)\n",
            "Requirement already satisfied: idna<4,>=2.5 in /usr/local/lib/python3.10/dist-packages (from requests->huggingface-hub>=0.20.0->sentence-transformers>=0.4.1->bertopic) (3.10)\n",
            "Requirement already satisfied: urllib3<3,>=1.21.1 in /usr/local/lib/python3.10/dist-packages (from requests->huggingface-hub>=0.20.0->sentence-transformers>=0.4.1->bertopic) (2.2.3)\n",
            "Requirement already satisfied: certifi>=2017.4.17 in /usr/local/lib/python3.10/dist-packages (from requests->huggingface-hub>=0.20.0->sentence-transformers>=0.4.1->bertopic) (2024.8.30)\n"
          ]
        }
      ]
    },
    {
      "cell_type": "code",
      "source": [
        "from bertopic import BERTopic"
      ],
      "metadata": {
        "id": "aNnE_5kZgTYa",
        "colab": {
          "base_uri": "https://localhost:8080/"
        },
        "outputId": "801f3fab-683f-490a-9534-069f8742393f"
      },
      "execution_count": null,
      "outputs": [
        {
          "output_type": "stream",
          "name": "stderr",
          "text": [
            "/usr/local/lib/python3.10/dist-packages/ipykernel/ipkernel.py:283: DeprecationWarning: `should_run_async` will not call `transform_cell` automatically in the future. Please pass the result to `transformed_cell` argument and any exception that happen during thetransform in `preprocessing_exc_tuple` in IPython 7.17 and above.\n",
            "  and should_run_async(code)\n"
          ]
        }
      ]
    },
    {
      "cell_type": "code",
      "source": [
        "cleaned_review = bert_sample_df['clean_text'].to_list()"
      ],
      "metadata": {
        "id": "t8gF6QxNgVcH",
        "colab": {
          "base_uri": "https://localhost:8080/"
        },
        "outputId": "6311df02-eaeb-4add-839d-86fdbd8f142e"
      },
      "execution_count": null,
      "outputs": [
        {
          "output_type": "stream",
          "name": "stderr",
          "text": [
            "/usr/local/lib/python3.10/dist-packages/ipykernel/ipkernel.py:283: DeprecationWarning: `should_run_async` will not call `transform_cell` automatically in the future. Please pass the result to `transformed_cell` argument and any exception that happen during thetransform in `preprocessing_exc_tuple` in IPython 7.17 and above.\n",
            "  and should_run_async(code)\n"
          ]
        }
      ]
    },
    {
      "cell_type": "markdown",
      "source": [
        "''' My laptop is taking more time to process 20k rows so, i took 5k as sample"
      ],
      "metadata": {
        "id": "LgThVUezmzjK"
      }
    },
    {
      "cell_type": "code",
      "source": [
        "topic_model = BERTopic(language=\"english\")\n",
        "topics, probs = topic_model.fit_transform(cleaned_review[0:5000])"
      ],
      "metadata": {
        "colab": {
          "base_uri": "https://localhost:8080/"
        },
        "id": "PCtw1tsOggG4",
        "outputId": "a3c73005-7bb5-4c52-b2c6-1c5a8395702d"
      },
      "execution_count": null,
      "outputs": [
        {
          "output_type": "stream",
          "name": "stderr",
          "text": [
            "/usr/local/lib/python3.10/dist-packages/ipykernel/ipkernel.py:283: DeprecationWarning: `should_run_async` will not call `transform_cell` automatically in the future. Please pass the result to `transformed_cell` argument and any exception that happen during thetransform in `preprocessing_exc_tuple` in IPython 7.17 and above.\n",
            "  and should_run_async(code)\n"
          ]
        }
      ]
    },
    {
      "cell_type": "code",
      "source": [
        "topic_model.get_topic_info()"
      ],
      "metadata": {
        "colab": {
          "base_uri": "https://localhost:8080/",
          "height": 478
        },
        "id": "umQFsi-oskAy",
        "outputId": "3f0d5b3c-2d6b-4d32-abb8-ed0842480382"
      },
      "execution_count": null,
      "outputs": [
        {
          "output_type": "stream",
          "name": "stderr",
          "text": [
            "/usr/local/lib/python3.10/dist-packages/ipykernel/ipkernel.py:283: DeprecationWarning: `should_run_async` will not call `transform_cell` automatically in the future. Please pass the result to `transformed_cell` argument and any exception that happen during thetransform in `preprocessing_exc_tuple` in IPython 7.17 and above.\n",
            "  and should_run_async(code)\n"
          ]
        },
        {
          "output_type": "execute_result",
          "data": {
            "text/plain": [
              "    Topic  Count                                  Name  \\\n",
              "0      -1   1314                 -1_br_nt_product_good   \n",
              "1       0    715                0_dog_food_treats_dogs   \n",
              "2       1    655               1_coffee_cup_cups_roast   \n",
              "3       2    368                 2_tea_teas_green_chai   \n",
              "4       3    106               3_chips_potato_chip_bag   \n",
              "..    ...    ...                                   ...   \n",
              "56     55     12     55_stevia_truvia_sugar_aftertaste   \n",
              "57     56     11      56_cans_dented_pumpkin_condition   \n",
              "58     57     10       57_chocolate_yuck_filling_piece   \n",
              "59     58     10               58_gel_gels_marathon_gu   \n",
              "60     59     10  59_seasoning_aromat_knorr_vegetables   \n",
              "\n",
              "                                       Representation  \\\n",
              "0   [br, nt, product, good, great, taste, like, on...   \n",
              "1   [dog, food, treats, dogs, cat, cats, treat, br...   \n",
              "2   [coffee, cup, cups, roast, keurig, strong, br,...   \n",
              "3   [tea, teas, green, chai, black, drink, taste, ...   \n",
              "4   [chips, potato, chip, bag, salt, kettle, vineg...   \n",
              "..                                                ...   \n",
              "56  [stevia, truvia, sugar, aftertaste, silica, pa...   \n",
              "57  [cans, dented, pumpkin, condition, manufacture...   \n",
              "58  [chocolate, yuck, filling, piece, bite, brooks...   \n",
              "59  [gel, gels, marathon, gu, runner, runs, runnin...   \n",
              "60  [seasoning, aromat, knorr, vegetables, didnt, ...   \n",
              "\n",
              "                                  Representative_Docs  \n",
              "0   [incredible price many high quality vanilla be...  \n",
              "1   [review make sound really stupid whatever n't ...  \n",
              "2   [emeril 's big easy bold blend coffee full bod...  \n",
              "3   [drink two cups tea every day favorite tea tea...  \n",
              "4   [kettle chips really careful flavors nauseatin...  \n",
              "..                                                ...  \n",
              "56  [stevia highly concentrated white powder requi...  \n",
              "57  [received case chicken brown rice formula ever...  \n",
              "58  [chocolate addict salivated saw words double c...  \n",
              "59  ['m distance runner lot trouble finding gel pr...  \n",
              "60  ['ve experimenting cajun food quite sometime '...  \n",
              "\n",
              "[61 rows x 5 columns]"
            ],
            "text/html": [
              "\n",
              "  <div id=\"df-cf299332-a1c8-4b01-abe9-1a3d75fc3159\" class=\"colab-df-container\">\n",
              "    <div>\n",
              "<style scoped>\n",
              "    .dataframe tbody tr th:only-of-type {\n",
              "        vertical-align: middle;\n",
              "    }\n",
              "\n",
              "    .dataframe tbody tr th {\n",
              "        vertical-align: top;\n",
              "    }\n",
              "\n",
              "    .dataframe thead th {\n",
              "        text-align: right;\n",
              "    }\n",
              "</style>\n",
              "<table border=\"1\" class=\"dataframe\">\n",
              "  <thead>\n",
              "    <tr style=\"text-align: right;\">\n",
              "      <th></th>\n",
              "      <th>Topic</th>\n",
              "      <th>Count</th>\n",
              "      <th>Name</th>\n",
              "      <th>Representation</th>\n",
              "      <th>Representative_Docs</th>\n",
              "    </tr>\n",
              "  </thead>\n",
              "  <tbody>\n",
              "    <tr>\n",
              "      <th>0</th>\n",
              "      <td>-1</td>\n",
              "      <td>1314</td>\n",
              "      <td>-1_br_nt_product_good</td>\n",
              "      <td>[br, nt, product, good, great, taste, like, on...</td>\n",
              "      <td>[incredible price many high quality vanilla be...</td>\n",
              "    </tr>\n",
              "    <tr>\n",
              "      <th>1</th>\n",
              "      <td>0</td>\n",
              "      <td>715</td>\n",
              "      <td>0_dog_food_treats_dogs</td>\n",
              "      <td>[dog, food, treats, dogs, cat, cats, treat, br...</td>\n",
              "      <td>[review make sound really stupid whatever n't ...</td>\n",
              "    </tr>\n",
              "    <tr>\n",
              "      <th>2</th>\n",
              "      <td>1</td>\n",
              "      <td>655</td>\n",
              "      <td>1_coffee_cup_cups_roast</td>\n",
              "      <td>[coffee, cup, cups, roast, keurig, strong, br,...</td>\n",
              "      <td>[emeril 's big easy bold blend coffee full bod...</td>\n",
              "    </tr>\n",
              "    <tr>\n",
              "      <th>3</th>\n",
              "      <td>2</td>\n",
              "      <td>368</td>\n",
              "      <td>2_tea_teas_green_chai</td>\n",
              "      <td>[tea, teas, green, chai, black, drink, taste, ...</td>\n",
              "      <td>[drink two cups tea every day favorite tea tea...</td>\n",
              "    </tr>\n",
              "    <tr>\n",
              "      <th>4</th>\n",
              "      <td>3</td>\n",
              "      <td>106</td>\n",
              "      <td>3_chips_potato_chip_bag</td>\n",
              "      <td>[chips, potato, chip, bag, salt, kettle, vineg...</td>\n",
              "      <td>[kettle chips really careful flavors nauseatin...</td>\n",
              "    </tr>\n",
              "    <tr>\n",
              "      <th>...</th>\n",
              "      <td>...</td>\n",
              "      <td>...</td>\n",
              "      <td>...</td>\n",
              "      <td>...</td>\n",
              "      <td>...</td>\n",
              "    </tr>\n",
              "    <tr>\n",
              "      <th>56</th>\n",
              "      <td>55</td>\n",
              "      <td>12</td>\n",
              "      <td>55_stevia_truvia_sugar_aftertaste</td>\n",
              "      <td>[stevia, truvia, sugar, aftertaste, silica, pa...</td>\n",
              "      <td>[stevia highly concentrated white powder requi...</td>\n",
              "    </tr>\n",
              "    <tr>\n",
              "      <th>57</th>\n",
              "      <td>56</td>\n",
              "      <td>11</td>\n",
              "      <td>56_cans_dented_pumpkin_condition</td>\n",
              "      <td>[cans, dented, pumpkin, condition, manufacture...</td>\n",
              "      <td>[received case chicken brown rice formula ever...</td>\n",
              "    </tr>\n",
              "    <tr>\n",
              "      <th>58</th>\n",
              "      <td>57</td>\n",
              "      <td>10</td>\n",
              "      <td>57_chocolate_yuck_filling_piece</td>\n",
              "      <td>[chocolate, yuck, filling, piece, bite, brooks...</td>\n",
              "      <td>[chocolate addict salivated saw words double c...</td>\n",
              "    </tr>\n",
              "    <tr>\n",
              "      <th>59</th>\n",
              "      <td>58</td>\n",
              "      <td>10</td>\n",
              "      <td>58_gel_gels_marathon_gu</td>\n",
              "      <td>[gel, gels, marathon, gu, runner, runs, runnin...</td>\n",
              "      <td>['m distance runner lot trouble finding gel pr...</td>\n",
              "    </tr>\n",
              "    <tr>\n",
              "      <th>60</th>\n",
              "      <td>59</td>\n",
              "      <td>10</td>\n",
              "      <td>59_seasoning_aromat_knorr_vegetables</td>\n",
              "      <td>[seasoning, aromat, knorr, vegetables, didnt, ...</td>\n",
              "      <td>['ve experimenting cajun food quite sometime '...</td>\n",
              "    </tr>\n",
              "  </tbody>\n",
              "</table>\n",
              "<p>61 rows × 5 columns</p>\n",
              "</div>\n",
              "    <div class=\"colab-df-buttons\">\n",
              "\n",
              "  <div class=\"colab-df-container\">\n",
              "    <button class=\"colab-df-convert\" onclick=\"convertToInteractive('df-cf299332-a1c8-4b01-abe9-1a3d75fc3159')\"\n",
              "            title=\"Convert this dataframe to an interactive table.\"\n",
              "            style=\"display:none;\">\n",
              "\n",
              "  <svg xmlns=\"http://www.w3.org/2000/svg\" height=\"24px\" viewBox=\"0 -960 960 960\">\n",
              "    <path d=\"M120-120v-720h720v720H120Zm60-500h600v-160H180v160Zm220 220h160v-160H400v160Zm0 220h160v-160H400v160ZM180-400h160v-160H180v160Zm440 0h160v-160H620v160ZM180-180h160v-160H180v160Zm440 0h160v-160H620v160Z\"/>\n",
              "  </svg>\n",
              "    </button>\n",
              "\n",
              "  <style>\n",
              "    .colab-df-container {\n",
              "      display:flex;\n",
              "      gap: 12px;\n",
              "    }\n",
              "\n",
              "    .colab-df-convert {\n",
              "      background-color: #E8F0FE;\n",
              "      border: none;\n",
              "      border-radius: 50%;\n",
              "      cursor: pointer;\n",
              "      display: none;\n",
              "      fill: #1967D2;\n",
              "      height: 32px;\n",
              "      padding: 0 0 0 0;\n",
              "      width: 32px;\n",
              "    }\n",
              "\n",
              "    .colab-df-convert:hover {\n",
              "      background-color: #E2EBFA;\n",
              "      box-shadow: 0px 1px 2px rgba(60, 64, 67, 0.3), 0px 1px 3px 1px rgba(60, 64, 67, 0.15);\n",
              "      fill: #174EA6;\n",
              "    }\n",
              "\n",
              "    .colab-df-buttons div {\n",
              "      margin-bottom: 4px;\n",
              "    }\n",
              "\n",
              "    [theme=dark] .colab-df-convert {\n",
              "      background-color: #3B4455;\n",
              "      fill: #D2E3FC;\n",
              "    }\n",
              "\n",
              "    [theme=dark] .colab-df-convert:hover {\n",
              "      background-color: #434B5C;\n",
              "      box-shadow: 0px 1px 3px 1px rgba(0, 0, 0, 0.15);\n",
              "      filter: drop-shadow(0px 1px 2px rgba(0, 0, 0, 0.3));\n",
              "      fill: #FFFFFF;\n",
              "    }\n",
              "  </style>\n",
              "\n",
              "    <script>\n",
              "      const buttonEl =\n",
              "        document.querySelector('#df-cf299332-a1c8-4b01-abe9-1a3d75fc3159 button.colab-df-convert');\n",
              "      buttonEl.style.display =\n",
              "        google.colab.kernel.accessAllowed ? 'block' : 'none';\n",
              "\n",
              "      async function convertToInteractive(key) {\n",
              "        const element = document.querySelector('#df-cf299332-a1c8-4b01-abe9-1a3d75fc3159');\n",
              "        const dataTable =\n",
              "          await google.colab.kernel.invokeFunction('convertToInteractive',\n",
              "                                                    [key], {});\n",
              "        if (!dataTable) return;\n",
              "\n",
              "        const docLinkHtml = 'Like what you see? Visit the ' +\n",
              "          '<a target=\"_blank\" href=https://colab.research.google.com/notebooks/data_table.ipynb>data table notebook</a>'\n",
              "          + ' to learn more about interactive tables.';\n",
              "        element.innerHTML = '';\n",
              "        dataTable['output_type'] = 'display_data';\n",
              "        await google.colab.output.renderOutput(dataTable, element);\n",
              "        const docLink = document.createElement('div');\n",
              "        docLink.innerHTML = docLinkHtml;\n",
              "        element.appendChild(docLink);\n",
              "      }\n",
              "    </script>\n",
              "  </div>\n",
              "\n",
              "\n",
              "<div id=\"df-8460db76-925d-48b9-8ea6-51385b97c320\">\n",
              "  <button class=\"colab-df-quickchart\" onclick=\"quickchart('df-8460db76-925d-48b9-8ea6-51385b97c320')\"\n",
              "            title=\"Suggest charts\"\n",
              "            style=\"display:none;\">\n",
              "\n",
              "<svg xmlns=\"http://www.w3.org/2000/svg\" height=\"24px\"viewBox=\"0 0 24 24\"\n",
              "     width=\"24px\">\n",
              "    <g>\n",
              "        <path d=\"M19 3H5c-1.1 0-2 .9-2 2v14c0 1.1.9 2 2 2h14c1.1 0 2-.9 2-2V5c0-1.1-.9-2-2-2zM9 17H7v-7h2v7zm4 0h-2V7h2v10zm4 0h-2v-4h2v4z\"/>\n",
              "    </g>\n",
              "</svg>\n",
              "  </button>\n",
              "\n",
              "<style>\n",
              "  .colab-df-quickchart {\n",
              "      --bg-color: #E8F0FE;\n",
              "      --fill-color: #1967D2;\n",
              "      --hover-bg-color: #E2EBFA;\n",
              "      --hover-fill-color: #174EA6;\n",
              "      --disabled-fill-color: #AAA;\n",
              "      --disabled-bg-color: #DDD;\n",
              "  }\n",
              "\n",
              "  [theme=dark] .colab-df-quickchart {\n",
              "      --bg-color: #3B4455;\n",
              "      --fill-color: #D2E3FC;\n",
              "      --hover-bg-color: #434B5C;\n",
              "      --hover-fill-color: #FFFFFF;\n",
              "      --disabled-bg-color: #3B4455;\n",
              "      --disabled-fill-color: #666;\n",
              "  }\n",
              "\n",
              "  .colab-df-quickchart {\n",
              "    background-color: var(--bg-color);\n",
              "    border: none;\n",
              "    border-radius: 50%;\n",
              "    cursor: pointer;\n",
              "    display: none;\n",
              "    fill: var(--fill-color);\n",
              "    height: 32px;\n",
              "    padding: 0;\n",
              "    width: 32px;\n",
              "  }\n",
              "\n",
              "  .colab-df-quickchart:hover {\n",
              "    background-color: var(--hover-bg-color);\n",
              "    box-shadow: 0 1px 2px rgba(60, 64, 67, 0.3), 0 1px 3px 1px rgba(60, 64, 67, 0.15);\n",
              "    fill: var(--button-hover-fill-color);\n",
              "  }\n",
              "\n",
              "  .colab-df-quickchart-complete:disabled,\n",
              "  .colab-df-quickchart-complete:disabled:hover {\n",
              "    background-color: var(--disabled-bg-color);\n",
              "    fill: var(--disabled-fill-color);\n",
              "    box-shadow: none;\n",
              "  }\n",
              "\n",
              "  .colab-df-spinner {\n",
              "    border: 2px solid var(--fill-color);\n",
              "    border-color: transparent;\n",
              "    border-bottom-color: var(--fill-color);\n",
              "    animation:\n",
              "      spin 1s steps(1) infinite;\n",
              "  }\n",
              "\n",
              "  @keyframes spin {\n",
              "    0% {\n",
              "      border-color: transparent;\n",
              "      border-bottom-color: var(--fill-color);\n",
              "      border-left-color: var(--fill-color);\n",
              "    }\n",
              "    20% {\n",
              "      border-color: transparent;\n",
              "      border-left-color: var(--fill-color);\n",
              "      border-top-color: var(--fill-color);\n",
              "    }\n",
              "    30% {\n",
              "      border-color: transparent;\n",
              "      border-left-color: var(--fill-color);\n",
              "      border-top-color: var(--fill-color);\n",
              "      border-right-color: var(--fill-color);\n",
              "    }\n",
              "    40% {\n",
              "      border-color: transparent;\n",
              "      border-right-color: var(--fill-color);\n",
              "      border-top-color: var(--fill-color);\n",
              "    }\n",
              "    60% {\n",
              "      border-color: transparent;\n",
              "      border-right-color: var(--fill-color);\n",
              "    }\n",
              "    80% {\n",
              "      border-color: transparent;\n",
              "      border-right-color: var(--fill-color);\n",
              "      border-bottom-color: var(--fill-color);\n",
              "    }\n",
              "    90% {\n",
              "      border-color: transparent;\n",
              "      border-bottom-color: var(--fill-color);\n",
              "    }\n",
              "  }\n",
              "</style>\n",
              "\n",
              "  <script>\n",
              "    async function quickchart(key) {\n",
              "      const quickchartButtonEl =\n",
              "        document.querySelector('#' + key + ' button');\n",
              "      quickchartButtonEl.disabled = true;  // To prevent multiple clicks.\n",
              "      quickchartButtonEl.classList.add('colab-df-spinner');\n",
              "      try {\n",
              "        const charts = await google.colab.kernel.invokeFunction(\n",
              "            'suggestCharts', [key], {});\n",
              "      } catch (error) {\n",
              "        console.error('Error during call to suggestCharts:', error);\n",
              "      }\n",
              "      quickchartButtonEl.classList.remove('colab-df-spinner');\n",
              "      quickchartButtonEl.classList.add('colab-df-quickchart-complete');\n",
              "    }\n",
              "    (() => {\n",
              "      let quickchartButtonEl =\n",
              "        document.querySelector('#df-8460db76-925d-48b9-8ea6-51385b97c320 button');\n",
              "      quickchartButtonEl.style.display =\n",
              "        google.colab.kernel.accessAllowed ? 'block' : 'none';\n",
              "    })();\n",
              "  </script>\n",
              "</div>\n",
              "\n",
              "    </div>\n",
              "  </div>\n"
            ],
            "application/vnd.google.colaboratory.intrinsic+json": {
              "type": "dataframe",
              "summary": "{\n  \"name\": \"topic_model\",\n  \"rows\": 61,\n  \"fields\": [\n    {\n      \"column\": \"Topic\",\n      \"properties\": {\n        \"dtype\": \"number\",\n        \"std\": 17,\n        \"min\": -1,\n        \"max\": 59,\n        \"num_unique_values\": 61,\n        \"samples\": [\n          -1,\n          4,\n          45\n        ],\n        \"semantic_type\": \"\",\n        \"description\": \"\"\n      }\n    },\n    {\n      \"column\": \"Count\",\n      \"properties\": {\n        \"dtype\": \"number\",\n        \"std\": 203,\n        \"min\": 10,\n        \"max\": 1314,\n        \"num_unique_values\": 40,\n        \"samples\": [\n          38,\n          43,\n          46\n        ],\n        \"semantic_type\": \"\",\n        \"description\": \"\"\n      }\n    },\n    {\n      \"column\": \"Name\",\n      \"properties\": {\n        \"dtype\": \"string\",\n        \"num_unique_values\": 61,\n        \"samples\": [\n          \"-1_br_nt_product_good\",\n          \"4_cookies_cookie_chocolate_chip\",\n          \"45_bag_bags_fold_resealable\"\n        ],\n        \"semantic_type\": \"\",\n        \"description\": \"\"\n      }\n    },\n    {\n      \"column\": \"Representation\",\n      \"properties\": {\n        \"dtype\": \"object\",\n        \"semantic_type\": \"\",\n        \"description\": \"\"\n      }\n    },\n    {\n      \"column\": \"Representative_Docs\",\n      \"properties\": {\n        \"dtype\": \"object\",\n        \"semantic_type\": \"\",\n        \"description\": \"\"\n      }\n    }\n  ]\n}"
            }
          },
          "metadata": {},
          "execution_count": 71
        }
      ]
    },
    {
      "cell_type": "code",
      "source": [
        "from gensim.corpora import Dictionary\n",
        "from gensim.models.coherencemodel import CoherenceModel"
      ],
      "metadata": {
        "colab": {
          "base_uri": "https://localhost:8080/"
        },
        "id": "gMMLgRtkzcSa",
        "outputId": "0e1075ab-ab92-4768-c094-ecc10bc9f1ec"
      },
      "execution_count": null,
      "outputs": [
        {
          "output_type": "stream",
          "name": "stderr",
          "text": [
            "/usr/local/lib/python3.10/dist-packages/ipykernel/ipkernel.py:283: DeprecationWarning: `should_run_async` will not call `transform_cell` automatically in the future. Please pass the result to `transformed_cell` argument and any exception that happen during thetransform in `preprocessing_exc_tuple` in IPython 7.17 and above.\n",
            "  and should_run_async(code)\n"
          ]
        }
      ]
    },
    {
      "cell_type": "code",
      "source": [
        "texts = [doc.split() for doc in cleaned_review[:1000]]\n",
        "dictionary = Dictionary(texts)\n",
        "corpus = [dictionary.doc2bow(text) for text in texts]\n",
        "\n",
        "topic_keywords = []\n",
        "coherence_values = []\n",
        "for topic_num in range(0,60):\n",
        "  # print(topic_model.get_topic(topic_num))\n",
        "  words = topic_model.get_topic(topic_num)\n",
        "  topic_keywords.append([word for word, score in words])\n",
        "  # print(topic_keywords)\n",
        "\n",
        "# print(len(topic_keywords))\n",
        "  coherence_model = CoherenceModel(\n",
        "      topics=topic_keywords,\n",
        "      texts=texts,\n",
        "      dictionary=dictionary,\n",
        "      coherence='c_v')\n",
        "  coherence_score = coherence_model.get_coherence()\n",
        "  coherence_values.append(coherence_score)\n",
        "  print(f\"Coherence score for topic {topic_num}: {coherence_score}\")"
      ],
      "metadata": {
        "colab": {
          "base_uri": "https://localhost:8080/"
        },
        "collapsed": true,
        "id": "KIcDW-JxwHhb",
        "outputId": "d07800e8-8115-4e49-a5a6-6e35c674d7ce"
      },
      "execution_count": null,
      "outputs": [
        {
          "output_type": "stream",
          "name": "stderr",
          "text": [
            "/usr/local/lib/python3.10/dist-packages/ipykernel/ipkernel.py:283: DeprecationWarning: `should_run_async` will not call `transform_cell` automatically in the future. Please pass the result to `transformed_cell` argument and any exception that happen during thetransform in `preprocessing_exc_tuple` in IPython 7.17 and above.\n",
            "  and should_run_async(code)\n"
          ]
        },
        {
          "output_type": "stream",
          "name": "stdout",
          "text": [
            "Coherence score for topic 0: 0.5270686572035246\n",
            "Coherence score for topic 1: 0.6520233381741565\n",
            "Coherence score for topic 2: 0.6660046715478327\n",
            "Coherence score for topic 3: 0.6385114069330569\n",
            "Coherence score for topic 4: 0.5864091046851703\n",
            "Coherence score for topic 5: 0.5450493638305636\n",
            "Coherence score for topic 6: 0.5860810052261035\n",
            "Coherence score for topic 7: 0.5717936906110034\n",
            "Coherence score for topic 8: 0.5510309337201815\n",
            "Coherence score for topic 9: 0.5319832352009758\n",
            "Coherence score for topic 10: 0.512242436215241\n",
            "Coherence score for topic 11: 0.49933750440262176\n",
            "Coherence score for topic 12: 0.5041643739924596\n",
            "Coherence score for topic 13: 0.4937164298673788\n",
            "Coherence score for topic 14: 0.4801178880764664\n",
            "Coherence score for topic 15: 0.47591007343808533\n",
            "Coherence score for topic 16: 0.46667956615269357\n",
            "Coherence score for topic 17: 0.4605832145761086\n",
            "Coherence score for topic 18: 0.45743293099892474\n",
            "Coherence score for topic 19: 0.45681710531675623\n",
            "Coherence score for topic 20: 0.45129715789091424\n",
            "Coherence score for topic 21: 0.44588264708238134\n",
            "Coherence score for topic 22: 0.439502789457161\n",
            "Coherence score for topic 23: 0.44338678910846424\n",
            "Coherence score for topic 24: 0.43834700596852166\n",
            "Coherence score for topic 25: 0.440893813945516\n",
            "Coherence score for topic 26: 0.4365649543676567\n",
            "Coherence score for topic 27: 0.43398993674916914\n",
            "Coherence score for topic 28: 0.42544321467352053\n",
            "Coherence score for topic 29: 0.4273208764899929\n",
            "Coherence score for topic 30: 0.4255784190582671\n",
            "Coherence score for topic 31: 0.4266912727690977\n",
            "Coherence score for topic 32: 0.434575117937673\n",
            "Coherence score for topic 33: 0.4400310659486416\n",
            "Coherence score for topic 34: 0.439479311466391\n",
            "Coherence score for topic 35: 0.43850322665593716\n",
            "Coherence score for topic 36: 0.4386094768741929\n",
            "Coherence score for topic 37: 0.4379384772070087\n",
            "Coherence score for topic 38: 0.43852724860373427\n",
            "Coherence score for topic 39: 0.44295893316638413\n",
            "Coherence score for topic 40: 0.44386993963080845\n",
            "Coherence score for topic 41: 0.44531781127927256\n",
            "Coherence score for topic 42: 0.44211553032348283\n",
            "Coherence score for topic 43: 0.4386253664782665\n",
            "Coherence score for topic 44: 0.435361922670329\n",
            "Coherence score for topic 45: 0.43560663357912455\n",
            "Coherence score for topic 46: 0.43379208684561393\n",
            "Coherence score for topic 47: 0.4281543655041591\n",
            "Coherence score for topic 48: 0.425659535122594\n",
            "Coherence score for topic 49: 0.4216185275390111\n",
            "Coherence score for topic 50: 0.42055358558096884\n",
            "Coherence score for topic 51: 0.41991272743397273\n",
            "Coherence score for topic 52: 0.41977785447389493\n",
            "Coherence score for topic 53: 0.41938489718459565\n",
            "Coherence score for topic 54: 0.41813485310467174\n",
            "Coherence score for topic 55: 0.41860602202239555\n",
            "Coherence score for topic 56: 0.419029481149818\n",
            "Coherence score for topic 57: 0.4194882560854566\n",
            "Coherence score for topic 58: 0.4237438675090276\n",
            "Coherence score for topic 59: 0.42297711905642205\n"
          ]
        }
      ]
    },
    {
      "cell_type": "code",
      "source": [
        "topic_range = range(1, 60)\n",
        "# coherence_values1 = []\n",
        "optimal_k = topic_range[coherence_values.index(max(coherence_values))]\n",
        "\n",
        "print(f\"\\nOptimal number of topics: {optimal_k} \\n\")\n"
      ],
      "metadata": {
        "colab": {
          "base_uri": "https://localhost:8080/"
        },
        "id": "fe-7uiBo00Tb",
        "outputId": "4ddcb0db-d894-41ed-b472-1c3d7a0cd22d"
      },
      "execution_count": null,
      "outputs": [
        {
          "output_type": "stream",
          "name": "stdout",
          "text": [
            "\n",
            "Optimal number of topics: 3 \n",
            "\n"
          ]
        },
        {
          "output_type": "stream",
          "name": "stderr",
          "text": [
            "/usr/local/lib/python3.10/dist-packages/ipykernel/ipkernel.py:283: DeprecationWarning: `should_run_async` will not call `transform_cell` automatically in the future. Please pass the result to `transformed_cell` argument and any exception that happen during thetransform in `preprocessing_exc_tuple` in IPython 7.17 and above.\n",
            "  and should_run_async(code)\n"
          ]
        }
      ]
    },
    {
      "cell_type": "code",
      "source": [
        "from sentence_transformers import SentenceTransformer\n",
        "embedding_model = SentenceTransformer(\"all-MiniLM-L6-v2\")  # You can experiment with other models\n",
        "\n",
        "# Initialize BERTopic with K=3\n",
        "topic_model_new = BERTopic(\n",
        "    embedding_model=embedding_model,\n",
        "    nr_topics=3,    # Optimal number of topics\n",
        ")"
      ],
      "metadata": {
        "colab": {
          "base_uri": "https://localhost:8080/"
        },
        "id": "wHDF8hW1vsy1",
        "outputId": "11975921-bb0a-4f92-ae06-383282be1331"
      },
      "execution_count": null,
      "outputs": [
        {
          "output_type": "stream",
          "name": "stderr",
          "text": [
            "/usr/local/lib/python3.10/dist-packages/ipykernel/ipkernel.py:283: DeprecationWarning: `should_run_async` will not call `transform_cell` automatically in the future. Please pass the result to `transformed_cell` argument and any exception that happen during thetransform in `preprocessing_exc_tuple` in IPython 7.17 and above.\n",
            "  and should_run_async(code)\n"
          ]
        }
      ]
    },
    {
      "cell_type": "code",
      "source": [
        "topic_model_new"
      ],
      "metadata": {
        "colab": {
          "base_uri": "https://localhost:8080/"
        },
        "id": "J60TF2JL9cSt",
        "outputId": "d7e6ca86-02f3-4cac-dff0-360d149812de"
      },
      "execution_count": null,
      "outputs": [
        {
          "output_type": "stream",
          "name": "stderr",
          "text": [
            "/usr/local/lib/python3.10/dist-packages/ipykernel/ipkernel.py:283: DeprecationWarning: `should_run_async` will not call `transform_cell` automatically in the future. Please pass the result to `transformed_cell` argument and any exception that happen during thetransform in `preprocessing_exc_tuple` in IPython 7.17 and above.\n",
            "  and should_run_async(code)\n"
          ]
        },
        {
          "output_type": "execute_result",
          "data": {
            "text/plain": [
              "<bertopic._bertopic.BERTopic at 0x7d1adbc8b520>"
            ]
          },
          "metadata": {},
          "execution_count": 134
        }
      ]
    },
    {
      "cell_type": "code",
      "source": [
        "topics_acc, probs_acc = topic_model_new.fit_transform(cleaned_review[0:5000])"
      ],
      "metadata": {
        "colab": {
          "base_uri": "https://localhost:8080/"
        },
        "id": "XswOhRPp7FJq",
        "outputId": "46a08b0f-53d2-48e2-98ef-375504f594ef"
      },
      "execution_count": null,
      "outputs": [
        {
          "output_type": "stream",
          "name": "stderr",
          "text": [
            "/usr/local/lib/python3.10/dist-packages/ipykernel/ipkernel.py:283: DeprecationWarning: `should_run_async` will not call `transform_cell` automatically in the future. Please pass the result to `transformed_cell` argument and any exception that happen during thetransform in `preprocessing_exc_tuple` in IPython 7.17 and above.\n",
            "  and should_run_async(code)\n"
          ]
        }
      ]
    },
    {
      "cell_type": "code",
      "source": [
        "# Define the number of top words per topic\n",
        "num_words = 20\n",
        "\n",
        "# Initialize a list to store topic information\n",
        "topic_data = []\n",
        "\n",
        "# Get all unique topics excluding outliers (-1)\n",
        "unique_topics = set(topics_acc)\n",
        "print(unique_topics)\n",
        "\n",
        "for topic_num in unique_topics:\n",
        "    info = topic_model_new.get_topic(topic_num)\n",
        "    top_words = [word for word, score in info[:top_n]]\n",
        "    topic_data.append({\n",
        "        'Topic': topic_num,\n",
        "        'Top Words': ', '.join(top_words)\n",
        "    })"
      ],
      "metadata": {
        "colab": {
          "base_uri": "https://localhost:8080/"
        },
        "id": "EZEuHP7h7die",
        "outputId": "84ecea1b-1019-4147-9041-5bf1c41c2fcd"
      },
      "execution_count": null,
      "outputs": [
        {
          "output_type": "stream",
          "name": "stdout",
          "text": [
            "{0, 1, -1}\n"
          ]
        },
        {
          "output_type": "stream",
          "name": "stderr",
          "text": [
            "/usr/local/lib/python3.10/dist-packages/ipykernel/ipkernel.py:283: DeprecationWarning: `should_run_async` will not call `transform_cell` automatically in the future. Please pass the result to `transformed_cell` argument and any exception that happen during thetransform in `preprocessing_exc_tuple` in IPython 7.17 and above.\n",
            "  and should_run_async(code)\n"
          ]
        }
      ]
    },
    {
      "cell_type": "code",
      "source": [
        "# Display the topics and their top words\n",
        "for topic in topic_data:\n",
        "    print(f\"Topic {topic['Topic']}: {topic['Top Words']} \\n\")"
      ],
      "metadata": {
        "colab": {
          "base_uri": "https://localhost:8080/"
        },
        "id": "dFgEea4g7j7E",
        "outputId": "547c3b42-3261-4714-8f45-7b9933b9797f"
      },
      "execution_count": null,
      "outputs": [
        {
          "output_type": "stream",
          "name": "stdout",
          "text": [
            "Topic 0: br, like, coffee, good, one, tea, great, taste, food, flavor \n",
            "\n",
            "Topic 1: href, purchase, purchased, vitamuffins, brainalyzer, tortellini, editor, knowlton, andrew, peter \n",
            "\n",
            "Topic -1: br, good, like, product, great, taste, one, flavor, chocolate, would \n",
            "\n"
          ]
        },
        {
          "output_type": "stream",
          "name": "stderr",
          "text": [
            "/usr/local/lib/python3.10/dist-packages/ipykernel/ipkernel.py:283: DeprecationWarning: `should_run_async` will not call `transform_cell` automatically in the future. Please pass the result to `transformed_cell` argument and any exception that happen during thetransform in `preprocessing_exc_tuple` in IPython 7.17 and above.\n",
            "  and should_run_async(code)\n"
          ]
        }
      ]
    },
    {
      "cell_type": "code",
      "source": [
        "'''\n",
        "Summarization of topics:\n",
        "Topic 0: Beverages and Flavor Quality\n",
        "\n",
        "Topic 1: Purchasing Process and Specific Products\n",
        "\n",
        "Topic -1: General Product Satisfaction and Quality (outlier)\n",
        "\n",
        "'''"
      ],
      "metadata": {
        "id": "BC_0zdyu9GW6"
      },
      "execution_count": null,
      "outputs": []
    },
    {
      "cell_type": "markdown",
      "source": [
        "## **Question 3 (Alternative) - (10 points)**\n",
        "\n",
        "If you are unable to do the topic modeling using lda2vec, do the alternate question.\n",
        "\n",
        "Provide atleast 3 visualization for the topics generated by the BERTopic or LDA model. Explain each of the visualization in detail."
      ],
      "metadata": {
        "id": "Wslk2SYHML8t"
      }
    },
    {
      "cell_type": "markdown",
      "source": [
        "# I will explain 3 visualization for the topics generated by the LDA model\n",
        "\n"
      ],
      "metadata": {
        "id": "ZeTCXM4KT--s"
      }
    },
    {
      "cell_type": "code",
      "source": [
        "!pip install pyLDAvis"
      ],
      "metadata": {
        "colab": {
          "base_uri": "https://localhost:8080/"
        },
        "collapsed": true,
        "id": "rfxnV8T-T8cW",
        "outputId": "948592ba-e50c-4201-88a0-a6e9988eada6"
      },
      "execution_count": null,
      "outputs": [
        {
          "output_type": "stream",
          "name": "stdout",
          "text": [
            "Collecting pyLDAvis\n",
            "  Downloading pyLDAvis-3.4.1-py3-none-any.whl.metadata (4.2 kB)\n",
            "Requirement already satisfied: numpy>=1.24.2 in /usr/local/lib/python3.10/dist-packages (from pyLDAvis) (1.26.4)\n",
            "Requirement already satisfied: scipy in /usr/local/lib/python3.10/dist-packages (from pyLDAvis) (1.13.1)\n",
            "Requirement already satisfied: pandas>=2.0.0 in /usr/local/lib/python3.10/dist-packages (from pyLDAvis) (2.2.2)\n",
            "Requirement already satisfied: joblib>=1.2.0 in /usr/local/lib/python3.10/dist-packages (from pyLDAvis) (1.4.2)\n",
            "Requirement already satisfied: jinja2 in /usr/local/lib/python3.10/dist-packages (from pyLDAvis) (3.1.4)\n",
            "Requirement already satisfied: numexpr in /usr/local/lib/python3.10/dist-packages (from pyLDAvis) (2.10.1)\n",
            "Collecting funcy (from pyLDAvis)\n",
            "  Downloading funcy-2.0-py2.py3-none-any.whl.metadata (5.9 kB)\n",
            "Requirement already satisfied: scikit-learn>=1.0.0 in /usr/local/lib/python3.10/dist-packages (from pyLDAvis) (1.5.2)\n",
            "Requirement already satisfied: gensim in /usr/local/lib/python3.10/dist-packages (from pyLDAvis) (4.3.3)\n",
            "Requirement already satisfied: setuptools in /usr/local/lib/python3.10/dist-packages (from pyLDAvis) (75.1.0)\n",
            "Requirement already satisfied: python-dateutil>=2.8.2 in /usr/local/lib/python3.10/dist-packages (from pandas>=2.0.0->pyLDAvis) (2.8.2)\n",
            "Requirement already satisfied: pytz>=2020.1 in /usr/local/lib/python3.10/dist-packages (from pandas>=2.0.0->pyLDAvis) (2024.2)\n",
            "Requirement already satisfied: tzdata>=2022.7 in /usr/local/lib/python3.10/dist-packages (from pandas>=2.0.0->pyLDAvis) (2024.2)\n",
            "Requirement already satisfied: threadpoolctl>=3.1.0 in /usr/local/lib/python3.10/dist-packages (from scikit-learn>=1.0.0->pyLDAvis) (3.5.0)\n",
            "Requirement already satisfied: smart-open>=1.8.1 in /usr/local/lib/python3.10/dist-packages (from gensim->pyLDAvis) (7.0.5)\n",
            "Requirement already satisfied: MarkupSafe>=2.0 in /usr/local/lib/python3.10/dist-packages (from jinja2->pyLDAvis) (3.0.2)\n",
            "Requirement already satisfied: six>=1.5 in /usr/local/lib/python3.10/dist-packages (from python-dateutil>=2.8.2->pandas>=2.0.0->pyLDAvis) (1.16.0)\n",
            "Requirement already satisfied: wrapt in /usr/local/lib/python3.10/dist-packages (from smart-open>=1.8.1->gensim->pyLDAvis) (1.16.0)\n",
            "Downloading pyLDAvis-3.4.1-py3-none-any.whl (2.6 MB)\n",
            "\u001b[2K   \u001b[90m━━━━━━━━━━━━━━━━━━━━━━━━━━━━━━━━━━━━━━━━\u001b[0m \u001b[32m2.6/2.6 MB\u001b[0m \u001b[31m19.7 MB/s\u001b[0m eta \u001b[36m0:00:00\u001b[0m\n",
            "\u001b[?25hDownloading funcy-2.0-py2.py3-none-any.whl (30 kB)\n",
            "Installing collected packages: funcy, pyLDAvis\n",
            "Successfully installed funcy-2.0 pyLDAvis-3.4.1\n"
          ]
        }
      ]
    },
    {
      "cell_type": "code",
      "source": [
        "# Import pyLDAvis for topic model visualization\n",
        "\n",
        "import pyLDAvis\n",
        "import pyLDAvis.gensim_models as gensimvis\n",
        "pyLDAvis.enable_notebook()\n",
        "\n",
        "# Preparing the Visualization\n",
        "LDAvis_prepared = pyLDAvis.gensim_models.prepare(lda_model, bow, dictionary)\n",
        "\n",
        "# Displaying the Visualization\n",
        "pyLDAvis.display(LDAvis_prepared)"
      ],
      "metadata": {
        "colab": {
          "base_uri": "https://localhost:8080/",
          "height": 916
        },
        "id": "YxD6KESkUHuX",
        "outputId": "5716a93c-3921-4321-cb34-ffe992b0c44a"
      },
      "execution_count": 147,
      "outputs": [
        {
          "output_type": "stream",
          "name": "stderr",
          "text": [
            "/usr/local/lib/python3.10/dist-packages/ipykernel/ipkernel.py:283: DeprecationWarning: `should_run_async` will not call `transform_cell` automatically in the future. Please pass the result to `transformed_cell` argument and any exception that happen during thetransform in `preprocessing_exc_tuple` in IPython 7.17 and above.\n",
            "  and should_run_async(code)\n"
          ]
        },
        {
          "output_type": "execute_result",
          "data": {
            "text/plain": [
              "<IPython.core.display.HTML object>"
            ],
            "text/html": [
              "\n",
              "<link rel=\"stylesheet\" type=\"text/css\" href=\"https://cdn.jsdelivr.net/gh/bmabey/pyLDAvis@3.4.0/pyLDAvis/js/ldavis.v1.0.0.css\">\n",
              "\n",
              "\n",
              "<div id=\"ldavis_el26591375545857506563915519479\" style=\"background-color:white;\"></div>\n",
              "<script type=\"text/javascript\">\n",
              "\n",
              "var ldavis_el26591375545857506563915519479_data = {\"mdsDat\": {\"x\": [0.04607232139929652, -0.0781216184645677, -0.16528392896986865, 0.0009240586135470519, 0.15650505294473285, -0.0321311306904695, -0.08445775009795094, 0.1564929952652804], \"y\": [0.13226972797974293, -0.07232810529153183, 0.05950766499202191, 0.13887631334724662, -0.05910780205929091, -0.07402304217271886, -0.10137879776878575, -0.023815959026684128], \"topics\": [1, 2, 3, 4, 5, 6, 7, 8], \"cluster\": [1, 1, 1, 1, 1, 1, 1, 1], \"Freq\": [16.510946062112158, 15.310233500220477, 14.870824241711125, 12.914372363793126, 11.087520198215442, 11.026216526226731, 9.413056085412043, 8.8668310223089]}, \"tinfo\": {\"Term\": [\"coffe\", \"tea\", \"dog\", \"food\", \"cup\", \"flavor\", \"cat\", \"amazon\", \"treat\", \"order\", \"tast\", \"water\", \"store\", \"drink\", \"eat\", \"chocol\", \"snack\", \"cooki\", \"hot\", \"price\", \"bar\", \"sugar\", \"oil\", \"ship\", \"us\", \"chip\", \"cook\", \"salt\", \"bottl\", \"sweet\", \"oreo\", \"granola\", \"wafer\", \"larabar\", \"bar\", \"newton\", \"fig\", \"kashi\", \"valentin\", \"nana\", \"muir\", \"gooei\", \"cluster\", \"nabisco\", \"krispi\", \"glen\", \"airi\", \"cacao\", \"ahoi\", \"basmati\", \"creek\", \"graham\", \"cheeto\", \"knorr\", \"primal\", \"fluke\", \"cooki\", \"nib\", \"nake\", \"marzipan\", \"peanut\", \"crunchi\", \"snack\", \"crunch\", \"cashew\", \"browni\", \"almond\", \"frost\", \"fudg\", \"haribo\", \"marshmallow\", \"cheerio\", \"nutella\", \"popchip\", \"guilt\", \"teriyaki\", \"gummi\", \"nut\", \"cereal\", \"raisin\", \"chewi\", \"chocol\", \"chip\", \"crispi\", \"butter\", \"cake\", \"crave\", \"cracker\", \"crisp\", \"jerki\", \"fruit\", \"candi\", \"calori\", \"sweet\", \"kid\", \"textur\", \"eat\", \"thei\", \"tasti\", \"tast\", \"like\", \"healthi\", \"delici\", \"flavor\", \"good\", \"them\", \"love\", \"great\", \"sugar\", \"littl\", \"try\", \"don\", \"you\", \"bag\", \"popper\", \"theater\", \"anchovi\", \"dent\", \"pepperoni\", \"korean\", \"crocker\", \"moldi\", \"couscou\", \"mommi\", \"custard\", \"ant\", \"gumbal\", \"boba\", \"northern\", \"delux\", \"bump\", \"omaha\", \"safewai\", \"herself\", \"doberman\", \"roach\", \"trident\", \"fedex\", \"hodgson\", \"seper\", \"jan\", \"chun\", \"caesar\", \"oral\", \"ship\", \"popcorn\", \"shipment\", \"peppercorn\", \"promptli\", \"movi\", \"groceri\", \"servic\", \"expir\", \"warehous\", \"jim\", \"arriv\", \"seller\", \"store\", \"local\", \"charg\", \"vendor\", \"cancel\", \"walmart\", \"order\", \"subscrib\", \"amazon\", \"deliveri\", \"price\", \"prime\", \"sent\", \"onlin\", \"item\", \"receiv\", \"carri\", \"sell\", \"bulk\", \"gift\", \"deal\", \"save\", \"box\", \"bui\", \"purchas\", \"cheaper\", \"thank\", \"pack\", \"date\", \"product\", \"packag\", \"great\", \"bag\", \"time\", \"bought\", \"love\", \"again\", \"case\", \"good\", \"can\", \"best\", \"fresh\", \"year\", \"tast\", \"like\", \"them\", \"cat\", \"vet\", \"puppi\", \"kitti\", \"kibbl\", \"kitten\", \"canida\", \"dog\", \"pet\", \"purina\", \"pup\", \"breed\", \"poop\", \"feast\", \"finicki\", \"paw\", \"evo\", \"scienc\", \"duck\", \"indoor\", \"canin\", \"terrier\", \"fur\", \"friski\", \"felin\", \"iam\", \"shepherd\", \"catnip\", \"adopt\", \"halo\", \"feed\", \"bone\", \"toi\", \"she\", \"zuke\", \"litter\", \"buffalo\", \"train\", \"lab\", \"fed\", \"food\", \"treat\", \"greeni\", \"stool\", \"liver\", \"chew\", \"her\", \"pill\", \"picki\", \"human\", \"lick\", \"teeth\", \"wet\", \"eat\", \"old\", \"chicken\", \"dry\", \"love\", \"well\", \"babi\", \"diet\", \"them\", \"like\", \"can\", \"problem\", \"ingredi\", \"year\", \"dai\", \"product\", \"time\", \"healthi\", \"littl\", \"good\", \"brand\", \"don\", \"look\", \"recommend\", \"thing\", \"try\", \"great\", \"shampoo\", \"condition\", \"gmo\", \"scalp\", \"starch\", \"rye\", \"canola\", \"oliv\", \"chia\", \"soybean\", \"virgin\", \"parslei\", \"miso\", \"loaf\", \"lentil\", \"oil\", \"dieter\", \"lotion\", \"skillet\", \"nutiva\", \"dice\", \"quinoa\", \"garlic\", \"flour\", \"saut\", \"genet\", \"lobster\", \"whiskei\", \"lather\", \"paprika\", \"bread\", \"tomato\", \"soup\", \"curri\", \"msg\", \"broccoli\", \"tofu\", \"soap\", \"cook\", \"hair\", \"fry\", \"pan\", \"pasta\", \"salad\", \"noodl\", \"egg\", \"pizza\", \"pork\", \"dress\", \"dish\", \"rub\", \"rice\", \"salt\", \"broth\", \"grill\", \"seed\", \"sodium\", \"veget\", \"recip\", \"sauc\", \"onion\", \"chees\", \"bake\", \"corn\", \"wheat\", \"season\", \"ingredi\", \"us\", \"chicken\", \"add\", \"mix\", \"product\", \"organ\", \"meal\", \"tast\", \"good\", \"like\", \"great\", \"make\", \"flavor\", \"food\", \"ad\", \"contain\", \"don\", \"eat\", \"fuel\", \"jet\", \"kona\", \"lavazza\", \"timothi\", \"crema\", \"carib\", \"sumatra\", \"zevia\", \"tulli\", \"wolfgang\", \"folger\", \"tiger\", \"watermelon\", \"tangerin\", \"jean\", \"gloria\", \"nantucket\", \"roaster\", \"orlean\", \"tonic\", \"vita\", \"al\", \"bold\", \"sumatran\", \"river\", \"scottish\", \"verona\", \"emeril\", \"louisiana\", \"mountain\", \"burnt\", \"roast\", \"kcup\", \"puck\", \"illi\", \"coffe\", \"donut\", \"jamaica\", \"french\", \"decaf\", \"espresso\", \"starbuck\", \"bitter\", \"ginger\", \"strong\", \"blend\", \"bean\", \"robust\", \"cup\", \"keurig\", \"hazelnut\", \"brew\", \"smooth\", \"dark\", \"weak\", \"flavor\", \"aroma\", \"medium\", \"vanilla\", \"rich\", \"soda\", \"tast\", \"drink\", \"like\", \"tri\", \"favorit\", \"good\", \"try\", \"brand\", \"love\", \"best\", \"great\", \"enjoi\", \"don\", \"bui\", \"differ\", \"grei\", \"earl\", \"chamomil\", \"bergamot\", \"matcha\", \"trap\", \"lavend\", \"yogi\", \"numi\", \"jasmin\", \"brittl\", \"butterscotch\", \"unhappi\", \"dirt\", \"pho\", \"bigelow\", \"everlast\", \"rooibo\", \"2007\", \"rishi\", \"anxiou\", \"teavana\", \"russian\", \"wilton\", \"lotu\", \"blossom\", \"stik\", \"lemongrass\", \"lax\", \"propylen\", \"stash\", \"herbal\", \"twine\", \"leaf\", \"fondant\", \"deodor\", \"tea\", \"rose\", \"oolong\", \"teabag\", \"string\", \"licoric\", \"tazo\", \"steep\", \"flower\", \"green\", \"loos\", \"english\", \"sooth\", \"pictur\", \"lipton\", \"honei\", \"color\", \"review\", \"leav\", \"mint\", \"bag\", \"black\", \"smell\", \"open\", \"peppermint\", \"white\", \"read\", \"like\", \"tast\", \"packag\", \"plastic\", \"bad\", \"product\", \"look\", \"box\", \"the\", \"good\", \"try\", \"know\", \"time\", \"don\", \"think\", \"flavor\", \"want\", \"organ\", \"qualiti\", \"essentia\", \"electrolyt\", \"cramp\", \"mccann\", \"bonsai\", \"reflux\", \"transact\", \"nurs\", \"gunpowd\", \"constip\", \"gatorad\", \"capsul\", \"enfamil\", \"nespresso\", \"mental\", \"recoveri\", \"establish\", \"client\", \"sigh\", \"uncl\", \"connect\", \"osmosi\", \"fenugreek\", \"cumin\", \"breastfeed\", \"nippl\", \"charger\", \"ella\", \"sport\", \"church\", \"crash\", \"schedul\", \"revers\", \"steamer\", \"soil\", \"hydrat\", \"spelt\", \"energi\", \"pregnanc\", \"pain\", \"pump\", \"plant\", \"bloat\", \"manual\", \"bottl\", \"sleep\", \"alkalin\", \"cleans\", \"boost\", \"steel\", \"calm\", \"hour\", \"night\", \"tree\", \"water\", \"work\", \"help\", \"dai\", \"formula\", \"drink\", \"effect\", \"start\", \"babi\", \"week\", \"take\", \"feel\", \"us\", \"need\", \"month\", \"product\", \"year\", \"time\", \"shake\", \"morn\", \"great\", \"stuff\", \"recommend\", \"problem\", \"tast\", \"good\", \"wai\", \"like\", \"better\", \"love\", \"don\", \"splenda\", \"sucralos\", \"tabasco\", \"grove\", \"mio\", \"scovil\", \"sriracha\", \"truvia\", \"scrambl\", \"chile\", \"nutritionist\", \"mccormick\", \"dave\", \"chai\", \"devil\", \"href\", \"costa\", \"sweetner\", \"http\", \"buckwheat\", \"kool\", \"taster\", \"breakag\", \"promin\", \"muesli\", \"nutmeg\", \"upgrad\", \"gevalia\", \"www\", \"stevita\", \"pod\", \"stevia\", \"cone\", \"condiment\", \"nectress\", \"sweeten\", \"erythritol\", \"cider\", \"hot\", \"tassimo\", \"ic\", \"agav\", \"pitcher\", \"holder\", \"packet\", \"ketchup\", \"com\", \"cocoa\", \"marlei\", \"pb2\", \"sugar\", \"milk\", \"instant\", \"ounc\", \"powder\", \"crystal\", \"cold\", \"add\", \"water\", \"cup\", \"syrup\", \"cream\", \"teaspoon\", \"beverag\", \"us\", \"drink\", \"artifici\", \"flavor\", \"mix\", \"tast\", \"sweet\", \"product\", \"like\", \"amazon\", \"good\", \"tea\", \"make\", \"coffe\", \"pack\", \"great\", \"littl\"], \"Freq\": [35071.0, 31484.0, 21587.0, 31329.0, 17964.0, 44809.0, 13226.0, 21737.0, 13572.0, 17816.0, 53840.0, 13752.0, 14190.0, 15767.0, 22119.0, 12492.0, 9417.0, 8764.0, 7703.0, 17785.0, 8194.0, 11666.0, 6716.0, 7584.0, 19788.0, 8626.0, 5829.0, 6954.0, 6567.0, 11995.0, 531.363727253215, 1792.6321515970849, 405.07668659295166, 332.94849369751154, 8163.825786495134, 231.16890476620551, 321.2241105771228, 314.16991505913967, 152.03239959258534, 149.0727955863188, 146.0801920579004, 264.51744762944156, 370.4103634786449, 134.6228559950708, 133.41512749990017, 133.57268296319617, 132.0035301775163, 189.8763496245928, 119.23940703574233, 120.16698469220232, 116.41701262188461, 517.5235736182865, 110.09541849913577, 108.7931927363785, 107.41196417702979, 99.63625046191606, 8683.827995334108, 97.97647152567674, 101.36570950464511, 95.09941133777848, 4775.184939831821, 2479.499149977562, 9166.555448384483, 1535.4889918496335, 484.69818171247414, 574.9553057877615, 3326.9075132485864, 535.5061625704643, 366.3193429973643, 226.13409194965064, 343.14213511590117, 200.0854755110913, 180.0923063974954, 685.0996083926129, 269.78362720785515, 182.55123593202333, 815.8146867819106, 3243.594512929609, 4322.057387958253, 790.6987194632035, 1506.7840689225904, 10523.997384002216, 7327.954512300009, 853.1475393345765, 4576.663975767132, 1991.5167405872862, 1296.547884381432, 2204.206433098557, 1057.9553574976337, 1662.0834412139798, 3508.104438388497, 3352.593324998317, 4206.461472267364, 7290.342379159747, 3046.0719169482572, 3090.305800822729, 9935.364171396532, 3881.037969937971, 3038.93353713854, 15474.419769340868, 15872.857940362044, 3797.5514795577024, 4014.731587797444, 12426.957371163364, 10950.36361378299, 4987.0748815716215, 9702.436799217108, 7205.154917957146, 4243.918040518718, 4325.86136561211, 4243.097643789769, 4031.2016202950526, 3421.5088908766293, 3440.6568160915194, 307.70716822483035, 202.8843127886284, 174.41358399813, 688.2071002522462, 171.89988022301645, 146.97405384234173, 141.9157868555715, 121.1431100776123, 115.22047277764217, 113.58549771902541, 111.43059634361046, 106.82082539987273, 104.32732356428154, 103.57786685472834, 161.9296758169254, 127.95524489655192, 93.13367745711652, 91.72480087315408, 129.43404913067923, 79.93181200925032, 79.20347550919777, 76.80450910409874, 75.07978938714929, 73.69453738535557, 72.59410675955505, 66.80002261881823, 63.10726019158135, 62.728005415093584, 59.45176653982695, 133.05224618058816, 7371.663318714225, 2892.0943760726605, 1220.8562238332834, 226.9288689783209, 391.47459393339466, 699.9935313699413, 4184.718129190951, 1711.5485347044942, 1309.72724567391, 241.82767879515688, 299.0377349825304, 4097.538950219415, 1426.8698523006522, 12210.388538187835, 5839.664576637334, 778.2868993006568, 604.2050983037734, 325.65704598771123, 616.1866478786735, 14215.233023383342, 1757.293591368391, 16508.55986929276, 1579.7992394194637, 13346.257410008671, 749.6036327497291, 1245.8573576276322, 1852.6415516595184, 3706.4840149415527, 3571.608817344974, 2253.1089211730227, 1905.5321215217455, 1381.886718556923, 2176.5110320894933, 2426.517769407635, 3281.1452195869965, 7847.383413823062, 11140.324636796619, 6379.933523049123, 2158.4234509316866, 2879.4281124594036, 5283.411573701639, 1664.400584124675, 12608.794382324628, 5165.6189432357205, 9869.951288737713, 6403.415708443021, 6651.054014151706, 4243.005974620115, 8522.309399145679, 3481.777600472504, 2716.116894822415, 7287.765721279648, 4336.7462389637985, 3874.3682541722387, 2911.453213898593, 3130.5112477011867, 3695.484958590696, 3636.4547800009013, 3044.3453935638745, 13225.288593944157, 1985.5683554909065, 1649.85417665601, 849.7319194110011, 813.1693023148234, 744.0490741186092, 669.532452063536, 21555.020687703476, 2539.501017347117, 443.755788726261, 476.4912423308952, 446.6091608988105, 438.45355950053556, 414.34914319349866, 426.2203015510499, 408.12865563755014, 366.61289955719445, 813.4335975384746, 371.0487997432997, 340.98274951973156, 324.02817848922416, 332.0053607911946, 292.6313365876355, 285.98337835498245, 281.9257763840774, 269.1750273776472, 265.03585569870637, 264.41068614049794, 279.3989893580154, 251.01898337788285, 3926.704554047947, 1891.1978791181143, 1571.8669770431304, 1584.0791893953142, 424.7651642677377, 475.4072499219195, 635.2734629843584, 1490.3333059890238, 674.5946389542818, 750.3245541086035, 25441.590134513244, 11407.789657766765, 774.6764003318647, 639.7749144401421, 743.0237499158106, 3284.8152778185954, 1083.4812604275362, 1434.1291644711937, 1521.3000284957543, 802.7751556884649, 788.029399376154, 1719.0016488103754, 1013.8245136480497, 9127.04368265507, 3605.6133174917913, 3092.6983806291005, 2530.1951154935723, 9989.565487234608, 2955.6229277804673, 1795.4735654175165, 2325.8244913489966, 3447.15755585538, 7764.104278164089, 3694.5583541984897, 2323.9334146982847, 2763.4512543788164, 3217.2047108589773, 2928.370609049599, 4325.226579219822, 3288.1220312576784, 2395.3197924505507, 2854.3471891258173, 3552.3082790762646, 2576.465735084895, 2744.912677818504, 2516.4390788461587, 2521.143778878625, 2371.415741761662, 2392.8009515789495, 2375.013962308584, 638.5184709665621, 452.9005337392074, 443.6403437732305, 322.64209718279415, 288.5598586653362, 251.78957313591877, 261.4175518642825, 1790.1820072740493, 247.57364735659158, 194.95477071605836, 231.12876087582487, 181.03866669553335, 175.48371692135575, 297.7653434954509, 171.30041705972667, 6678.76651858061, 147.0171734118903, 141.32993610379427, 149.86101113684853, 223.49510982641794, 234.07249493583572, 506.1061292210312, 1314.1526866400097, 2054.169839888135, 125.70559536511571, 131.57148500048243, 125.73902715080493, 118.1351775691467, 115.87056333076569, 164.90204428126683, 3174.149213044625, 1297.0413708024828, 3445.4118272613605, 679.6996710333096, 471.8495415548958, 302.4272976479518, 285.68705663646466, 286.4672307393868, 5523.869746005278, 1852.3794934485397, 471.6053713775522, 638.9372719551819, 2590.183780136858, 1447.613313986707, 1885.207206750797, 1552.7454437932113, 617.2011188365113, 609.9557553275174, 929.5786485217357, 1848.9862728245582, 520.5139848432736, 3667.8328950067407, 5581.755040383329, 697.8862494898024, 713.0645462073851, 1918.1468339923238, 1523.6474440330073, 1358.4257909416763, 2612.6659635923033, 4479.132843217302, 970.5825889262845, 2268.298760723882, 2161.9024039904393, 2308.5244360720117, 1829.3898165816865, 1700.9968627131864, 3971.677737922929, 6765.106495343131, 2878.747988924554, 3391.435258654843, 3888.352927985067, 6876.960346591555, 2915.032390823063, 2131.219707857514, 6242.93958918653, 5447.27604626263, 5813.556098586723, 4023.7830654061795, 2901.0035904671604, 3558.5427993245803, 3102.02556133714, 2154.749175447108, 2034.689929369491, 2137.0615153406807, 2094.6516404261365, 542.9723341761619, 471.28269310932603, 449.04276699510206, 394.61185069721574, 392.39904624178973, 328.44489730561463, 349.73708128136366, 248.19878882841124, 239.30836947068718, 272.1036651695152, 423.9128359361792, 346.74999946919365, 219.40156616576016, 214.2745211347305, 180.27025167717062, 225.52893551894618, 199.76421632483382, 151.72548798123944, 142.61209813231437, 139.09672255645273, 138.92500424479812, 146.09059632079592, 124.68143915309125, 3038.7362709469444, 111.5966099366526, 104.29299298708729, 103.13605731943619, 101.35111788112269, 451.7874656294539, 95.02083557384252, 1642.0476094125008, 514.5359859688125, 4303.65607593979, 361.51060030979266, 405.75913929382904, 310.8400759050858, 32300.69171907077, 617.737106015783, 222.0594249341649, 1921.9846227744895, 1924.1822732434075, 1599.269517626387, 2247.0722403493023, 3652.5062567500563, 1919.3802865967305, 4839.888379060005, 4031.692531407934, 3737.021221731572, 487.65598441836846, 11666.341007936919, 2155.5056203126883, 776.2682788934532, 3303.1739803636056, 2276.6953821454144, 2917.883765920334, 1292.257166753114, 17188.68583766123, 1432.7105472648263, 1207.4400893171708, 2185.171967091611, 1792.8830828084792, 1349.4318681471584, 13807.901521459551, 5558.640454487573, 11665.169099646959, 4076.0294417778305, 2951.3480671334614, 6562.382054339058, 3749.824083354194, 3018.972893138436, 4531.284429703056, 3209.2168995616516, 3849.77934846123, 2448.1078197177467, 2454.3710375740975, 2335.704145807264, 2061.7993863512297, 1117.842062107267, 1024.0086967871684, 572.8602170186267, 426.3778287107596, 745.1931804360962, 761.2261621428904, 341.5003567057031, 256.7626848451222, 239.7028454257524, 297.7682689651929, 160.62956439606316, 148.21202765269095, 149.0138744675928, 190.23117618031486, 126.05748566318842, 293.2433348164523, 122.69892880928239, 220.78526996954506, 160.2819611698624, 112.95973250584186, 118.53730937086945, 135.22836979674167, 117.5719081438241, 123.39082195550748, 108.55666255987596, 113.1207885782475, 119.09401160903376, 168.61616869334486, 95.86470256845331, 89.73322908742692, 1435.7940838119605, 755.6786187951393, 380.50550550155634, 846.4830878657789, 205.61694093384335, 151.432668137004, 28182.920773160688, 379.2566028347393, 172.56516205192904, 269.2971091519516, 201.77990525976847, 1122.527290802397, 298.7694218346901, 762.3821319155014, 619.3233508154635, 3999.50513876689, 1045.44557398684, 502.85417242363354, 358.49507897062205, 854.4046150889264, 428.39469696480364, 1592.4913416212714, 1560.6095339025846, 3514.675886347138, 1708.3556278742183, 955.3045143173927, 5173.124786498787, 1739.5020953834312, 2512.9866887726985, 2170.355559453452, 613.9849732802037, 1240.289460209359, 1417.4861433321066, 5894.317392361006, 5569.068294766573, 2371.0918935086015, 1075.513293133521, 1658.8282202684259, 3900.439849232554, 2226.6856121627875, 2164.321922025368, 1744.7999650786633, 2756.6470112240595, 2084.8532353118203, 1678.1765388876718, 2063.6589776289375, 1928.144968775536, 1603.6635962864307, 1881.298025866458, 1399.2758919440348, 1345.0148386205994, 1323.6012614450071, 437.6677751175874, 389.47751901556927, 297.0337491933215, 212.98074881252245, 192.77304579649407, 193.09700738731902, 169.3334483902063, 192.7715402715684, 163.21610142497087, 236.9458998782815, 149.2408952200084, 493.6733935966577, 142.94231498909883, 122.81505490716735, 114.5575472326246, 107.01143430193922, 105.0569892166075, 100.9409981247288, 113.73166416146475, 100.6998175938323, 97.55957773616935, 96.13828236788846, 102.69951967086917, 88.46475298487591, 87.82392972190961, 84.19721712263771, 120.81505628734209, 84.387557673563, 324.33708242799423, 79.92660177759699, 275.0701478942808, 299.0690135939815, 137.5895465762694, 164.2657602464471, 117.18312567554369, 370.6226213891954, 114.4868902105446, 2978.623581770362, 118.9602039569422, 794.2489814215661, 420.23297528284894, 1044.2104636360862, 185.27588523687686, 127.16165363898725, 4820.595188369778, 862.8672490204032, 213.9586784956837, 156.52448794452505, 768.2455549052958, 350.36598881308254, 494.6441378199464, 2064.809551752963, 1492.464907543155, 553.4166830025715, 6511.985469318201, 4682.988020308583, 2930.340758696398, 5316.998326766523, 1311.4403167481062, 5130.1354927975735, 1103.9807156247596, 2375.701361344341, 1497.6139852768356, 1792.859376157308, 1340.2545126786456, 2167.5536897079933, 4037.7992368994687, 2566.6588581353885, 2043.4440544471227, 5620.815811598053, 2814.0127711786386, 3688.4842413504102, 742.6375796028361, 1378.9807197440941, 2946.2542484047253, 1538.32438295039, 1922.2768535985667, 1280.446394456993, 2043.2728808252702, 1910.0751671615421, 1395.2225051301532, 1661.2436498366928, 1355.6209949973102, 1429.2840485122492, 1355.2002692135352, 824.0669165815312, 384.7673238071417, 250.0121645162906, 200.41664516398293, 213.24269247979677, 168.96423716759062, 167.53628805709033, 147.38907793452282, 125.19204407585526, 126.65493153237168, 118.84407321165301, 113.54783036299652, 113.06203479355915, 1344.444572639607, 108.85483265285741, 3387.0870819590036, 101.39364787081841, 250.53101829319772, 3440.723502511674, 97.92771452523581, 202.68763765503, 88.89687727636826, 88.57820990823056, 86.12100849555031, 139.25902580687347, 124.94130879931039, 85.56353130107618, 243.3249092218335, 3452.0230707135083, 82.23713109475688, 2839.5769853834245, 1334.6947542951316, 129.44193073338417, 140.9265797737241, 102.09406931306138, 3095.187128125943, 174.61688982274723, 406.7246346293217, 6778.894493470787, 223.5703042586961, 3805.755216126821, 462.6528473771862, 266.3170482999396, 257.3201018913266, 2172.4806228472735, 252.96320849138672, 3557.4053734203976, 1302.8123317540608, 309.40681556123303, 303.02169315935436, 6046.837045016448, 3725.6268484256807, 1129.4464538891264, 2189.3785775339916, 1886.0045786419928, 559.3954514865718, 1288.5829275399333, 3279.6110569668685, 4871.799874315287, 5625.512049465975, 1495.4254994840755, 1438.514500715249, 630.7603967302078, 656.7850811034833, 4431.685354289355, 3799.476455848423, 1078.0363752229391, 6306.756336383478, 2784.2294883424674, 6675.32090553281, 2809.0956205998164, 5044.71692550643, 5621.768446516215, 3276.6110864149714, 3536.6091072406743, 3086.0603554647905, 2119.841556703388, 2733.5019321995615, 2043.7956036617143, 2465.9754498628063, 2051.669580919347], \"Total\": [35071.0, 31484.0, 21587.0, 31329.0, 17964.0, 44809.0, 13226.0, 21737.0, 13572.0, 17816.0, 53840.0, 13752.0, 14190.0, 15767.0, 22119.0, 12492.0, 9417.0, 8764.0, 7703.0, 17785.0, 8194.0, 11666.0, 6716.0, 7584.0, 19788.0, 8626.0, 5829.0, 6954.0, 6567.0, 11995.0, 532.2660884357198, 1796.4457489384502, 405.98683277367314, 333.94640360904634, 8194.256312871505, 232.059300486858, 322.5420957785981, 315.9254600039573, 152.9291975533352, 149.97677182204504, 146.9826061321678, 266.1779089981473, 372.8444559397512, 135.51435023780994, 134.304175837686, 134.4680898938541, 132.8996632145895, 191.2330082358144, 120.13992476509702, 121.07540184544128, 117.31893745981087, 521.5640441860863, 110.98345267398115, 109.6883353864427, 108.30213357893807, 100.53484779386045, 8764.09747745373, 98.88695129993478, 102.30900797747157, 95.98681823180432, 4832.9221974286265, 2510.018865125331, 9417.666439153347, 1558.2800152761454, 489.50758741071803, 582.4318008842329, 3439.1341137620916, 544.6844377432033, 371.26106860199735, 228.4135340104664, 348.0976063303111, 202.1552106682152, 181.79739408182957, 702.5279822562389, 274.3433412256412, 184.3532340707728, 852.3300290573002, 3538.645337119194, 4792.0069015838235, 835.769113090441, 1638.5380090623762, 12492.413129105606, 8626.889281125548, 914.1106622915663, 5654.97614890473, 2339.112413004894, 1485.394010825903, 2739.2700861294084, 1223.7096514719512, 2050.0936981675673, 4905.238526113058, 4691.373561861127, 6205.923684709477, 11995.899413374704, 4370.502672270379, 4906.9111490874075, 22119.9651097753, 6937.7310143741315, 5352.712548739963, 53840.91343776225, 57929.47168547464, 7788.489897448708, 8446.58248829161, 44809.42478599052, 42003.427000366864, 12285.800358788587, 38132.62501076149, 33292.607785809494, 11666.359262460232, 16818.492051262372, 18311.436720257476, 18286.286911767205, 12391.25309367982, 18501.240170234923, 308.6837044281, 203.8498150413032, 175.30332501908794, 691.9557895949551, 172.8641428481998, 147.88295712903613, 142.80711631685782, 122.03197090410141, 116.11070064695045, 114.48022838689107, 112.32056929146947, 107.72402997663717, 105.21626640348092, 104.47789632861542, 163.42573900950225, 129.14568876080983, 94.0305460185685, 92.61540241916057, 130.73906738598794, 80.82632258322775, 80.1025370355607, 77.71382714501394, 75.9689993660268, 74.5835684968417, 73.48617316697758, 67.69012731702095, 63.996197377617754, 63.627119676926206, 60.342538464171184, 135.09391070406616, 7584.069208208305, 2970.329901589787, 1254.551602183211, 230.5926564731173, 401.6165327709145, 723.3426155203267, 4440.892005570886, 1798.5782672815672, 1369.2363039593438, 248.48185778329403, 309.01142684963145, 4506.366103208705, 1536.1655103229007, 14190.808004080998, 6638.105820629419, 838.6886752770962, 644.9429196397955, 340.5158252107227, 664.0902899031586, 17816.896958707068, 2005.1920531903359, 21737.703646907536, 1834.4473733673433, 17785.526010027064, 834.2027752554513, 1444.182299517543, 2222.0278320244697, 4772.914046731493, 4696.484029026938, 2897.810708671441, 2415.3806360171357, 1693.4507047315042, 2871.9697768319847, 3273.229013997573, 4711.380830581141, 13581.642710922602, 21149.992121807267, 11129.8953996062, 2947.5090631833455, 4427.986511122681, 10185.415436130956, 2177.999374257077, 41277.89172182822, 11333.441292533502, 33292.607785809494, 18501.240170234923, 21161.17909041885, 10208.244189264331, 38132.62501076149, 7423.221648464843, 4680.26161210881, 42003.427000366864, 14188.339460818002, 15820.98575057729, 6923.9433966534425, 12672.519203392458, 53840.91343776225, 57929.47168547464, 12285.800358788587, 13226.428042894, 1986.5710469646235, 1651.303149267743, 850.6405273047542, 814.1044204473418, 744.9428402801576, 670.4356742089027, 21587.04690423914, 2544.1369433825726, 444.6455035808036, 477.50859560650866, 447.5830996774654, 439.42121712851315, 415.26747724717904, 427.16900654091023, 409.054426415544, 367.5034347091979, 815.4394625248254, 371.98091166574716, 341.87730311284747, 324.92332100369754, 332.98584427284936, 293.53058614846003, 286.8715521514885, 282.81543035368657, 270.07743957987213, 265.93174507740497, 265.3117201518076, 280.36978742234135, 251.91214227191145, 3972.043488509079, 1905.2609612335275, 1584.6669190515877, 1609.054928358278, 426.30875881651207, 477.83645076731244, 640.5308644122636, 1521.780200440355, 690.6955120206326, 772.841729723873, 31329.40666158503, 13572.901207762297, 809.3896422380809, 661.0936558471666, 777.1920279382579, 4053.8437162326013, 1203.3559841078998, 1665.8198689950998, 1788.8288378986285, 868.9782850465821, 858.9785205114657, 2156.5917034369113, 1186.2580380485276, 22119.9651097753, 7137.5405066181775, 5990.673989753779, 4709.3033178251135, 38132.62501076149, 8077.422873776388, 3422.153065541847, 5488.581466104322, 12285.800358788587, 57929.47168547464, 14188.339460818002, 6191.4352616474125, 8988.339168412718, 12672.519203392458, 13497.334270548494, 41277.89172182822, 21161.17909041885, 7788.489897448708, 16818.492051262372, 42003.427000366864, 11598.8277243268, 18286.286911767205, 12493.63425048014, 12814.322847641919, 9966.384627573178, 18311.436720257476, 33292.607785809494, 639.4084572587486, 453.79032991915335, 444.5817915270613, 323.53383251401556, 289.55590139435003, 252.69478108589095, 262.3644110528722, 1797.2039812256403, 248.60435117760792, 195.8707193348677, 232.23093801990183, 181.95413790169502, 176.45057479727163, 299.41271983160965, 172.25225647406256, 6716.484345103432, 147.9246670336469, 142.22189542109777, 150.81149634566657, 224.95322084279232, 235.64485941838896, 509.5659827361316, 1323.1800233815918, 2068.3789459363193, 126.6020037858451, 132.51919392822322, 126.66754146779914, 119.02712076586437, 116.7581665696051, 166.1892570250814, 3209.6400676447843, 1311.8750061798237, 3520.6946399496724, 686.331999660267, 477.1558072200427, 305.2189496718194, 288.8240324758373, 289.99017137313615, 5829.287825542707, 1939.7493566939365, 481.29998852501683, 656.3249710267995, 2739.743531574923, 1529.4781409923676, 2010.7633144435865, 1653.7821117226258, 639.4451380090219, 632.5790863031439, 982.4086967301741, 2037.3912095535743, 538.5587649094072, 4345.937941022638, 6954.811246616453, 749.1782395406086, 768.258615128157, 2297.8056102459445, 1807.1650068925064, 1612.2828255179118, 3454.467601306862, 6477.331387824744, 1136.311388387332, 3419.850298078051, 3215.8988649523103, 3509.3991051530716, 2717.231889175597, 2521.530683987007, 8988.339168412718, 19788.117343677346, 5990.673989753779, 8011.296124249702, 11584.974707127762, 41277.89172182822, 7863.852267080761, 4048.361878006565, 53840.91343776225, 42003.427000366864, 57929.47168547464, 33292.607785809494, 11623.416046103477, 44809.42478599052, 31329.40666158503, 5788.136669297612, 6573.704534184955, 18286.286911767205, 22119.9651097753, 543.9304123972322, 472.1875752053513, 450.00569945783656, 395.62388562137727, 393.511586558345, 329.4218134480648, 350.7954285697021, 249.110393658192, 240.20100042524246, 273.14664830195915, 425.56592505615333, 348.18651947467254, 220.38787954447716, 215.24400588868005, 181.16774981357761, 226.67040655253845, 200.8082092073285, 152.6761795713437, 143.51720734366384, 140.0417306873511, 139.87205216412445, 147.13573518596775, 125.59766765262002, 3062.0477153434313, 112.52696813431328, 105.19699048160558, 104.03931021782692, 102.25146128725652, 455.83258569959395, 95.92689507032303, 1661.343394616575, 519.7620904175171, 4453.414939600365, 366.21652827651036, 412.2710021389571, 315.00989256329984, 35071.26805946223, 635.7057898340694, 224.94326737620906, 2066.134578902032, 2071.761563399536, 1737.0567147640265, 2488.281107757292, 4323.1801073130055, 2264.9754927664567, 6262.591802108358, 5137.555084171234, 4876.019478873913, 527.1830105169911, 17964.48428687716, 2777.612158533714, 886.6979405341742, 4674.728447370689, 3144.1757653424243, 4458.904727722885, 1719.7864693551387, 44809.42478599052, 2016.4727316658539, 1710.4157912478356, 3807.145111580811, 3025.053093759476, 2069.246962862506, 53840.91343776225, 15767.434572853683, 57929.47168547464, 15533.215399269464, 9174.38422534366, 42003.427000366864, 18311.436720257476, 11598.8277243268, 38132.62501076149, 15820.98575057729, 33292.607785809494, 9300.732135867032, 18286.286911767205, 21149.992121807267, 9796.588612553576, 1118.8122689347774, 1024.9286396952562, 573.8970386046614, 427.2697834034342, 746.9756019390027, 763.9342018950168, 343.18230894994315, 258.0620164218072, 241.0294587614489, 299.4306189052428, 161.54470505144042, 149.09560719293756, 149.92034431997044, 191.50907916695806, 126.94119875564397, 295.3144230944538, 123.58843704421135, 222.4038408567801, 161.47228994343175, 113.85128613959218, 119.48903307694204, 136.33066100897776, 118.5332623306629, 124.40880079685854, 109.4716306589123, 114.09320469402309, 120.19166155230988, 170.20317828678373, 96.80817094741194, 90.62900739610983, 1468.8019088926305, 771.381413677333, 386.3773311257248, 867.1003179393451, 208.15657597129632, 153.01535770928717, 31484.958289875365, 389.1331875813024, 175.54317441343528, 279.4741691098101, 207.05207674242763, 1272.3063999313545, 317.2134978836076, 924.6351348875177, 739.3995482210998, 6415.967369758294, 1435.8856703578047, 609.0582667580529, 423.53185272892233, 1272.5099294486731, 541.3341613335372, 3162.4399135058757, 3130.1863671020533, 9777.430016881084, 3670.972973611047, 1643.197419720442, 18501.240170234923, 3942.5849727081336, 7143.6989461954845, 6351.591377119594, 914.1125855271332, 3123.362491682941, 4055.992355440418, 57929.47168547464, 53840.91343776225, 11333.441292533502, 2633.2697012033923, 6488.489727409348, 41277.89172182822, 12493.63425048014, 13581.642710922602, 8598.944924231188, 42003.427000366864, 18311.436720257476, 9830.398069126932, 21161.17909041885, 18286.286911767205, 11447.176048543708, 44809.42478599052, 12185.529035522854, 7863.852267080761, 7011.752805361215, 438.5877941797976, 390.6249636361194, 298.1840448108396, 213.86641970820972, 193.74297677197887, 194.10057311408377, 170.22688065413564, 193.8082583787966, 164.10365041098868, 238.32881651761494, 150.27848222400402, 497.1750759295364, 143.96305867651856, 123.69962790402474, 115.50591789201756, 107.90974701320408, 105.94692046805605, 101.82642613960184, 114.73887937284468, 101.60147645970231, 98.44908907291223, 97.02361904412015, 103.66384512304842, 89.35663809707107, 88.71183002349618, 85.09954815449841, 122.11623541284494, 85.30326029715287, 327.9055702687636, 80.8133759587408, 278.71533542874903, 305.0544224316802, 139.44457843843307, 167.16289287833908, 118.73027823010781, 385.18707839892306, 116.00482824615369, 3437.9682899138425, 120.7065914897027, 873.5460344502957, 452.1800971837706, 1209.9630454531057, 192.7842663035643, 129.58888199236497, 6567.560939844073, 1038.434363141762, 228.3119710462764, 162.65749346081085, 937.0805331135454, 406.1772673896584, 614.4257550216461, 3276.5235222666115, 2248.254361415839, 703.6236833496282, 13752.743408088481, 10504.980552660829, 5975.352555389516, 13497.334270548494, 2333.3308872871285, 15767.434572853683, 2005.2832341283524, 5868.215312924408, 3422.153065541847, 4427.937472132449, 2981.585282982802, 6482.414093474735, 19788.117343677346, 9934.104653123472, 6934.01545496146, 41277.89172182822, 12672.519203392458, 21161.17909041885, 1323.1453384626923, 4592.621038638408, 33292.607785809494, 7477.907614206748, 12814.322847641919, 6191.4352616474125, 53840.91343776225, 42003.427000366864, 10639.684047783043, 57929.47168547464, 14187.73960923614, 38132.62501076149, 18286.286911767205, 825.2119855645093, 385.826869989049, 251.0523251168199, 201.32121154378626, 214.31585930882113, 169.85593368274073, 168.4258331602401, 148.27839270613245, 126.08316553382708, 127.59714931218264, 119.737399696148, 114.43823843136069, 113.9513739677991, 1355.710199341345, 109.77873547267805, 3416.2447301154116, 102.28309618076817, 252.83070496460468, 3473.4524084144728, 98.88962130493893, 204.70295001487838, 89.78738012896513, 89.47042089692532, 87.01178059277764, 140.70322688137992, 126.24221671261647, 86.45514522883903, 245.8907798391233, 3488.7959138719434, 83.12684350408146, 2883.656785166896, 1378.0388294543545, 130.99804020804325, 142.93471265315048, 103.2527333681846, 3301.6820716755838, 178.17061880115418, 422.66223081001624, 7703.490548034042, 229.9843797388953, 4297.415898883585, 488.64530906968287, 276.3577114198031, 270.4362939072877, 2653.6271009073034, 271.27266357209936, 5049.641064892033, 1666.099263910235, 342.5243866263729, 338.02025916359406, 11666.359262460232, 6625.530614439792, 1649.0351902942004, 3992.4547417173007, 3544.1246054257117, 753.2386629612621, 2284.643770616304, 8011.296124249702, 13752.743408088481, 17964.48428687716, 3164.648849044628, 3054.163680648948, 947.500774708573, 1010.4851169328656, 19788.117343677346, 15767.434572853683, 2218.2075578862186, 44809.42478599052, 11584.974707127762, 53840.91343776225, 11995.899413374704, 41277.89172182822, 57929.47168547464, 21737.703646907536, 42003.427000366864, 31484.958289875365, 11623.416046103477, 35071.26805946223, 10185.415436130956, 33292.607785809494, 16818.492051262372], \"Category\": [\"Default\", \"Default\", \"Default\", \"Default\", \"Default\", \"Default\", \"Default\", \"Default\", \"Default\", \"Default\", \"Default\", \"Default\", \"Default\", \"Default\", \"Default\", \"Default\", \"Default\", \"Default\", \"Default\", \"Default\", \"Default\", \"Default\", \"Default\", \"Default\", \"Default\", \"Default\", \"Default\", \"Default\", \"Default\", \"Default\", \"Topic1\", \"Topic1\", \"Topic1\", \"Topic1\", \"Topic1\", \"Topic1\", \"Topic1\", \"Topic1\", \"Topic1\", \"Topic1\", \"Topic1\", \"Topic1\", \"Topic1\", \"Topic1\", \"Topic1\", \"Topic1\", \"Topic1\", \"Topic1\", \"Topic1\", \"Topic1\", \"Topic1\", \"Topic1\", \"Topic1\", \"Topic1\", \"Topic1\", \"Topic1\", \"Topic1\", \"Topic1\", \"Topic1\", \"Topic1\", \"Topic1\", \"Topic1\", \"Topic1\", \"Topic1\", \"Topic1\", \"Topic1\", \"Topic1\", \"Topic1\", \"Topic1\", \"Topic1\", \"Topic1\", \"Topic1\", \"Topic1\", \"Topic1\", \"Topic1\", \"Topic1\", \"Topic1\", \"Topic1\", \"Topic1\", \"Topic1\", \"Topic1\", \"Topic1\", \"Topic1\", \"Topic1\", \"Topic1\", \"Topic1\", \"Topic1\", \"Topic1\", \"Topic1\", \"Topic1\", \"Topic1\", \"Topic1\", \"Topic1\", \"Topic1\", \"Topic1\", \"Topic1\", \"Topic1\", \"Topic1\", \"Topic1\", \"Topic1\", \"Topic1\", \"Topic1\", \"Topic1\", \"Topic1\", \"Topic1\", \"Topic1\", \"Topic1\", \"Topic1\", \"Topic1\", \"Topic1\", \"Topic1\", \"Topic1\", \"Topic1\", \"Topic1\", \"Topic2\", \"Topic2\", \"Topic2\", \"Topic2\", \"Topic2\", \"Topic2\", \"Topic2\", \"Topic2\", \"Topic2\", \"Topic2\", \"Topic2\", \"Topic2\", \"Topic2\", \"Topic2\", \"Topic2\", \"Topic2\", \"Topic2\", \"Topic2\", \"Topic2\", \"Topic2\", \"Topic2\", \"Topic2\", \"Topic2\", \"Topic2\", \"Topic2\", \"Topic2\", \"Topic2\", \"Topic2\", \"Topic2\", \"Topic2\", \"Topic2\", \"Topic2\", \"Topic2\", \"Topic2\", \"Topic2\", \"Topic2\", \"Topic2\", \"Topic2\", \"Topic2\", \"Topic2\", \"Topic2\", \"Topic2\", \"Topic2\", \"Topic2\", \"Topic2\", \"Topic2\", \"Topic2\", \"Topic2\", \"Topic2\", \"Topic2\", \"Topic2\", \"Topic2\", \"Topic2\", \"Topic2\", \"Topic2\", \"Topic2\", \"Topic2\", \"Topic2\", \"Topic2\", \"Topic2\", \"Topic2\", \"Topic2\", \"Topic2\", \"Topic2\", \"Topic2\", \"Topic2\", \"Topic2\", \"Topic2\", \"Topic2\", \"Topic2\", \"Topic2\", \"Topic2\", \"Topic2\", \"Topic2\", \"Topic2\", \"Topic2\", \"Topic2\", \"Topic2\", \"Topic2\", \"Topic2\", \"Topic2\", \"Topic2\", \"Topic2\", \"Topic2\", \"Topic2\", \"Topic2\", \"Topic2\", \"Topic2\", \"Topic2\", \"Topic3\", \"Topic3\", \"Topic3\", \"Topic3\", \"Topic3\", \"Topic3\", \"Topic3\", \"Topic3\", \"Topic3\", \"Topic3\", \"Topic3\", \"Topic3\", \"Topic3\", \"Topic3\", \"Topic3\", \"Topic3\", \"Topic3\", \"Topic3\", \"Topic3\", \"Topic3\", \"Topic3\", \"Topic3\", \"Topic3\", \"Topic3\", \"Topic3\", \"Topic3\", \"Topic3\", \"Topic3\", \"Topic3\", \"Topic3\", \"Topic3\", \"Topic3\", \"Topic3\", \"Topic3\", \"Topic3\", \"Topic3\", \"Topic3\", \"Topic3\", \"Topic3\", \"Topic3\", \"Topic3\", \"Topic3\", \"Topic3\", \"Topic3\", \"Topic3\", \"Topic3\", \"Topic3\", \"Topic3\", \"Topic3\", \"Topic3\", \"Topic3\", \"Topic3\", \"Topic3\", \"Topic3\", \"Topic3\", \"Topic3\", \"Topic3\", \"Topic3\", \"Topic3\", \"Topic3\", \"Topic3\", \"Topic3\", \"Topic3\", \"Topic3\", \"Topic3\", \"Topic3\", \"Topic3\", \"Topic3\", \"Topic3\", \"Topic3\", \"Topic3\", \"Topic3\", \"Topic3\", \"Topic3\", \"Topic3\", \"Topic3\", \"Topic3\", \"Topic3\", \"Topic3\", \"Topic3\", \"Topic4\", \"Topic4\", \"Topic4\", \"Topic4\", \"Topic4\", \"Topic4\", \"Topic4\", \"Topic4\", \"Topic4\", \"Topic4\", \"Topic4\", \"Topic4\", \"Topic4\", \"Topic4\", \"Topic4\", \"Topic4\", \"Topic4\", \"Topic4\", \"Topic4\", \"Topic4\", \"Topic4\", \"Topic4\", \"Topic4\", \"Topic4\", \"Topic4\", \"Topic4\", \"Topic4\", \"Topic4\", \"Topic4\", \"Topic4\", \"Topic4\", \"Topic4\", \"Topic4\", \"Topic4\", \"Topic4\", \"Topic4\", \"Topic4\", \"Topic4\", \"Topic4\", \"Topic4\", \"Topic4\", \"Topic4\", \"Topic4\", \"Topic4\", \"Topic4\", \"Topic4\", \"Topic4\", \"Topic4\", \"Topic4\", \"Topic4\", \"Topic4\", \"Topic4\", \"Topic4\", \"Topic4\", \"Topic4\", \"Topic4\", \"Topic4\", \"Topic4\", \"Topic4\", \"Topic4\", \"Topic4\", \"Topic4\", \"Topic4\", \"Topic4\", \"Topic4\", \"Topic4\", \"Topic4\", \"Topic4\", \"Topic4\", \"Topic4\", \"Topic4\", \"Topic4\", \"Topic4\", \"Topic4\", \"Topic4\", \"Topic4\", \"Topic4\", \"Topic4\", \"Topic4\", \"Topic4\", \"Topic4\", \"Topic4\", \"Topic4\", \"Topic4\", \"Topic4\", \"Topic5\", \"Topic5\", \"Topic5\", \"Topic5\", \"Topic5\", \"Topic5\", \"Topic5\", \"Topic5\", \"Topic5\", \"Topic5\", \"Topic5\", \"Topic5\", \"Topic5\", \"Topic5\", \"Topic5\", \"Topic5\", \"Topic5\", \"Topic5\", \"Topic5\", \"Topic5\", \"Topic5\", \"Topic5\", \"Topic5\", \"Topic5\", \"Topic5\", \"Topic5\", \"Topic5\", \"Topic5\", \"Topic5\", \"Topic5\", \"Topic5\", \"Topic5\", \"Topic5\", \"Topic5\", \"Topic5\", \"Topic5\", \"Topic5\", \"Topic5\", \"Topic5\", \"Topic5\", \"Topic5\", \"Topic5\", \"Topic5\", \"Topic5\", \"Topic5\", \"Topic5\", \"Topic5\", \"Topic5\", \"Topic5\", \"Topic5\", \"Topic5\", \"Topic5\", \"Topic5\", \"Topic5\", \"Topic5\", \"Topic5\", \"Topic5\", \"Topic5\", \"Topic5\", \"Topic5\", \"Topic5\", \"Topic5\", \"Topic5\", \"Topic5\", \"Topic5\", \"Topic5\", \"Topic5\", \"Topic5\", \"Topic5\", \"Topic5\", \"Topic5\", \"Topic5\", \"Topic5\", \"Topic5\", \"Topic5\", \"Topic5\", \"Topic5\", \"Topic6\", \"Topic6\", \"Topic6\", \"Topic6\", \"Topic6\", \"Topic6\", \"Topic6\", \"Topic6\", \"Topic6\", \"Topic6\", \"Topic6\", \"Topic6\", \"Topic6\", \"Topic6\", \"Topic6\", \"Topic6\", \"Topic6\", \"Topic6\", \"Topic6\", \"Topic6\", \"Topic6\", \"Topic6\", \"Topic6\", \"Topic6\", \"Topic6\", \"Topic6\", \"Topic6\", \"Topic6\", \"Topic6\", \"Topic6\", \"Topic6\", \"Topic6\", \"Topic6\", \"Topic6\", \"Topic6\", \"Topic6\", \"Topic6\", \"Topic6\", \"Topic6\", \"Topic6\", \"Topic6\", \"Topic6\", \"Topic6\", \"Topic6\", \"Topic6\", \"Topic6\", \"Topic6\", \"Topic6\", \"Topic6\", \"Topic6\", \"Topic6\", \"Topic6\", \"Topic6\", \"Topic6\", \"Topic6\", \"Topic6\", \"Topic6\", \"Topic6\", \"Topic6\", \"Topic6\", \"Topic6\", \"Topic6\", \"Topic6\", \"Topic6\", \"Topic6\", \"Topic6\", \"Topic6\", \"Topic6\", \"Topic6\", \"Topic6\", \"Topic6\", \"Topic6\", \"Topic6\", \"Topic6\", \"Topic6\", \"Topic6\", \"Topic6\", \"Topic6\", \"Topic6\", \"Topic6\", \"Topic6\", \"Topic6\", \"Topic7\", \"Topic7\", \"Topic7\", \"Topic7\", \"Topic7\", \"Topic7\", \"Topic7\", \"Topic7\", \"Topic7\", \"Topic7\", \"Topic7\", \"Topic7\", \"Topic7\", \"Topic7\", \"Topic7\", \"Topic7\", \"Topic7\", \"Topic7\", \"Topic7\", \"Topic7\", \"Topic7\", \"Topic7\", \"Topic7\", \"Topic7\", \"Topic7\", \"Topic7\", \"Topic7\", \"Topic7\", \"Topic7\", \"Topic7\", \"Topic7\", \"Topic7\", \"Topic7\", \"Topic7\", \"Topic7\", \"Topic7\", \"Topic7\", \"Topic7\", \"Topic7\", \"Topic7\", \"Topic7\", \"Topic7\", \"Topic7\", \"Topic7\", \"Topic7\", \"Topic7\", \"Topic7\", \"Topic7\", \"Topic7\", \"Topic7\", \"Topic7\", \"Topic7\", \"Topic7\", \"Topic7\", \"Topic7\", \"Topic7\", \"Topic7\", \"Topic7\", \"Topic7\", \"Topic7\", \"Topic7\", \"Topic7\", \"Topic7\", \"Topic7\", \"Topic7\", \"Topic7\", \"Topic7\", \"Topic7\", \"Topic7\", \"Topic7\", \"Topic7\", \"Topic7\", \"Topic7\", \"Topic7\", \"Topic7\", \"Topic7\", \"Topic7\", \"Topic7\", \"Topic7\", \"Topic7\", \"Topic7\", \"Topic7\", \"Topic7\", \"Topic7\", \"Topic7\", \"Topic8\", \"Topic8\", \"Topic8\", \"Topic8\", \"Topic8\", \"Topic8\", \"Topic8\", \"Topic8\", \"Topic8\", \"Topic8\", \"Topic8\", \"Topic8\", \"Topic8\", \"Topic8\", \"Topic8\", \"Topic8\", \"Topic8\", \"Topic8\", \"Topic8\", \"Topic8\", \"Topic8\", \"Topic8\", \"Topic8\", \"Topic8\", \"Topic8\", \"Topic8\", \"Topic8\", \"Topic8\", \"Topic8\", \"Topic8\", \"Topic8\", \"Topic8\", \"Topic8\", \"Topic8\", \"Topic8\", \"Topic8\", \"Topic8\", \"Topic8\", \"Topic8\", \"Topic8\", \"Topic8\", \"Topic8\", \"Topic8\", \"Topic8\", \"Topic8\", \"Topic8\", \"Topic8\", \"Topic8\", \"Topic8\", \"Topic8\", \"Topic8\", \"Topic8\", \"Topic8\", \"Topic8\", \"Topic8\", \"Topic8\", \"Topic8\", \"Topic8\", \"Topic8\", \"Topic8\", \"Topic8\", \"Topic8\", \"Topic8\", \"Topic8\", \"Topic8\", \"Topic8\", \"Topic8\", \"Topic8\", \"Topic8\", \"Topic8\", \"Topic8\", \"Topic8\", \"Topic8\", \"Topic8\", \"Topic8\", \"Topic8\", \"Topic8\", \"Topic8\", \"Topic8\", \"Topic8\", \"Topic8\"], \"logprob\": [30.0, 29.0, 28.0, 27.0, 26.0, 25.0, 24.0, 23.0, 22.0, 21.0, 20.0, 19.0, 18.0, 17.0, 16.0, 15.0, 14.0, 13.0, 12.0, 11.0, 10.0, 9.0, 8.0, 7.0, 6.0, 5.0, 4.0, 3.0, 2.0, 1.0, -7.1652, -5.9492, -7.4366, -7.6327, -4.4332, -7.9975, -7.6685, -7.6907, -8.4166, -8.4362, -8.4565, -7.8628, -7.5261, -8.5382, -8.5472, -8.546, -8.5578, -8.1943, -8.6595, -8.6518, -8.6835, -7.1916, -8.7393, -8.7512, -8.764, -8.8391, -4.3714, -8.8559, -8.8219, -8.8857, -4.9695, -5.6248, -4.3173, -6.1041, -7.2571, -7.0864, -5.3309, -7.1574, -7.5372, -8.0195, -7.6025, -8.1419, -8.2472, -6.9111, -7.843, -8.2336, -6.7365, -5.3562, -5.0692, -6.7677, -6.1229, -4.1792, -4.5412, -6.6917, -5.0119, -5.844, -6.2732, -5.7425, -6.4766, -6.0248, -5.2778, -5.3232, -5.0963, -4.5464, -5.4191, -5.4046, -4.2368, -5.1768, -5.4214, -3.7937, -3.7683, -5.1985, -5.1429, -4.013, -4.1395, -4.9261, -4.2605, -4.5581, -5.0874, -5.0683, -5.0876, -5.1388, -5.3028, -5.2972, -7.636, -8.0525, -8.2037, -6.8311, -8.2182, -8.3749, -8.4099, -8.5682, -8.6183, -8.6326, -8.6518, -8.694, -8.7176, -8.7248, -8.278, -8.5135, -8.8311, -8.8464, -8.502, -8.984, -8.9931, -9.0239, -9.0466, -9.0652, -9.0803, -9.1635, -9.2203, -9.2264, -9.28, -8.4744, -4.4598, -5.3954, -6.2579, -7.9405, -7.3952, -6.8141, -5.026, -5.92, -6.1876, -7.8769, -7.6646, -5.047, -6.1019, -3.9551, -4.6927, -6.7081, -6.9612, -7.5793, -6.9416, -3.8031, -5.8936, -3.6535, -6.0001, -3.8662, -6.7456, -6.2376, -5.8408, -5.1473, -5.1844, -5.6451, -5.8126, -6.134, -5.6797, -5.5709, -5.2692, -4.3972, -4.0468, -4.6042, -5.688, -5.3998, -4.7928, -5.9479, -3.923, -4.8154, -4.1679, -4.6006, -4.5626, -5.0121, -4.3147, -5.2099, -5.4582, -4.4712, -4.9903, -5.103, -5.3888, -5.3162, -5.1503, -5.1664, -5.3441, -3.8462, -5.7424, -5.9276, -6.5911, -6.6351, -6.7239, -6.8295, -3.3577, -5.4963, -7.2408, -7.1696, -7.2344, -7.2528, -7.3093, -7.2811, -7.3245, -7.4317, -6.6348, -7.4197, -7.5042, -7.5552, -7.5309, -7.6571, -7.6801, -7.6944, -7.7407, -7.7562, -7.7585, -7.7034, -7.8105, -5.0605, -5.7911, -5.976, -5.9683, -7.2845, -7.1719, -6.882, -6.0293, -6.8219, -6.7155, -3.1919, -3.994, -6.6836, -6.8749, -6.7253, -5.239, -6.3481, -6.0677, -6.0087, -6.648, -6.6665, -5.8865, -6.4146, -4.217, -5.1458, -5.2992, -5.5, -4.1267, -5.3446, -5.843, -5.5842, -5.1907, -4.3788, -5.1214, -5.585, -5.4118, -5.2598, -5.3538, -4.9638, -5.238, -5.5548, -5.3794, -5.1607, -5.4819, -5.4185, -5.5054, -5.5036, -5.5648, -5.5558, -5.5633, -6.7358, -7.0793, -7.1, -7.4184, -7.5301, -7.6664, -7.6289, -5.7049, -7.6833, -7.9222, -7.752, -7.9963, -8.0274, -7.4987, -8.0516, -4.3883, -8.2044, -8.2439, -8.1853, -7.7856, -7.7393, -6.9682, -6.014, -5.5674, -8.361, -8.3154, -8.3608, -8.4231, -8.4425, -8.0896, -5.1322, -6.0271, -5.0502, -6.6733, -7.0383, -7.4831, -7.5401, -7.5374, -4.5781, -5.6708, -7.0388, -6.7352, -5.3355, -5.9173, -5.6532, -5.8472, -6.7698, -6.7816, -6.3602, -5.6726, -6.9402, -4.9876, -4.5677, -6.6469, -6.6254, -5.6359, -5.8661, -5.9809, -5.3269, -4.7878, -6.3171, -5.4682, -5.5162, -5.4506, -5.6832, -5.756, -4.908, -4.3754, -5.2299, -5.066, -4.9292, -4.359, -5.2173, -5.5305, -4.4558, -4.5921, -4.527, -4.895, -5.2222, -5.0179, -5.1552, -5.5195, -5.5769, -5.5278, -5.5478, -6.7454, -6.887, -6.9353, -7.0646, -7.0702, -7.2481, -7.1853, -7.5282, -7.5647, -7.4363, -6.9929, -7.1939, -7.6516, -7.6752, -7.848, -7.624, -7.7453, -8.0204, -8.0823, -8.1073, -8.1085, -8.0582, -8.2167, -5.0233, -8.3276, -8.3953, -8.4064, -8.4239, -6.9292, -8.4884, -5.6388, -6.7992, -4.6752, -7.1522, -7.0367, -7.3032, -2.6596, -6.6164, -7.6395, -5.4813, -5.4802, -5.6652, -5.3251, -4.8393, -5.4827, -4.5578, -4.7405, -4.8164, -6.8528, -3.678, -5.3667, -6.388, -4.9398, -5.312, -5.0638, -5.8783, -3.2905, -5.7751, -5.9462, -5.353, -5.5509, -5.835, -3.5095, -4.4193, -3.6781, -4.7296, -5.0524, -4.2533, -4.813, -5.0298, -4.6237, -4.9687, -4.7867, -5.2394, -5.2368, -5.2864, -5.4111, -6.0178, -6.1054, -6.6863, -6.9816, -6.4233, -6.402, -7.2036, -7.4888, -7.5575, -7.3406, -7.9578, -8.0383, -8.0329, -7.7887, -8.2002, -7.3559, -8.2272, -7.6397, -7.96, -8.3099, -8.2617, -8.1299, -8.2699, -8.2216, -8.3496, -8.3085, -8.257, -7.9093, -8.474, -8.5401, -5.7674, -6.4093, -7.0954, -6.2958, -7.7109, -8.0168, -2.7904, -7.0987, -7.8861, -7.4411, -7.7297, -6.0136, -7.3372, -6.4005, -6.6083, -4.743, -6.0847, -6.8166, -7.155, -6.2865, -6.9769, -5.6639, -5.6841, -4.8722, -5.5936, -6.1749, -4.4857, -5.5756, -5.2077, -5.3543, -6.6169, -5.9138, -5.7803, -4.3552, -4.4119, -5.2658, -6.0564, -5.623, -4.7681, -5.3286, -5.3571, -5.5725, -5.1151, -5.3945, -5.6115, -5.4047, -5.4726, -5.6569, -5.4972, -5.7932, -5.8328, -5.8488, -6.7973, -6.9139, -7.1849, -7.5175, -7.6172, -7.6155, -7.7469, -7.6172, -7.7837, -7.4109, -7.8732, -6.6769, -7.9163, -8.0681, -8.1377, -8.2058, -8.2242, -8.2642, -8.1449, -8.2666, -8.2983, -8.3129, -8.2469, -8.3961, -8.4034, -8.4456, -8.0845, -8.4433, -7.097, -8.4976, -7.2617, -7.1781, -7.9545, -7.7773, -8.115, -6.9636, -8.1383, -4.8795, -8.0999, -6.2013, -6.8379, -5.9277, -7.6569, -8.0333, -4.3981, -6.1185, -7.513, -7.8255, -6.2346, -7.0198, -6.6749, -5.2459, -5.5706, -6.5626, -4.0973, -4.427, -4.8959, -4.3001, -5.6999, -4.3358, -5.8721, -5.1057, -5.5671, -5.3872, -5.6781, -5.1974, -4.5753, -5.0284, -5.2563, -4.2445, -4.9364, -4.6658, -6.2685, -5.6496, -4.8904, -5.5403, -5.3175, -5.7238, -5.2564, -5.3238, -5.6379, -5.4634, -5.6667, -5.6138, -5.667, -6.1047, -6.8663, -7.2974, -7.5186, -7.4565, -7.6893, -7.6978, -7.8259, -7.9891, -7.9775, -8.0411, -8.0867, -8.091, -5.6152, -8.1289, -4.6912, -8.1999, -7.2954, -4.6755, -8.2347, -7.5073, -8.3315, -8.3351, -8.3632, -7.8826, -7.9911, -8.3697, -7.3246, -4.6722, -8.4093, -4.8675, -5.6225, -7.9557, -7.8707, -8.1931, -4.7814, -7.6564, -6.8108, -3.9974, -7.4092, -4.5747, -6.682, -7.2343, -7.2686, -5.1353, -7.2857, -4.6422, -5.6467, -7.0843, -7.1052, -4.1117, -4.596, -5.7895, -5.1276, -5.2767, -6.4921, -5.6577, -4.7235, -4.3277, -4.1839, -5.5088, -5.5476, -6.372, -6.3316, -4.4224, -4.5763, -5.8361, -4.0696, -4.8872, -4.0128, -4.8783, -4.2929, -4.1846, -4.7244, -4.648, -4.7843, -5.1599, -4.9056, -5.1964, -5.0086, -5.1925], \"loglift\": [30.0, 29.0, 28.0, 27.0, 26.0, 25.0, 24.0, 23.0, 22.0, 21.0, 20.0, 19.0, 18.0, 17.0, 16.0, 15.0, 14.0, 13.0, 12.0, 11.0, 10.0, 9.0, 8.0, 7.0, 6.0, 5.0, 4.0, 3.0, 2.0, 1.0, 1.7994, 1.799, 1.7989, 1.7982, 1.7974, 1.7973, 1.7971, 1.7956, 1.7953, 1.7951, 1.795, 1.7949, 1.7946, 1.7945, 1.7945, 1.7945, 1.7944, 1.794, 1.7936, 1.7936, 1.7934, 1.7934, 1.7931, 1.793, 1.7929, 1.7922, 1.7919, 1.7919, 1.7919, 1.7919, 1.7891, 1.7889, 1.7741, 1.7864, 1.7913, 1.7882, 1.768, 1.7842, 1.7877, 1.7911, 1.7868, 1.7909, 1.7917, 1.776, 1.7844, 1.7913, 1.7574, 1.7141, 1.6979, 1.7457, 1.7173, 1.6297, 1.638, 1.7321, 1.5896, 1.6403, 1.6652, 1.5838, 1.6556, 1.5913, 1.4659, 1.4652, 1.4123, 1.3031, 1.4401, 1.3388, 1.0008, 1.2203, 1.235, 0.5543, 0.5065, 1.0829, 1.0574, 0.5186, 0.4568, 0.8996, 0.4325, 0.2706, 0.7899, 0.4433, 0.3389, 0.2891, 0.5142, 0.119, 1.8735, 1.8719, 1.8716, 1.8712, 1.8711, 1.8705, 1.8704, 1.8693, 1.869, 1.8688, 1.8687, 1.8682, 1.8682, 1.868, 1.8675, 1.8674, 1.8671, 1.867, 1.8666, 1.8655, 1.8654, 1.8649, 1.8649, 1.8647, 1.8644, 1.8634, 1.8627, 1.8624, 1.8618, 1.8614, 1.8482, 1.85, 1.8494, 1.8606, 1.8511, 1.8438, 1.8172, 1.8271, 1.8322, 1.8495, 1.8438, 1.7815, 1.8028, 1.7263, 1.7485, 1.8019, 1.8114, 1.832, 1.8018, 1.6508, 1.7447, 1.6015, 1.7272, 1.5895, 1.7697, 1.7289, 1.6948, 1.6238, 1.6029, 1.625, 1.6396, 1.6733, 1.5994, 1.5773, 1.5149, 1.3281, 1.2356, 1.3202, 1.5651, 1.4463, 1.2203, 1.6077, 0.6907, 1.0909, 0.6608, 0.8156, 0.7193, 0.9987, 0.3783, 1.1196, 1.3325, 0.1251, 0.6914, 0.4697, 1.0103, 0.4784, -0.8023, -0.8916, 0.4815, 1.9057, 1.9053, 1.9049, 1.9047, 1.9046, 1.9046, 1.9044, 1.9043, 1.9039, 1.9038, 1.9036, 1.9036, 1.9036, 1.9036, 1.9035, 1.9035, 1.9033, 1.9033, 1.9033, 1.9031, 1.903, 1.9028, 1.9027, 1.9027, 1.9026, 1.9024, 1.9024, 1.9024, 1.9023, 1.9022, 1.8943, 1.8984, 1.8977, 1.8901, 1.9021, 1.9007, 1.8975, 1.8849, 1.8822, 1.8762, 1.6976, 1.732, 1.8619, 1.873, 1.8608, 1.6954, 1.8008, 1.756, 1.7438, 1.8265, 1.8196, 1.679, 1.7487, 1.0205, 1.2229, 1.2446, 1.2845, 0.5662, 0.9004, 1.2608, 1.0472, 0.6349, -0.1039, 0.5602, 0.9259, 0.7263, 0.5348, 0.3777, -0.3501, 0.0439, 0.7266, 0.1321, -0.5644, 0.4013, 0.0094, 0.3034, 0.2799, 0.47, -0.1293, -0.7346, 2.0454, 2.0449, 2.0447, 2.0441, 2.0434, 2.0432, 2.0432, 2.0429, 2.0427, 2.0421, 2.0421, 2.0418, 2.0413, 2.0413, 2.0413, 2.0412, 2.0407, 2.0405, 2.0405, 2.0403, 2.0401, 2.04, 2.04, 2.0399, 2.0397, 2.0397, 2.0395, 2.0393, 2.0392, 2.0391, 2.0357, 2.0355, 2.0252, 2.0371, 2.0356, 2.0376, 2.0359, 2.0346, 1.993, 2.0007, 2.0265, 2.02, 1.9907, 1.9918, 1.9824, 1.9838, 2.0114, 2.0104, 1.9916, 1.9498, 2.0127, 1.8772, 1.8269, 1.9759, 1.9723, 1.8662, 1.8762, 1.8755, 1.7675, 1.678, 1.8892, 1.6363, 1.6497, 1.628, 1.6512, 1.6532, 1.2301, 0.9735, 1.314, 1.1872, 0.9551, 0.2547, 1.0544, 1.4052, -0.1078, 0.0042, -0.2522, -0.0663, 0.6589, -0.4862, -0.2657, 1.0587, 0.8741, -0.0999, -0.3103, 2.1976, 2.1974, 2.1972, 2.1968, 2.1965, 2.1964, 2.1963, 2.1957, 2.1956, 2.1955, 2.1955, 2.1952, 2.1949, 2.1948, 2.1944, 2.1943, 2.1941, 2.1931, 2.193, 2.1926, 2.1926, 2.1922, 2.192, 2.1917, 2.191, 2.1907, 2.1906, 2.1905, 2.1904, 2.1899, 2.1877, 2.1892, 2.1651, 2.1864, 2.1834, 2.186, 2.1171, 2.1707, 2.1864, 2.127, 2.1255, 2.1167, 2.0974, 2.0308, 2.0338, 1.9416, 1.957, 1.9333, 2.1214, 1.7677, 1.9458, 2.0663, 1.8521, 1.8765, 1.7753, 1.9135, 1.2412, 1.8576, 1.8511, 1.6442, 1.6762, 1.7718, 0.8386, 1.1568, 0.5967, 0.8615, 1.0652, 0.343, 0.6135, 0.8534, 0.0693, 0.604, 0.042, 0.8646, 0.1911, -0.004, 0.6409, 2.204, 2.204, 2.2031, 2.2028, 2.2025, 2.2013, 2.2, 2.1998, 2.1994, 2.1993, 2.1992, 2.199, 2.1988, 2.1982, 2.1979, 2.1979, 2.1977, 2.1976, 2.1975, 2.197, 2.1969, 2.1968, 2.1968, 2.1967, 2.1965, 2.1963, 2.1957, 2.1955, 2.1951, 2.195, 2.1822, 2.1843, 2.1896, 2.1808, 2.1926, 2.1945, 2.0941, 2.1792, 2.1878, 2.1678, 2.1791, 2.0796, 2.145, 2.0119, 2.0277, 1.7323, 1.8876, 2.0133, 2.0382, 1.8066, 1.9709, 1.5189, 1.5089, 1.1818, 1.44, 1.6625, 0.9305, 1.3867, 1.1601, 1.1311, 1.8069, 1.2813, 1.1536, -0.0803, -0.0639, 0.6405, 1.3095, 0.841, -0.1543, 0.4802, 0.3683, 0.6099, -0.5188, 0.0321, 0.4371, -0.1228, -0.0447, 0.2394, -0.9656, 0.0406, 0.439, 0.5377, 2.361, 2.3601, 2.3592, 2.3589, 2.3581, 2.3579, 2.3578, 2.3577, 2.3576, 2.3573, 2.3561, 2.356, 2.356, 2.3559, 2.3548, 2.3547, 2.3546, 2.3543, 2.3543, 2.3542, 2.354, 2.3539, 2.3537, 2.353, 2.353, 2.3524, 2.3524, 2.3523, 2.3521, 2.352, 2.3499, 2.3433, 2.3497, 2.3456, 2.35, 2.3245, 2.3499, 2.2197, 2.3485, 2.2679, 2.2898, 2.2157, 2.3233, 2.3442, 2.0538, 2.1779, 2.2981, 2.3246, 2.1644, 2.2153, 2.1462, 1.9013, 1.9533, 2.1229, 1.6155, 1.5552, 1.6505, 1.4315, 1.7869, 1.2403, 1.7662, 1.4588, 1.5367, 1.459, 1.5635, 1.2676, 0.7737, 1.0097, 1.1413, 0.3692, 0.8582, 0.6161, 1.7855, 1.16, -0.0617, 0.7818, 0.466, 0.7871, -0.9084, -0.7275, 0.3315, -1.1886, 0.015, -0.9208, -0.2391, 2.4215, 2.4201, 2.4187, 2.4183, 2.4178, 2.4176, 2.4176, 2.4168, 2.4158, 2.4154, 2.4154, 2.415, 2.415, 2.4145, 2.4144, 2.4143, 2.4141, 2.4137, 2.4134, 2.4131, 2.413, 2.4129, 2.4128, 2.4126, 2.4125, 2.4125, 2.4125, 2.4124, 2.4123, 2.4121, 2.4074, 2.3909, 2.4109, 2.4087, 2.4116, 2.3583, 2.4027, 2.3844, 2.295, 2.3946, 2.3014, 2.3682, 2.3858, 2.3731, 2.2228, 2.353, 2.0726, 2.1769, 2.3212, 2.3136, 1.7657, 1.8472, 2.0444, 1.8221, 1.792, 2.1253, 1.8502, 1.5297, 1.3851, 1.2618, 1.6732, 1.67, 2.016, 1.992, 0.9266, 0.9998, 1.7013, 0.4621, 0.9971, 0.3352, 0.9712, 0.3209, 0.0903, 0.5306, -0.0517, 0.1002, 0.7212, -0.1289, 0.8167, -0.1799, 0.319]}, \"token.table\": {\"Topic\": [6, 1, 2, 3, 4, 5, 6, 7, 8, 1, 2, 3, 4, 5, 6, 7, 8, 3, 1, 2, 3, 4, 5, 6, 7, 8, 1, 2, 4, 6, 8, 1, 1, 5, 6, 7, 1, 2, 3, 4, 8, 1, 2, 3, 4, 5, 6, 7, 8, 2, 2, 6, 1, 2, 3, 4, 5, 6, 7, 8, 1, 2, 3, 4, 5, 6, 7, 8, 1, 2, 3, 4, 5, 6, 7, 8, 1, 2, 3, 4, 6, 7, 1, 2, 3, 4, 5, 6, 7, 8, 1, 2, 3, 4, 5, 6, 7, 8, 1, 2, 4, 5, 6, 7, 8, 1, 2, 4, 6, 8, 1, 1, 2, 3, 4, 5, 6, 7, 8, 6, 1, 2, 3, 4, 5, 6, 7, 8, 1, 2, 3, 4, 5, 6, 7, 8, 5, 6, 7, 8, 6, 8, 1, 4, 5, 6, 7, 8, 1, 2, 3, 4, 5, 6, 7, 8, 1, 2, 3, 4, 5, 6, 7, 8, 3, 6, 7, 6, 2, 3, 5, 8, 2, 3, 4, 7, 7, 1, 3, 4, 5, 6, 7, 8, 1, 2, 3, 4, 5, 6, 7, 8, 1, 2, 3, 4, 5, 6, 7, 8, 1, 2, 3, 4, 5, 6, 7, 8, 1, 2, 3, 4, 5, 6, 7, 8, 1, 2, 4, 7, 8, 7, 3, 5, 6, 7, 8, 6, 3, 4, 3, 4, 1, 2, 8, 1, 2, 3, 1, 2, 3, 4, 5, 6, 7, 8, 1, 2, 3, 4, 5, 6, 7, 8, 2, 1, 4, 5, 6, 8, 1, 2, 3, 4, 6, 7, 8, 6, 1, 2, 1, 2, 4, 5, 6, 7, 8, 6, 7, 1, 2, 3, 4, 5, 6, 7, 8, 1, 2, 3, 4, 5, 6, 7, 8, 2, 5, 6, 7, 1, 2, 5, 6, 8, 3, 3, 4, 2, 3, 5, 7, 5, 1, 2, 3, 4, 5, 6, 7, 8, 1, 2, 3, 4, 5, 6, 7, 8, 1, 2, 4, 3, 3, 1, 2, 3, 4, 6, 7, 8, 5, 6, 8, 6, 2, 3, 6, 7, 8, 7, 1, 2, 3, 4, 5, 6, 7, 8, 1, 3, 8, 1, 2, 3, 4, 6, 8, 1, 1, 2, 3, 4, 6, 1, 2, 3, 4, 6, 4, 1, 2, 3, 4, 6, 7, 8, 8, 1, 2, 3, 4, 5, 1, 2, 5, 6, 7, 8, 2, 7, 5, 6, 8, 4, 7, 7, 1, 8, 1, 2, 5, 8, 2, 5, 7, 8, 1, 2, 4, 5, 6, 7, 8, 1, 2, 3, 4, 5, 6, 7, 8, 1, 2, 3, 4, 5, 6, 7, 8, 3, 8, 4, 1, 8, 7, 6, 7, 1, 2, 3, 4, 5, 6, 7, 8, 1, 2, 3, 4, 5, 6, 7, 8, 1, 2, 3, 4, 5, 1, 2, 3, 4, 5, 6, 7, 8, 8, 2, 1, 2, 4, 7, 6, 7, 1, 2, 3, 4, 5, 6, 7, 8, 1, 2, 4, 5, 6, 7, 8, 1, 5, 1, 2, 4, 5, 6, 8, 1, 2, 4, 2, 1, 2, 3, 4, 5, 1, 2, 3, 4, 5, 8, 1, 3, 4, 5, 6, 7, 8, 7, 1, 2, 3, 4, 5, 6, 7, 8, 1, 2, 3, 4, 6, 8, 2, 1, 2, 3, 4, 5, 6, 7, 8, 1, 2, 3, 4, 5, 6, 7, 8, 1, 2, 3, 4, 5, 6, 7, 8, 8, 1, 2, 3, 4, 5, 6, 7, 8, 5, 6, 7, 8, 1, 2, 3, 4, 5, 6, 7, 8, 1, 2, 3, 5, 6, 7, 8, 2, 2, 3, 4, 3, 6, 8, 3, 4, 1, 2, 3, 4, 5, 6, 7, 8, 4, 1, 2, 3, 4, 5, 6, 7, 8, 6, 1, 2, 3, 4, 7, 8, 2, 2, 3, 6, 7, 1, 2, 3, 4, 5, 6, 7, 8, 5, 8, 1, 2, 4, 6, 8, 1, 4, 5, 6, 7, 8, 1, 2, 3, 4, 5, 6, 7, 8, 3, 6, 1, 2, 3, 4, 5, 6, 7, 8, 2, 3, 4, 5, 6, 7, 8, 1, 2, 3, 4, 6, 7, 8, 7, 7, 5, 8, 1, 3, 4, 5, 6, 7, 8, 7, 1, 2, 3, 4, 5, 6, 8, 1, 2, 3, 4, 5, 6, 7, 8, 2, 8, 5, 7, 8, 7, 7, 6, 3, 2, 4, 5, 6, 1, 2, 3, 4, 5, 6, 7, 8, 3, 3, 4, 2, 3, 4, 7, 1, 2, 3, 4, 5, 6, 7, 8, 3, 7, 1, 4, 3, 1, 2, 3, 4, 5, 6, 7, 8, 1, 2, 3, 4, 2, 6, 7, 8, 1, 5, 8, 2, 6, 8, 1, 2, 3, 4, 5, 6, 7, 8, 3, 4, 7, 1, 4, 5, 7, 8, 1, 2, 3, 4, 5, 6, 7, 8, 3, 1, 4, 6, 8, 1, 2, 3, 4, 5, 6, 7, 8, 2, 4, 1, 5, 8, 5, 3, 1, 2, 4, 5, 8, 7, 4, 5, 8, 1, 2, 3, 4, 5, 6, 7, 8, 1, 2, 4, 5, 6, 7, 8, 1, 5, 4, 1, 2, 3, 4, 5, 6, 7, 8, 1, 3, 1, 4, 1, 2, 8, 1, 2, 3, 4, 5, 6, 7, 8, 1, 2, 3, 4, 5, 6, 7, 8, 2, 3, 6, 1, 2, 3, 4, 7, 1, 2, 3, 4, 5, 6, 7, 8, 8, 1, 4, 5, 7, 2, 1, 2, 6, 7, 3, 4, 6, 7, 3, 1, 2, 1, 2, 5, 8, 1, 2, 3, 4, 5, 6, 7, 8, 1, 2, 3, 4, 5, 6, 7, 8, 1, 2, 3, 4, 6, 7, 5, 6, 8, 2, 2, 6, 7, 8, 1, 2, 4, 5, 6, 7, 8, 1, 2, 3, 4, 5, 6, 7, 8, 1, 2, 3, 4, 5, 6, 7, 8, 1, 2, 3, 4, 5, 6, 7, 8, 1, 2, 3, 4, 5, 6, 7, 8, 3, 4, 6, 7, 3, 4, 5, 7, 8, 3, 1, 2, 5, 6, 7, 8, 5, 8, 3, 1, 2, 3, 4, 5, 6, 7, 8, 1, 2, 4, 5, 6, 7, 8, 1, 2, 3, 4, 5, 6, 7, 8, 5, 8, 2, 4, 6, 5, 1, 2, 3, 6, 5, 2, 6, 1, 5, 7, 8, 1, 2, 3, 6, 8, 5, 7, 8, 3, 1, 2, 3, 4, 5, 6, 7, 8, 3, 3, 1, 1, 2, 3, 4, 5, 6, 7, 8, 5, 5, 8, 2, 1, 2, 3, 4, 6, 1, 4, 5, 6, 6, 4, 5, 6, 7, 8, 1, 2, 3, 4, 5, 6, 7, 8, 5, 6, 4, 1, 2, 3, 4, 6, 1, 2, 5, 6, 8, 1, 2, 3, 4, 5, 6, 7, 8, 4, 6, 8, 3, 7, 1, 2, 3, 4, 5, 6, 7, 8, 3, 4, 6, 2, 4, 4, 1, 2, 3, 4, 5, 6, 7, 8, 1, 2, 3, 4, 5, 6, 7, 8, 2, 3, 4, 5, 6, 7, 8, 4, 6, 5, 1, 2, 3, 4, 5, 6, 7, 8, 1, 2, 3, 4, 5, 6, 7, 8, 6, 7, 5, 8, 1, 2, 1, 6, 8, 7, 8, 1, 2, 3, 4, 5, 6, 7, 8, 1, 2, 3, 4, 5, 6, 7, 8, 7, 1, 2, 3, 4, 5, 6, 7, 8, 1, 2, 3, 5, 6, 7, 8, 8, 4, 1, 2, 3, 4, 5, 6, 7, 8, 2, 2, 1, 2, 3, 4, 5, 6, 7, 8, 1, 2, 3, 4, 5, 6, 7, 8, 5, 8, 2, 3, 4, 6, 8, 1, 4, 5, 8, 1, 1, 1, 1, 5, 8, 1, 2, 3, 4, 5, 6, 7, 8, 7, 1, 1, 1, 2, 3, 4, 5, 6, 7, 8, 7, 2, 4, 8, 2, 8, 6, 7, 1, 2, 3, 4, 5, 6, 7, 8, 1, 2, 4, 7, 8, 8, 1, 2, 3, 4, 5, 6, 7, 8, 1, 2, 3, 4, 5, 6, 7, 8, 1, 2, 4, 5, 6, 2, 1, 2, 4, 5, 1, 2, 3, 4, 5, 6, 7, 8, 5, 6, 1, 2, 3, 4, 5, 6, 7, 8, 2, 4, 1, 2, 3, 4, 5, 6, 7, 8, 1, 1, 2, 3, 4, 5, 6, 7, 8, 5, 7, 1, 2, 3, 4, 5, 6, 7, 8, 1, 2, 3, 4, 5, 6, 7, 8, 1, 2, 3, 4, 5, 6, 7, 8, 1, 2, 3, 4, 5, 6, 7, 8, 2, 3, 4, 6, 7, 8, 1, 2, 4, 6, 7, 4, 8, 4, 2, 4, 3, 2, 4, 8, 1, 2, 3, 4, 6, 7, 8, 1, 2, 1, 2, 5, 6, 7, 8, 2, 2, 3, 6, 7, 6, 1, 2, 3, 4, 5, 6, 7, 8, 1, 2, 3, 4, 5, 6, 7, 8, 2, 3, 6, 7, 7, 8, 1, 2, 4, 3, 4, 6, 7, 1, 2, 3, 4, 5, 6, 7, 8, 5, 7, 8, 3, 1, 5, 1, 2, 4, 8, 2, 2, 3, 4, 7, 1, 2, 3, 4, 5, 6, 7, 8, 6, 7, 1, 2, 3, 4, 5, 6, 7, 8, 1, 2, 3, 4, 5, 6, 7, 8, 1, 2, 3, 4, 5, 6, 7, 8, 1, 2, 3, 4, 5, 6, 7, 8, 8, 2, 3, 7, 6, 5, 8, 7, 8, 3, 2, 3, 1, 2, 3, 4, 5, 6, 7, 8, 3, 1, 2, 3, 4, 5, 6, 7, 8, 1, 2, 4, 1, 4, 8, 1, 2, 3, 4, 5, 6, 7, 8, 1, 2, 3, 4, 5, 6, 7, 8, 1, 2, 3, 4, 5, 6, 7, 8, 1, 2, 3, 4, 5, 6, 7, 8, 7, 7, 6, 7, 1, 2, 3, 4, 5, 6, 7, 8, 1, 2, 3, 4, 6, 7, 8, 1, 2, 3, 4, 5, 6, 7, 8, 6, 5, 2, 1, 2, 3, 4, 5, 7, 8, 5, 1, 4, 5, 6, 7, 8, 6, 8, 1, 4, 6, 4, 7, 6, 4, 2, 1, 2, 4, 6, 1, 2, 4, 5, 8, 1, 2, 3, 4, 6, 7, 8, 4, 1, 2, 3, 4, 5, 6, 7, 8, 4, 3, 6, 7, 3, 7, 5, 8, 8, 1, 2, 3, 4, 5, 6, 7, 8, 1, 2, 4, 6, 7, 8, 1, 2, 3, 4, 5, 6, 7, 8, 2, 3, 5, 6, 7, 1, 2, 3, 5, 6, 7, 2, 1, 2, 3, 4, 5, 6, 7, 1, 2, 3, 4, 5, 6, 7, 8, 4, 1, 2, 3, 4, 6, 7, 3, 1, 2, 3, 4, 5, 6, 7, 8, 1, 2, 3, 5, 6, 7, 7, 4, 6, 7, 1, 2, 3, 4, 5, 6, 7, 8, 1, 2, 3, 4, 5, 6, 7, 8, 1, 2, 3, 4, 5, 6, 8, 4, 6, 4, 5, 6, 7, 8, 1, 4, 7, 8, 4, 7, 4, 5, 6, 7, 2, 3, 4, 7, 8, 4, 3, 7, 8, 5, 6, 7, 8, 5, 8, 4, 1, 2, 3, 4, 5, 6, 7, 8, 2, 5, 6, 7, 8, 4, 7, 4, 6, 7, 8, 5, 6, 7, 8, 5, 6, 7, 8, 8, 6, 3, 7, 1, 2, 3, 4, 5, 6, 7, 8, 1, 6, 7, 8, 1, 2, 3, 4, 5, 6, 7, 8, 1, 2, 3, 4, 5, 6, 7, 8, 1, 2, 3, 4, 5, 7, 8, 8, 1, 2, 3, 4, 5, 6, 7, 8, 5, 5, 1, 2, 3, 4, 5, 6, 7, 8, 1, 2, 4, 5, 6, 7, 8, 5, 8, 1, 2, 4, 5, 6, 7, 8, 8, 1, 2, 3, 4, 5, 6, 7, 8, 5, 5, 8, 1, 2, 3, 4, 5, 6, 7, 8, 8, 1, 2, 3, 4, 5, 6, 7, 8, 6, 8, 2, 4, 5, 6, 7, 8, 6, 7, 8, 4, 6, 7, 8, 6, 1, 2, 3, 4, 6, 7, 1, 2, 3, 1, 2, 3, 4, 5, 6, 7, 8, 1, 2, 3, 4, 5, 6, 7, 8, 1, 2, 3, 4, 5, 6, 7, 8, 2, 1, 2, 3, 4, 5, 6, 7, 8, 1, 2, 3, 4, 5, 6, 7, 8, 1, 2, 3, 4, 5, 6, 7, 8, 1, 2, 3, 4, 5, 6, 7, 8, 5, 1, 2, 3, 4, 5, 6, 7, 8, 5, 2, 4, 1, 3, 6, 7, 2, 3, 4, 8, 5, 1, 2, 3, 6, 7, 7, 3, 6, 1, 2, 3, 4, 5, 6, 7, 8, 1, 2, 4, 5, 6, 7, 8, 1, 2, 3, 4, 5, 6, 7, 8, 2, 8, 1, 2, 3, 4, 5, 6, 7, 8, 5, 6, 8, 7, 6, 8, 1, 2, 3, 4, 5, 6, 7, 8, 1, 1, 2, 4, 5, 6, 7, 8, 1, 2, 3, 4, 5, 6, 7, 8, 2, 5, 6, 7, 5, 3, 4, 5, 1, 1, 2, 3, 4, 5, 6, 7, 8, 1, 2, 3, 4, 5, 6, 7, 8, 1, 2, 3, 4, 5, 6, 7, 8, 2, 5, 6, 1, 2, 3, 4, 5, 6, 7, 8, 5, 3, 5, 6, 7, 8, 1, 2, 3, 4, 5, 6, 7, 8, 1, 2, 3, 4, 5, 6, 7, 8, 1, 3, 4, 6, 7, 8, 1, 2, 3, 4, 6, 7, 8, 4, 1, 2, 3, 4, 5, 6, 7, 8, 6, 5, 8, 1, 2, 3, 4, 5, 6, 7, 8, 1, 2, 3, 4, 5, 6, 7, 8, 1, 2, 3, 4, 5, 6, 7, 8, 6, 1, 2, 3, 4, 5, 6, 7, 8, 5, 2, 3], \"Freq\": [0.9908820891563034, 0.11160759272092169, 0.011748167654833861, 0.040773052449129286, 0.37231325435539664, 0.05321228878954161, 0.05079354839001699, 0.055803796360460844, 0.30372468731173424, 0.059041632298206775, 0.01710085332950175, 0.01735050082336309, 0.42327732584190103, 0.01797461955801644, 0.009861076007522908, 0.045935138870486454, 0.4094218899325967, 0.9951143543855603, 0.11935518592297846, 0.4690685749252946, 0.06789504932864689, 0.06708677493187729, 0.1551886841797643, 0.052672548189485975, 0.047957614208329946, 0.02088042191654815, 0.01637179330592769, 0.004092948326481922, 0.010232370816204804, 0.02251121579565057, 0.9475175375805649, 0.9905116907029378, 0.9932305079423952, 0.9952414112157476, 0.05693963369693409, 0.937313970087992, 0.9673946667815675, 0.01366623063983579, 0.004652333834837715, 0.003780021240805644, 0.010467751128384861, 0.007682504219978078, 0.7594638453150784, 0.01610105674845705, 0.0057503774101632325, 0.017803168461865367, 0.014260935977204816, 0.028245853838721795, 0.15075189418483928, 0.9925653148966455, 0.9932788443136207, 0.9959072973950075, 0.0009918309177172728, 0.0009918309177172728, 0.0014877463765759094, 0.018844787436628183, 0.710646852544426, 0.2296088574515487, 0.002479577294293182, 0.03520999757896319, 0.01198304770700941, 0.9093801759874919, 0.001775266326964357, 0.0019971746178349017, 0.0039943492356698035, 0.04149685039279184, 0.029069986104041348, 0.00044381658174108925, 0.18753880741278153, 0.00045081444089610945, 0.030655381980935443, 0.10684302249237794, 0.17040785865872937, 0.01758176319494827, 0.0009016288817922189, 0.485977967286006, 0.002922136972975126, 0.008181983524330352, 0.5245235866490351, 0.025422591664883594, 0.0011688547891900503, 0.4377361185516739, 0.18370993098203278, 0.08260782131406842, 0.13516242405305598, 0.0886184650290846, 0.16906861936853185, 0.25568353649261105, 0.04007095810010782, 0.0450027683278134, 0.18598753209722305, 0.34608490788099944, 0.114262610535754, 0.012539699926345755, 0.02486319812982348, 0.27960287809908013, 0.0032970762737374614, 0.03334911575239367, 0.26058033389443264, 0.0460213477522387, 0.6722848232455411, 0.0006219101047599824, 0.0003109550523799912, 0.01243820209519965, 0.007773876309499781, 0.9963076194206937, 0.0024407340015205627, 0.00024407340015205627, 0.00024407340015205627, 0.0006101835003801407, 0.9911179163641011, 0.00020508531689273398, 0.017637337252775123, 0.016406825351418717, 0.19093443002713534, 0.7664038292281469, 0.003486450387176478, 0.002461023802712808, 0.002461023802712808, 0.9970281460268038, 0.18127821143479317, 0.24486464124769483, 0.08785798950291579, 0.10738901019097406, 0.20283186209701928, 0.03040265679921043, 0.07831370431231127, 0.06706282508100263, 0.1930540082802849, 0.18459600134577078, 0.09155792506611542, 0.11657952891405303, 0.13004185661815468, 0.07344369354803099, 0.09557547836000962, 0.11524034448275496, 0.2711568883188251, 0.011875484159948546, 0.06630478655971271, 0.6501827577571829, 0.9921628511394666, 0.0033862213349469847, 0.002313112049873703, 0.00023131120498737028, 0.8449798318188636, 0.06361058137152682, 0.00046262240997474056, 0.08836088030517544, 0.001521844181300839, 0.0010145627875338926, 0.013950238328591024, 0.043879840560840856, 0.3728518244187055, 0.4413348125772433, 0.0005072813937669463, 0.12504486356355227, 0.006423288793860865, 0.0011678706897928846, 0.000778580459861923, 0.056836373569920384, 0.7848091035408185, 0.021605607761168363, 0.009148320403377595, 0.11912281035887423, 0.031122871772908102, 0.005187145295484684, 0.9596218796646665, 0.9904183189791639, 0.9954258618769248, 0.0016328942148568749, 0.9924731037900086, 0.00587841917348475, 0.004723762352309528, 0.9925149564685908, 0.0015745874507698426, 0.0005248624835899476, 0.996165142167433, 0.023477171088916726, 0.008537153123242446, 0.06402864842431834, 0.009604297263647752, 0.06509579256472366, 0.8195666998312748, 0.008537153123242446, 0.00015226352814378942, 0.0100493928574901, 0.00015226352814378942, 0.026189326840731778, 0.0038065882035947353, 0.07171612175572481, 0.7340624691812088, 0.1539384269533711, 0.12871949138735236, 0.4156444459334369, 0.0983518792640044, 0.04574733826323711, 0.09844983930311198, 0.09942943969418772, 0.07954355175535018, 0.03409009360943579, 0.16463398777246352, 0.5777651619188378, 0.011854236149985074, 0.00699473561645082, 0.023487585912082228, 0.15933271446315342, 0.009350857087255308, 0.04645977025242597, 0.08630182495947869, 0.15173947245622627, 0.22209140968593116, 0.10371737804820465, 0.2602849246280381, 0.09552689515994243, 0.0331930095997995, 0.04707372270517019, 0.001869368487913589, 0.00841215819561115, 0.9888959301062886, 0.0006231228293045297, 0.9947421629158617, 0.9919759289904442, 0.9986972258830024, 0.7065651057994138, 0.04492239546408625, 0.002139161688766012, 0.2460035942080914, 0.9966281466714308, 0.006552673096314826, 0.9894536375435388, 0.06673979216302343, 0.931687498595807, 0.9872400496110444, 0.012018574517004018, 0.9910038961298511, 0.006244820073846572, 0.001561205018461643, 0.9913651867231432, 0.09943266115128456, 0.5267141441870233, 0.0949409337098333, 0.040425546973061485, 0.11044921371821242, 0.042364081974108875, 0.05267141441870233, 0.033002376359294636, 0.027753981777374398, 0.8160851663049238, 0.010629184510483813, 0.004133571754077038, 0.004133571754077038, 0.054917453304166364, 0.04192622779135281, 0.04074520729018795, 0.989040305919685, 0.003847914337872217, 0.0019239571689361086, 0.990837942002096, 0.003847914337872217, 0.0019239571689361086, 0.809375650662379, 0.022281261084435167, 0.00035367081086405027, 0.1667557873223997, 0.00017683540543202513, 0.00035367081086405027, 0.0007073416217281005, 0.9926516467281307, 0.9935523252644024, 0.9777513757567835, 0.8516050741832528, 0.03933115804460806, 0.07994485385154029, 0.000427512587441392, 0.023513192309276558, 0.0025650755246483517, 0.0029925881120897438, 0.1936767771002823, 0.8056302912994936, 0.6777395620192675, 0.001127954573023032, 0.01418000034657526, 0.08556341118217571, 0.0030615909839196583, 0.0008056818378735943, 0.0017725000433219075, 0.21576159618254856, 0.06836599890203617, 0.3056735435444648, 0.26042511952889036, 0.12742858352049627, 0.0971924870988741, 0.037213657134304225, 0.06505341957379318, 0.038693745770327685, 0.957371070194051, 0.00293672107421488, 0.00293672107421488, 0.03817737396479344, 0.7147160540056893, 0.2675122719287623, 0.0002131571887878584, 0.01726573229181653, 0.0002131571887878584, 0.9993501625500213, 0.9971583418486387, 0.9947995574270276, 0.004022727801189004, 0.002011363900594502, 0.002011363900594502, 0.993613766893684, 0.9977325001840951, 0.036234250803821255, 0.7774834958191361, 0.04969268681666915, 0.0037959691318288935, 0.005866497749190108, 0.014148612218634967, 0.06522165144687826, 0.047622158199307936, 0.08909758354557237, 0.5803094410306345, 0.08717461411653125, 0.035681766072207646, 0.03461344972274035, 0.05448413382283203, 0.09508015510258923, 0.023502959688280485, 0.9907915882681999, 0.00612860776248371, 0.002042869254161237, 0.9998920310994496, 0.9950559283583211, 0.9019185674735819, 0.05154416616519545, 0.002295489181445951, 0.010851403403199043, 0.00020868083467690465, 0.0027128508507997607, 0.03046740186282808, 0.0007376207691627883, 0.006638586922465095, 0.9913623137547874, 0.9984369345992056, 0.9276386136285373, 0.007154025297906457, 0.007154025297906457, 0.04650116443639197, 0.010731037946859685, 0.9908592382571307, 0.002714156200544436, 0.7321436350968618, 0.08447811174194558, 0.0149278591029944, 0.035284030607077674, 0.01933836292887911, 0.047497733509527636, 0.06412194023786232, 0.9893388319742477, 0.004946694159871238, 0.004946694159871238, 0.21375204651818255, 0.11433248999809764, 0.0070178510484765816, 0.663186924081037, 0.0005848209207063818, 0.0002924104603531909, 0.9911387450085006, 0.11075907988314695, 0.059449751117680215, 0.8103420432430685, 0.0004933589304371802, 0.018747639356612847, 0.9197223327534242, 0.01952960494234212, 0.03844890973023605, 0.020750205251238503, 0.0012206003088963825, 0.9975690241351561, 0.00016692612579325165, 0.0021700396353122714, 0.5163025070785273, 0.48058031615877145, 0.0003338522515865033, 0.0003338522515865033, 0.00016692612579325165, 0.9953200419021774, 0.8494371216786867, 0.0977177256516284, 0.00011591663778366358, 0.03871615701974363, 0.01390999653403963, 0.8424313134089784, 0.0036021863458194628, 0.02153306948945412, 8.004858546265472e-05, 8.004858546265472e-05, 0.1322402631843056, 0.9901438304906701, 0.9899351320361115, 0.033123376018646206, 0.0023659554299033003, 0.9629438599706434, 0.030739438396698595, 0.9652183656563359, 0.9918839718633665, 0.9923709313778536, 0.0053641671966370465, 0.21367274310204623, 0.0006002043345563096, 0.0030010216727815483, 0.7820662479268715, 2.8513368786795264e-05, 0.9210103251822738, 0.0009979679075378342, 0.07795555026309825, 0.017070494972386607, 0.01138032998159107, 0.08360165486476517, 0.02582459495822589, 0.10680001982723929, 0.19127708469058838, 0.5642017440873419, 0.06836653633442362, 0.011820382450344271, 0.03801690571867482, 0.2661183400307237, 0.053031986128571594, 0.49869235148614616, 0.001597348979776253, 0.06293554980318436, 0.0015842710198989262, 0.2493246517565935, 0.021387658768635503, 0.0035646097947725835, 0.0029705081623104864, 0.004554779182209413, 0.012080066526729312, 0.70440650222256, 0.00699620114273171, 0.9864643611251711, 0.998258380870976, 0.007633701988303488, 0.98474755649115, 0.9954383623338594, 0.00419588371482594, 0.9944244404137478, 0.08366667487713488, 0.11180910188126206, 0.10633273770748596, 0.309566697045399, 0.011256970801650874, 0.19258547344445953, 0.07332243143778001, 0.11150485942716339, 0.001543927880960673, 0.03328022321181895, 0.0012008327963027455, 0.9476286238251952, 0.00017154754232896367, 0.0006861901693158547, 0.011836780420698492, 0.003945593473566164, 0.9908607272272146, 0.008329437250988793, 0.0001141018801505314, 0.0002282037603010628, 0.0003423056404515942, 0.10144186777652699, 0.0601242530922674, 0.16299086620273437, 0.6579473952134854, 0.0011397962671519887, 0.0005698981335759943, 0.0005698981335759943, 0.015672198673339844, 0.9874554425053724, 0.9904341232912919, 0.8045938993603418, 0.100026646290714, 0.09491579575031256, 0.9960291476641859, 0.010763670378542632, 0.9866697846997413, 0.8731689979541839, 0.011444774838258386, 0.0006732220493093168, 0.020196661479279506, 0.030294992218919257, 0.010098330739639753, 0.014137663035495653, 0.04039332295855901, 0.22624851587953418, 0.006875859382735481, 0.15454312517386415, 0.13293328139955263, 0.003274218753683563, 0.0052387500058937, 0.47116007865506465, 0.9887576763959127, 0.9956839122668208, 0.8645841754433939, 0.004903123868299021, 0.06455779759927044, 0.04821405137160704, 0.014709371604897062, 0.0024515619341495105, 0.933147413313866, 0.004375837811553885, 0.06126172936175439, 0.9943482066043053, 0.9850604416100274, 0.0012834663734332605, 0.005775598680449672, 0.005775598680449672, 0.0006417331867166302, 0.9876419792869635, 0.005577647321507661, 0.00199201690053845, 0.0035856304209692103, 0.00039840338010769003, 0.00039840338010769003, 0.027879609787210297, 0.06505242283682403, 0.0026552009321152664, 0.11417364008095644, 0.027879609787210297, 0.019914006990864496, 0.742128660526217, 0.9848177133119388, 0.00027832694332630744, 0.00022266155466104596, 0.0031172617652546436, 0.0010576423846399684, 0.6493924241689406, 0.006568515862500856, 0.0261627326726729, 0.31317347663076117, 0.0029140416023003385, 0.0014570208011501693, 0.0029140416023003385, 0.9907741447821151, 0.0014570208011501693, 0.0014570208011501693, 0.9882428543605168, 0.07512594558857243, 0.12328360301714449, 0.2169317245397831, 0.01933715167516509, 0.06356810780571513, 0.08942506540967152, 0.3939296377657195, 0.01837399852659365, 0.3032134756309207, 0.002466973544334414, 0.0044854064442443895, 0.0013456219332733167, 0.6544208002152564, 0.0031397845109710724, 0.0011213516110610974, 0.02982795285422519, 0.11340682780694213, 0.7640038925941364, 0.010101013003047476, 0.021120299915462905, 0.0032139586827878335, 0.08402206270716764, 0.002295684773419881, 0.002295684773419881, 0.9916510531231686, 0.000916526154195401, 0.7414696587440794, 0.052853008225268124, 0.024746206163275827, 0.042160203092988444, 0.01833052308390802, 0.07637717951628342, 0.04368774668331411, 0.9286782967644812, 0.005309491301668032, 0.00048268102742436654, 0.06516193870228948, 0.47534017522062544, 0.162432558008144, 0.00011839107726541107, 0.11945659696079977, 0.09471286181232885, 0.029716160393618178, 0.02225752252589728, 0.09601516366224837, 0.0010902465936260496, 0.8612948089645792, 0.0016353698904390745, 0.006541479561756298, 0.0010902465936260496, 0.1275588514542478, 0.0005451232968130248, 0.9911287107467307, 0.9942831758120404, 0.0028903580692210477, 0.0014451790346105239, 0.006535291718233232, 0.986829049453218, 0.9929063177005545, 0.004243674156390119, 0.9930197525952879, 0.2166315663423917, 0.0040083216648718395, 0.42378891784054085, 0.13628293660564256, 0.023321144231981613, 0.0014575715144988508, 0.08162400481193564, 0.11277959593434858, 0.993749068007457, 0.1107528388616478, 0.09636007362709265, 0.1467857901226263, 0.1499501569472448, 0.21048143201172143, 0.1160608090190724, 0.10871131187802295, 0.06083750411202036, 0.9921200646281504, 0.0014724712592911152, 0.014233888839814114, 0.07460521047074983, 0.907533119476424, 0.0009816475061940769, 0.0009816475061940769, 0.9862359286439175, 0.0009728055946307385, 0.9985154567745509, 0.0004632407593479707, 4.632407593479707e-05, 0.22043840936379797, 0.11385580954984553, 0.15011248665433524, 0.11686352786168103, 0.1341989224953511, 0.10543419827670615, 0.07409924204612905, 0.08492702796873684, 0.9721478235416247, 0.026741930421047926, 0.0030537188951860147, 0.048859502322976235, 0.9466528575076646, 0.0010179062983953382, 0.0010179062983953382, 6.342185822173443e-05, 6.342185822173443e-05, 0.35256210985462166, 0.08098971294915486, 0.32535413267749763, 0.2409396393843691, 0.1679653967086804, 0.011041972982112997, 0.5372344547066515, 0.22848390247603048, 0.0012740738056284228, 0.03800986853458128, 0.009767899176484575, 0.00615802339387071, 0.9973630053720913, 0.9990939469741695, 0.4491417572629671, 0.03670891866104975, 0.41261367071354815, 0.09471081846662467, 0.0002260401395384837, 0.002576857590738714, 0.002938521814000288, 0.0010849926697847217, 0.0029920960280745844, 0.04288670973573571, 0.039894613707661127, 0.005485509384803405, 0.3490778699420348, 0.5505456691657236, 0.008976288084223754, 0.03628047466150321, 0.008465444087684083, 0.0012093491553834405, 0.9390596191552415, 0.003628047466150321, 0.003023372888458601, 0.008465444087684083, 0.9958400927042822, 0.9847220341565729, 0.9915921199584452, 0.006581363628042777, 0.010471300769589758, 0.07737127790863543, 0.002036086260753564, 0.011053039701233633, 0.029668685513837646, 0.8665001386835524, 0.0026178251923974394, 0.9933103763884141, 0.04433073397676366, 0.031195701687352202, 0.024628185542646477, 0.0032837580723528636, 0.0016418790361764318, 0.8258651551967452, 0.0673170404832337, 0.24234651284147296, 0.11762514864621625, 0.08601473392776325, 0.06655390037660681, 0.2632050858189556, 0.09687409408614336, 0.02279390449085726, 0.10461542013964205, 0.016837793010912337, 0.9822045923032197, 0.9205226210574357, 0.006332550864059907, 0.0725364917155953, 0.9986598026949272, 0.9910623124874918, 0.9952387370672805, 0.9986301224379134, 0.9567377056918127, 0.0021910023794468993, 0.0007303341264822997, 0.04016837695652649, 0.32721542135843446, 0.13537693315362279, 0.05809654216657081, 0.03945768905121695, 0.32165646516613594, 0.03226374574353651, 0.005667955333323982, 0.08022336779473943, 0.9969478051698601, 0.970444492261004, 0.02846637177298945, 0.9921756425898767, 0.9886598702558551, 0.0032728745386621126, 0.008056306556706739, 0.24975263484474128, 0.007404648840362928, 0.11353794888556491, 0.10659609059772467, 0.057386028512812694, 0.11091546908793637, 0.33444330595639227, 0.020208520793490493, 0.9971167402264197, 0.9935961749994857, 0.9952189317339322, 0.0031003705038440254, 0.9972633629242521, 0.2773300496346753, 0.049386931668265584, 0.024883158070545017, 0.07942525522248405, 0.3836023354929133, 0.04197777608134096, 0.002655691309771172, 0.14075163941787214, 0.0029008224106071164, 0.003384292812374969, 0.0004834704017678527, 0.9930482052311695, 0.009467141299776419, 0.8371657806516576, 0.1514742607964227, 0.001352448757110917, 0.9946799760919008, 0.996592287729971, 0.0028720238839480433, 0.004804075947799481, 0.989639645246693, 0.004804075947799481, 0.04921893404035461, 0.015129555599953362, 0.8120804927721803, 0.0990124081667834, 0.00012767557468315073, 0.009703343675919456, 0.013182503086035314, 0.0015640257898685967, 0.43714331540260615, 0.0004285718778456923, 0.5618577318557025, 0.0038719646250009974, 0.00822792482812712, 0.9302395011564897, 0.00629194251562662, 0.05033554012501296, 0.1233401186400173, 0.42042515850244777, 0.01964198610660697, 0.1731672157486894, 0.13460537537763012, 0.07120219963645028, 0.020075265211899774, 0.03769528216047367, 0.9969618731974222, 0.9840560200706567, 0.007343701642318334, 0.0018359254105795835, 0.00550777623173875, 0.7151538057375085, 0.002854091585041368, 0.00407727369291624, 0.09336956756778189, 0.05830501380870223, 0.03873410008270428, 0.020182504779935388, 0.06747887961776378, 0.018699356356897567, 0.9806773556061835, 0.9858291939367406, 0.002693522387805302, 0.008080567163415906, 0.9982894642843527, 0.9981923991110362, 0.0022672651846216926, 0.0007557550615405641, 0.9930621508643013, 0.0015115101230811282, 0.0022672651846216926, 0.9914925796089801, 0.9960821228017397, 0.008133692533361851, 0.9882436428034649, 0.08948562135757981, 0.7580163334453357, 0.00034819307921237283, 0.0017409653960618642, 0.010793985455583558, 0.10202057220922524, 0.034122921762812536, 0.0034819307921237284, 0.06534287036334852, 0.0004415058808334359, 0.007505599974168411, 0.8472497853193635, 0.03885251751334236, 0.0004415058808334359, 0.03973552927500923, 0.996518951862679, 0.9959752182915289, 0.9986913734701933, 0.26069301440342857, 0.17350965196093038, 0.0845645285078519, 0.1296798949274407, 0.1562253479922647, 0.06563750143472627, 0.04547248013794964, 0.08420741478949104, 0.9955747304403255, 0.0037568857752465113, 0.9931666221515555, 0.0057519302441209775, 0.9980819075997779, 0.0005566547170104729, 0.0011133094340209457, 0.21641440785756139, 0.2964622075717045, 0.07133715734374856, 0.12086767206368176, 0.11564128664144502, 0.016730440690723346, 0.08848811180407715, 0.0740704968461827, 0.0004675834253990319, 0.00031172228359935457, 0.001091027992597741, 0.05595414990608415, 0.2780562769706243, 0.6234445671987092, 0.001091027992597741, 0.03958873001711803, 0.0420069620683371, 0.9575116353812133, 0.9992739899647769, 0.0013016450194094928, 0.0364460605434658, 0.03254112548523732, 0.9280728988389684, 0.0013016450194094928, 0.004503599721612451, 0.9423782417474054, 0.006755399582418676, 0.011709359276192372, 0.002927339819048093, 0.002927339819048093, 0.01148417929011175, 0.017338858928207936, 0.9934372958832561, 0.9841682280086073, 0.00364506751114299, 0.00364506751114299, 0.00729013502228598, 0.9884403196857717, 0.9573756317168807, 0.041063905772170124, 0.0011732544506334321, 0.9932746748276188, 0.04175797234857936, 0.9547625282662836, 0.0010310610456439348, 0.0020621220912878696, 0.9963791254217238, 0.9894334894780981, 0.004378024289726098, 0.05413342899057972, 0.002255559541274155, 0.8751571020143721, 0.06766678623822465, 0.48764266886243496, 0.014765378335750399, 0.3075050531662801, 0.12800941044124478, 0.0021827081018065807, 0.008088859436106741, 0.04339737284768378, 0.00847404321877849, 0.06008013697471242, 0.017739539051029294, 0.21973598843397607, 0.0714602186300897, 0.00485327011773443, 0.12016027394942484, 0.4903476360331682, 0.015563935205148342, 0.008310092883622826, 0.04570551085992554, 0.899983059296352, 0.004155046441811413, 0.01662018576724565, 0.024099269362506195, 0.0051855021771022225, 0.9800599114723201, 0.01426013098703111, 0.9897765658906864, 0.9933841545147155, 0.0036977285317436903, 0.0406750138491806, 0.9503162326581285, 0.29312809898491615, 0.0025296923321244114, 0.024032077155181908, 0.0041107500397021685, 0.5034087740927579, 0.007589076996373234, 0.16506242467111784, 0.061790171225883685, 0.009865657590687311, 0.001817357977231873, 0.011423392999743202, 0.004024149806727719, 0.008567544749807402, 0.022587163431310422, 0.8799906948324905, 0.014039270491236525, 0.00457802298627278, 0.18800414396960216, 0.06378712027540073, 0.00030520153241818534, 0.0976644903738193, 0.6302411644435527, 0.0015260076620909266, 0.0002927190757689707, 0.0008781572273069121, 0.004683505212303531, 0.0005854381515379413, 0.0008781572273069121, 0.0002927190757689707, 0.0011708763030758827, 0.9914395096295038, 0.00028789799957457026, 0.001151591998298281, 0.0048942659927676945, 0.0005757959991491405, 0.0008636939987237108, 0.00028789799957457026, 0.001151591998298281, 0.9906570165360964, 0.9240737240712001, 0.011507767423053551, 0.04488029294990885, 0.01841242787688568, 0.007788423257783892, 0.02336526977335168, 0.002596141085927964, 0.9631683428792747, 0.002596141085927964, 0.9960106272425117, 0.023269798025827276, 0.007911731328781273, 0.02466598590737691, 0.04723768999242937, 0.011402201032655365, 0.8856485128629861, 0.9872705821056268, 0.009523510438317943, 0.997433865586105, 0.13873530767310954, 0.002225105175190209, 0.3073982799525274, 0.4419058877927755, 0.008789165442001326, 0.05885403188378103, 0.00945669699455839, 0.032709046075296073, 0.0012128303942641665, 0.03395925103939666, 0.015160379928302081, 0.23407626609298413, 0.0012128303942641665, 0.030320759856604162, 0.684642757562122, 0.03624620060327107, 0.7764648522296104, 0.020323014211082624, 0.05552163676223603, 0.0012570936625411933, 0.08464430661110701, 0.020742045431929687, 0.004818859039741241, 0.9869155124732559, 0.008891130743002306, 0.9844334910754218, 0.0033396718199899854, 0.9952222023570158, 0.9970423728322777, 0.8106946533641577, 0.01609682524730277, 0.13804247106020254, 0.034632563410863536, 0.997484950329676, 0.9676017584472593, 0.029125136541890747, 0.9939053344927212, 0.9884862425615955, 0.005461249958903842, 0.005461249958903842, 0.007372655886752983, 0.03317695149038843, 0.011058983830129475, 0.011058983830129475, 0.9326409696742525, 0.7762062796910207, 0.00036002146553386864, 0.22321330863099856, 0.9986433921501926, 0.6969450034491503, 0.1542156704940011, 0.023795889809163376, 0.046905359719985495, 0.009152265311216682, 0.005033745921169176, 0.056286431663982596, 0.008008232147314597, 0.9987343454703141, 0.9992470058923907, 0.9937246254670778, 0.15177411835292132, 0.17140709746961957, 0.19348148331585543, 0.0919596534792499, 0.08514405969262408, 0.17069502050683777, 0.10386151128574575, 0.03173828748398891, 0.997765140621445, 0.004885127448956242, 0.9916808721381172, 0.9940293516834012, 0.9902893872841142, 0.013030343824980797, 0.9772757868735599, 0.004343447941660266, 0.005791263922213688, 0.997166001493598, 0.9935065221399043, 0.9984230334819209, 0.9965548662646372, 0.9916518312503709, 0.0011532690962177128, 0.0011532690962177128, 0.975665655400185, 0.0034598072886531384, 0.018452305539483405, 0.046309248589421, 0.017434070057193787, 0.11958682429856364, 0.10841812316817387, 0.08635312825203799, 0.46527174465135923, 0.08962201638776182, 0.06728461412698228, 0.005875330943086449, 0.9929309293816099, 0.9927301011917302, 0.005820867321598247, 0.0011641734643196493, 0.9173686898838836, 0.011641734643196493, 0.06402954053758071, 0.0015719483923903135, 0.0039298709809757835, 0.11003638746732194, 0.882649022327161, 0.0015719483923903135, 0.27400560609600777, 0.06276597894317926, 0.13402504414599664, 0.1003634217754797, 0.2013655512574769, 0.10174441141119321, 0.028672797311501855, 0.09704904664976727, 0.001847287814862031, 0.7906391847609493, 0.20504894744968544, 0.9940639715476757, 0.004185532511779687, 0.2572168769241887, 0.09733333969600022, 0.16969416706926366, 0.11600326557537961, 0.09691713115728794, 0.06570149075386698, 0.07509591205622985, 0.12200856020537107, 0.9560056888013085, 0.0012866832958294866, 0.04117386546654357, 0.0033398714675929673, 0.9952816973427042, 0.9947299721770566, 0.00572452458981693, 0.8797690422244966, 0.024253906814750675, 0.004519361518276524, 0.011147758411748757, 0.016119056081852934, 0.04820652286161625, 0.010394531492036004, 0.14575422679193747, 0.14975626486969523, 0.20138255607277028, 0.10525360144502899, 0.08948557141866342, 0.17825077598333045, 0.07139635930719837, 0.0586698782199287, 0.0027857371116484855, 0.18385864936880003, 0.003482171389560607, 0.0027857371116484855, 0.7277738204181669, 0.029250239672309098, 0.05014326800967274, 0.9914085280787468, 0.9956917545114332, 0.9903374849186609, 0.25442780289219474, 0.22348317215494573, 0.26198039073315044, 0.04214239118199927, 0.11882213717836883, 0.01869789975903266, 0.037474472308075275, 0.04292911908209882, 0.12466214701879737, 0.10952029893369844, 0.06400872145064544, 0.24958239372086347, 0.10057284324704908, 0.08052710117984425, 0.08878629104444367, 0.182390442843237, 0.015433422753950718, 0.9800223448758706, 0.09342400497429615, 0.9021255480330471, 0.9853558133189977, 0.011491029892932918, 0.989719231765541, 0.997355198839327, 0.0013387318105225867, 0.9959487809755649, 0.9961705244910464, 0.19859884670090164, 0.00938651265501774, 0.21317264266527128, 0.5263857491537579, 0.00024701349092151945, 0.0014820809455291166, 0.046685549784167175, 0.003952215854744311, 0.0005846531615978878, 0.0052618784543809905, 0.13622418665230787, 0.07015837939174654, 0.7056763660486506, 0.006431184777576766, 0.0023386126463915513, 0.07308164519973598, 0.9956199829303073, 0.23907519143414777, 0.001056519154065047, 0.00015093130772357815, 0.034714200776422975, 0.0016602443849593595, 0.003320488769918719, 0.15787414787886273, 0.5623700525780522, 0.14909955253074947, 0.0925025795292813, 0.026168492893151946, 0.0474684289689733, 0.5811839700688397, 0.0012171392043326486, 0.10223969316394248, 0.9938601869545967, 0.9917791438257527, 0.12283151547361482, 0.025032424095114757, 0.14441119141767927, 0.3356071202820903, 0.02261550038937954, 0.013034124270214924, 0.09598639859919865, 0.24031127131310168, 0.9915434381952875, 0.9958051412575094, 0.02668006744456099, 0.3042969854487767, 0.3227567077887973, 0.018603938920801987, 0.0187481555015834, 0.012258409366419913, 0.29463447453642216, 0.0020190321309397504, 0.08491882886022417, 0.003919330562779578, 0.08252368240519221, 0.0008709623472843506, 0.3932394997988843, 0.014370878730191784, 0.30026426922627986, 0.1197573227515982, 0.9883567751981586, 0.010834605331039497, 0.9677295170787974, 0.01935459034157595, 0.008294824432103979, 0.004147412216051989, 0.0013824707386839964, 0.006287254508078397, 0.9891947092710012, 0.002095751502692799, 0.9878948982256404, 0.9933148135141635, 0.996204459255368, 0.9872053497209179, 0.9934871793133138, 0.995571152138846, 0.9878673103624528, 0.11717210968116953, 0.10972302367051098, 0.13488885478760065, 0.1606586658515005, 0.04862038571821725, 0.05445885853738206, 0.2584027539102768, 0.11606481311201758, 0.9943441389769777, 0.9954352164096177, 0.9910306538094742, 0.04536853202667222, 0.04181021578928617, 0.08451001063791885, 0.04136542625961291, 0.02624258225072217, 0.08628916875661188, 0.6636259782724996, 0.010674948712158171, 0.9870792715314755, 0.06166812329889407, 0.9374549388581881, 0.0004973235749910812, 0.9912759212952413, 0.006118987168489144, 0.995728908961009, 0.9958295978429522, 0.9167349906393658, 0.03108534185275285, 0.014129700842160385, 0.029107183734850394, 0.0005651880336864154, 0.004238910252648115, 0.0002825940168432077, 0.0033911282021184927, 0.9901132021671304, 0.005500628900928502, 0.9913172132611636, 0.004445368669332573, 0.9901600530712772, 0.9938415257219609, 0.00029777483237314095, 0.0005955496647462819, 0.00014888741618657048, 0.9944190527101042, 0.00029777483237314095, 0.004019960237037403, 0.00029777483237314095, 0.00014888741618657048, 0.1555157548977507, 0.1269344810246506, 0.5052160469921524, 0.03432554950445849, 0.03180367239800848, 0.028441169589408465, 0.10844071557735051, 0.00938698700734171, 0.0005564198668856884, 0.0011128397337713768, 0.9959915617253823, 0.0022256794675427536, 0.0005564198668856884, 0.9933552907714489, 0.13992643356822718, 0.002640121388079758, 0.8545192892751483, 0.0017600809253865053, 0.002700236204752419, 0.8339229479010388, 0.06210543270930564, 0.0022501968372936826, 0.001800157469834946, 0.038253346233992604, 0.057605039034718274, 0.001800157469834946, 0.011393208574943766, 0.9855125417326358, 0.06360610688139252, 0.26166670702196626, 0.13555657926950238, 0.05321501021265018, 0.05872544026425597, 0.34164666319955883, 0.04439832213008092, 0.04109206409911745, 0.984500332449084, 0.007402258138714917, 0.048942304713383664, 0.797838143922877, 0.011505931727343637, 0.0035920957587804525, 0.06331068774850547, 0.03227273533279313, 0.029915422491093455, 0.012628461651962528, 0.9976213242526107, 0.11419339650608135, 0.030265064998271002, 0.11241309856500659, 0.37068346415949566, 0.06688833692895188, 0.1710357664818256, 0.07222923075217617, 0.06231042793761677, 0.9925612838241994, 0.9894497952745437, 0.06687614945514787, 0.22066624595500103, 0.05410205349180502, 0.05184780126297981, 0.00651228421660616, 0.005259921867258821, 0.04658787939572099, 0.5482842365442647, 0.14402947127675103, 0.5186828198739439, 0.019439560540420384, 0.014726939803348776, 0.05822050202257216, 0.01698507057319559, 0.02729392843553973, 0.20067909972029932, 0.11823416784121829, 0.45581918736398036, 0.023558599114630808, 0.08832268806646232, 0.03538201589875264, 0.20920388951606608, 0.026029163815790592, 0.043411351177521935, 0.0003768426994350824, 0.10325489964521258, 0.0003768426994350824, 0.05238113522147645, 0.0003768426994350824, 0.010174752884747224, 0.013943179879098048, 0.818502343172999, 0.0011447593607694403, 0.020605668493849927, 0.008013315525386082, 0.0595274867600109, 0.9089389324509356, 0.0022895187215388807, 0.004570906383931417, 0.010665448229173306, 0.9736030597773917, 0.0015236354613104722, 0.010665448229173306, 0.9928439596736274, 0.006017236119234105, 0.9947561626644044, 0.05401965486708283, 0.9453439601739496, 0.997422283326002, 0.0029584025598774033, 0.10058568703583172, 0.8963959756428532, 0.9880150776150619, 0.007655823638064354, 0.00020691415238011768, 0.003310626438081883, 0.00041382830476023537, 0.00020691415238011768, 0.00020691415238011768, 0.01300995463552302, 0.9844199007545753, 0.0010939571512663714, 0.050322028958253086, 0.004375828605065486, 0.671689690877552, 0.0010939571512663714, 0.2702074163627938, 0.9950010289354302, 0.0007861212051505719, 0.9983739305412261, 0.00039306060257528593, 0.00039306060257528593, 0.9925855532729313, 0.07043714710459086, 0.003913174839143936, 0.8502769900482753, 0.01229854949445237, 0.056461522679076795, 0.003913174839143936, 0.0005590249770205623, 0.0022360999080822492, 0.04322166666615267, 0.22553851514883302, 0.04164996969647439, 0.01414527272710451, 0.0007858484848391394, 0.6711146060526251, 0.001571696969678279, 0.0023575454545174184, 0.0030015250106340927, 0.8608373730498579, 0.0018009150063804558, 0.13386801547428054, 0.03256648766470818, 0.9625206354235973, 0.001563855818989574, 0.03127711637979148, 0.964899040316567, 0.0024794145666461767, 0.012397072833230882, 0.12149131376566265, 0.8628362691928694, 0.008734388273821366, 0.1389907003573313, 0.05696340178579151, 0.04670998946434904, 0.05430510970245458, 0.40861746881007777, 0.2270940951193555, 0.05848242583341262, 0.014564840107200617, 0.0003467819073143004, 0.9848606167726132, 0.9967657066315542, 0.9750501293913645, 0.02277489353322895, 0.002356640586035054, 0.9736292249733395, 0.02356640586035054, 0.0003366629408621506, 0.9977850971130249, 0.017389130052156976, 0.01422747004267389, 0.9643063028923413, 0.0015808300047415432, 0.013543541873927527, 0.0028215712237349014, 0.00028215712237349014, 0.27623182280364683, 0.0005643142447469803, 0.04317003972314399, 0.1314852190260464, 0.5321483327964024, 0.008284551718828947, 0.9858616545406447, 0.005341422004974225, 0.7503854534566949, 0.05706887721104041, 0.01208848137967851, 0.07129392739270861, 0.01326921677025176, 0.056956426221462006, 0.03356662038915382, 0.9879768427831666, 0.8990619813873593, 0.03356498063846141, 0.001198749308516479, 0.001198749308516479, 0.001198749308516479, 0.05753996680879099, 0.007192495851098874, 0.07171196681169219, 0.1855789411410683, 0.3753572316900285, 0.03520992965078581, 0.01873555889674841, 0.08592514942301857, 0.2067372016192928, 0.02067372016192928, 0.051262308023377924, 0.30546618235669765, 0.10477763809126159, 0.16660250107597824, 0.019017444139107595, 0.09448156960830524, 0.1361745904534061, 0.1222203894035641, 0.9883719125630487, 0.973565498666933, 0.01742956135720852, 0.0049798746734881485, 0.9930595356367455, 0.9847891263115239, 0.014553533886377201, 0.9288334506888031, 0.06855675469369737, 0.9968406943447949, 0.0006055823247496633, 0.9992108358369444, 0.03027881106698665, 0.5732309038794505, 0.07403483774242434, 0.036747874559043145, 0.09604762323622769, 0.1014385094796081, 0.06334291335971985, 0.024887924823606238, 0.9985482736795823, 0.04221483674861971, 0.2665524658215211, 0.23945510439504222, 0.10838944570591548, 0.07929543659538027, 0.18882582383504223, 0.051057133635154926, 0.024387625283830983, 0.003924908780725379, 0.0019624543903626894, 0.993001921523521, 0.9464336353315363, 0.04307409718323048, 0.00957202159627344, 0.037968513375878386, 0.06780091674263998, 0.17061176140329767, 0.1851581399044459, 0.06237684340322878, 0.3493596328157122, 0.09492128343969597, 0.031558244883846974, 0.025976879564791604, 0.7605689656183247, 0.018524496083089096, 0.0029809533926810038, 0.04109457177053098, 0.10859187359052229, 0.03364218828882847, 0.008942860178043011, 0.03415866455234935, 0.08192289888402429, 0.02807958018286345, 0.7564117836888886, 0.0005789604161415145, 0.0049211635372028726, 0.027790099974792693, 0.06600148744013265, 0.16731278160316815, 0.09575223088949968, 0.19673298620409835, 0.11018920131701185, 0.13375658006895064, 0.07546243461299608, 0.14998841709015354, 0.07070213625581638, 0.991569371271969, 0.994329882202682, 0.007171307850032445, 0.9896404833044773, 0.09409425569005218, 0.13387976162856338, 0.11260627773342115, 0.09787848119063038, 0.13050464158750716, 0.3595014225549277, 0.03395575314032318, 0.03773997864090137, 0.07593297568403566, 0.006442797936827268, 0.07179117701036099, 0.8440065297243721, 0.0009203997052610383, 0.0009203997052610383, 0.00023009992631525957, 0.14280741084881884, 0.0013222908411927672, 0.01487577196341863, 0.06280881495665644, 0.5927168695646579, 0.015867490094313205, 0.0019834362617891506, 0.16793093683148144, 0.9925228236899457, 0.9886214379696073, 0.9908146700370072, 0.01684100875781637, 0.00044909356687510314, 0.00022454678343755157, 0.004490935668751032, 0.966449355915222, 0.00022454678343755157, 0.01122733917187758, 0.9963961997781539, 0.0018968744820121058, 0.0018968744820121058, 0.9256747472219077, 0.007587497928048423, 0.0037937489640242116, 0.06259685790639949, 0.9936878749423931, 0.004496325225983679, 0.0025698142227744782, 0.020558513782195826, 0.9739595904315274, 0.9673967521216357, 0.03156572895598427, 0.9955011587450002, 0.9972505127216902, 0.986698181188232, 0.01046108445173251, 0.04184433780693004, 0.9467281428817922, 0.0006538177782332819, 0.1688040060858814, 0.02142401780817404, 0.8026098483572316, 0.0023005656706764073, 0.0048887020501873655, 0.007101690070460946, 0.04646975459149445, 0.009108689438199908, 0.6914884744694473, 0.000154384566749151, 0.000308769133498302, 0.24531707656440094, 0.995244911076894, 0.007428819969894645, 0.696398809177838, 0.07174117570926829, 0.011037103955272045, 0.047968951805605425, 0.016555655932908066, 0.11419157553723769, 0.034597075859795066, 0.9983499947752993, 0.003278103598789686, 0.01639051799394843, 0.980152976038116, 0.997008407568022, 0.0012263326046347135, 0.9900104084153295, 0.9949608255408996, 0.9914091185033225, 0.00872485912612966, 0.1463396826155384, 0.00039658450573316635, 0.674590244252116, 0.03291651397585281, 0.0872485912612966, 0.01308728868919449, 0.03688235903318447, 0.08312278425482493, 0.04830695838892968, 0.8347094251348389, 0.01087994558309227, 0.02263028681283192, 0.00043519782332369076, 0.0231847515728791, 0.7891095803197778, 0.03312107367554157, 0.009522308681718201, 0.01780257710060359, 0.06375806682541751, 0.04802555682953527, 0.015318496574937975, 0.9289363616164288, 0.0006509715218054863, 0.0006509715218054863, 0.04752092109180049, 0.022133031741386533, 0.011078933736651605, 0.8627719647417438, 0.008309200302488703, 0.0034621667927036267, 0.08447686974196848, 0.02977463441725119, 0.9898046089677333, 0.0005559947088159996, 0.9518629414929913, 0.0011119894176319992, 0.0005559947088159996, 0.0011119894176319992, 0.005559947088159996, 0.04003161903475197, 0.02040592156820065, 0.002267324618688961, 0.012848172839237445, 0.16929357152877575, 0.0007557748728963203, 0.004534649237377922, 0.561540730561966, 0.22899978648758507, 0.9993611950950732, 0.0012429656469469343, 0.0018644484704204015, 0.984428792381972, 0.0018644484704204015, 0.00435037976431427, 0.006214828234734671, 0.9964962999166054, 0.00039556601049382215, 0.9720375431201523, 0.0026371067366254813, 0.0002637106736625481, 0.00039556601049382215, 0.0017141193788065628, 0.02149241990349767, 0.0010548426946501925, 0.0007970975432654726, 0.9732561003271422, 0.0007970975432654726, 0.0031883901730618905, 0.0007970975432654726, 0.020724536124902288, 0.9935603399921339, 0.9946191347123393, 0.1685229285657892, 0.8310587848701492, 0.0016798020311859353, 0.007139158632540225, 0.3043241346498519, 0.13410419548967717, 0.190377563534406, 0.3517785420308546, 0.0025197030467789027, 0.00811904315073202, 0.07092478812987531, 0.0015902418863200742, 0.00031804837726401487, 0.03721166013988974, 0.7241961550301619, 0.06647211084817911, 0.02957849908555338, 0.06965259462081926, 0.9733833810346885, 0.018794464758714942, 0.0035040527516248194, 0.004034969835204337, 0.00010618341671590362, 0.00010618341671590362, 0.00010618341671590362, 0.9862403220280114, 0.010345178203091028, 0.013531492616650273, 0.6519279835664721, 0.00048326759345179547, 0.17929227717061613, 0.15416236231112276, 0.1499586362985168, 0.8433098218411056, 0.0005533529014705418, 0.005533529014705417, 0.00842245141598951, 0.9854268156707726, 0.0047221950063814485, 0.0023610975031907243, 0.8452729061422792, 0.14402694769463417, 0.004544557718367963, 0.01590595201428787, 0.978500083736102, 0.00028403485739799766, 0.00028403485739799766, 0.9955546222639889, 0.008620330852764799, 0.982717717215187, 0.9985313039731479, 0.006099316941644894, 0.003049658470822447, 0.9880893445464728, 0.9974716873756833, 0.9030330186548896, 0.09645212482295216, 0.9980801586440715, 0.05606474583088258, 0.04243198088720292, 0.27879004309824895, 0.06066580399937446, 0.07429856894305412, 0.06373317611170239, 0.40489311882728574, 0.019085870921151514, 0.0013616540037777144, 0.004765789013222, 0.977667574712399, 0.0006808270018888572, 0.015659021043443716, 0.011964377772856546, 0.9810789773742369, 0.027081771638015773, 0.0024619792398196155, 0.8616927339368655, 0.10586510731224347, 0.001081507680455654, 0.8241088525072083, 0.002163015360911308, 0.17087821351199334, 0.0007256689569451087, 0.020318730794463044, 0.010159365397231522, 0.9687680575217201, 0.9864442885525163, 0.9900853225846183, 0.9680927873674179, 0.031765544585493403, 0.015080184295246457, 0.8604161226399965, 0.033120030928812313, 0.008738050713133461, 0.012261458258751792, 0.011627244900540493, 0.04770693816767221, 0.010993031542329194, 0.00965940565033789, 0.975599970684127, 0.004829702825168945, 0.004829702825168945, 0.004470992343868484, 0.000798391489976515, 0.028582415341159236, 0.013093620435614845, 0.7728429622972665, 0.09628601369116771, 0.002714531065920151, 0.08127625367960922, 0.12142434044985459, 0.10805161573070761, 0.177054875281506, 0.130651520506066, 0.05937489775301259, 0.049077899719269416, 0.20567250618048055, 0.14870469887691443, 0.002992232085926021, 0.8762252958286699, 0.009974106953086738, 0.0019948213906173474, 0.051865356156051035, 0.05236406150370537, 0.003490937433580358, 0.9978568885337809, 0.3637810138126172, 0.003000079048878794, 0.0007714488982831185, 0.06685890451787027, 0.01611471031969181, 0.0071144731730554255, 0.02400063239103035, 0.5183279431020019, 0.9955425639135893, 0.9953169614088928, 0.6077076631596369, 0.0030010254970846265, 0.023174585783042392, 0.013838062014334667, 0.09119783038362726, 0.022174243950680853, 0.004751623703717326, 0.23416335059196433, 0.026653081093098867, 0.0003028759215124871, 0.0030287592151248713, 0.011812160938986998, 0.01060065725293705, 0.009994905409912075, 0.9374009770811477, 0.003955215803950696, 0.9927591667916246, 0.08816144011814359, 0.0006319816495924272, 0.1440918161070734, 0.031283091654825144, 0.002843917423165922, 0.26037643963207996, 0.4724062830703393, 0.9958083434744919, 0.0707677225281022, 0.045948710835781996, 0.17272690569655277, 0.08988506937218668, 0.010397153546782788, 0.09826987061959215, 0.44942534686093344, 0.06271831333059294, 0.9935543173949049, 0.026088728316296477, 0.9739791904750685, 0.2874022562393424, 0.06862810758720242, 0.006184887639117296, 0.11595271330633415, 0.25645924480760246, 0.10343435213887152, 0.03794512146161151, 0.12397635132464849, 0.9912306147274352, 0.5677495236906352, 0.10256482017313549, 0.007286025476780117, 0.17804057126593464, 0.054551780492815234, 0.015319335617845374, 0.0074728466428514015, 0.06688197745352005, 0.9425828408780684, 0.05359166653821794, 9.528359454631107e-05, 3.176119818210369e-05, 0.005304120096411316, 0.8951258483662283, 0.001429253918194666, 0.09801505758997199, 0.9625218704713472, 0.003578148217365603, 0.03220333395629043, 0.11609489188421317, 0.023218978376842635, 0.1941950918790475, 0.6659625161721683, 0.9902394589806168, 0.15070075595767843, 0.025039510220660418, 0.79709107535769, 0.006491724872023071, 0.019475174616069214, 0.0009273892674318673, 0.9926595588214455, 0.00542436917388768, 0.9970393808331337, 0.6297240577862677, 0.025270479988834044, 0.009782121286000275, 0.3226062082445508, 0.004687266449541799, 0.0038720896757084423, 0.00040758838691667813, 0.0038720896757084423, 0.05397487083568451, 0.6501826491043335, 0.09507707373147774, 0.022357791685074336, 0.02529366332048814, 0.014905194456716226, 0.1355017677883293, 0.0027100353557665863, 0.18234795243094215, 0.09233690958556637, 0.09582570969585225, 0.1711837920780273, 0.07163669559787013, 0.20293187308162886, 0.07593954906722272, 0.10780392340783378, 0.9958311708983841, 0.5594047955965779, 0.15149045095903205, 0.19401155755552535, 0.03517000003235378, 0.015567049194648392, 0.02637750002426533, 0.00922491804127312, 0.008648360663693552, 0.4059157608264873, 0.24776570602683526, 0.28056780179845636, 0.018720799075615014, 0.024581223134068412, 0.010499926438062334, 0.010581321216651965, 0.0012209216788444575, 0.22525721050228614, 0.09210962995149162, 0.23789970873092225, 0.11869901114663899, 0.06281114199306509, 0.09993593837874254, 0.11037101628174377, 0.05287775052770815, 0.2512410037029072, 0.09102681705786832, 0.15602101273066488, 0.09766600908896043, 0.13400684968020152, 0.1401218949719969, 0.06088837954830539, 0.06910001179728775, 0.9937025595629588, 0.07825650890832389, 0.31430195697419216, 0.1553788655136286, 0.07551564084269419, 0.06138599340091349, 0.09753709805965007, 0.17428140389728172, 0.04328681289856563, 0.9961587241393186, 0.006924631523408003, 0.9902223078473444, 0.0012620948768192791, 0.9920065731799533, 0.006310474384096395, 0.0006310474384096396, 0.009147212915462095, 0.0007622677429551747, 0.9886612626128615, 0.0007622677429551747, 0.9937653580495037, 0.0013142502441688118, 0.007228376342928465, 0.9791164319057648, 0.007228376342928465, 0.0045998758545908415, 0.9927926738161383, 0.002618026519874088, 0.9961590908120905, 0.12628103408133326, 0.019376844786108894, 0.8404982711784421, 0.00044205729550058314, 0.000515733511417347, 0.008841145910011663, 0.0001473524318335277, 0.003978515659505248, 0.02131821363458363, 0.05258492696530629, 0.0639546409037509, 0.011369713938444603, 0.0639546409037509, 0.7859314759949833, 0.0014212142423055754, 0.19719033833420316, 0.08658864024143102, 0.13023704030365424, 0.09759730751376167, 0.2624054257428051, 0.083949135222919, 0.0628330950748228, 0.07924952872654394, 0.9872448054586312, 0.9913784288944509, 0.23171311267488243, 0.08541110257447941, 0.13068335579330512, 0.09955526853790023, 0.20479004773292697, 0.11386326653950739, 0.06870023467947256, 0.06531437255695484, 0.9958020780811795, 0.986082695094824, 0.012940717783396642, 0.9940800421346153, 0.9938611112177933, 0.9947354755158377, 0.005306214743746168, 0.09197438889160026, 0.05099019691847508, 0.34187183563278883, 0.04103472735163704, 0.04088312121610143, 0.2040618584309241, 0.22397279756460017, 0.9939240016412749, 0.19515935910609142, 0.0031519681147686367, 0.0010506560382562123, 0.573920860897456, 0.0026266400956405306, 0.005253280191281061, 0.21879911996685622, 0.00124047714727566, 0.00062023857363783, 0.13459177047940912, 0.8422839830001732, 0.00248095429455132, 0.015505964340945751, 0.00248095429455132, 0.00062023857363783, 0.9365169871735899, 0.003101049626402616, 0.04186416995643531, 0.015505248132013079, 0.9877609447190122, 0.9997125464173576, 0.9946995089009357, 0.9922810377470009, 0.9975692985732292, 0.15094433187935097, 0.18468593533183356, 0.09436370436293175, 0.14098163002430042, 0.08374308823443445, 0.09746530022346635, 0.13111291592259938, 0.11673278966012074, 0.0060232773476981616, 0.9275847115455168, 0.025598928727717185, 0.007529096684622701, 0.0015058193369245404, 0.010540735358471783, 0.009034916021547242, 0.010540735358471783, 0.16453942985610964, 0.14796239004018238, 0.1319598020990645, 0.10914585621377847, 0.12523050870844055, 0.11480831040832788, 0.07689448667091009, 0.12941580093919447, 0.9739141608119053, 0.016097754724163724, 0.008048877362081862, 0.0005817021202689576, 0.0001454255300672394, 0.007634840328530069, 0.08463765849913334, 0.04959010575292864, 0.02966680813371684, 0.4735055258989315, 0.3542565912437952, 0.9942204853345675, 0.001162935071090501, 0.7512560559244637, 0.06628729905215856, 0.001162935071090501, 0.18025493601902767, 0.032520784429833215, 0.1930921575521347, 0.27055485935375134, 0.03523084979898598, 0.015131198311102954, 0.042683529564156095, 0.40492893390757606, 0.0056459695190682665, 0.107212413356678, 0.0927275953858566, 0.3659583070234875, 0.107212413356678, 0.06871003396415276, 0.0778713718260398, 0.12058301456051314, 0.0596724979652642, 0.007586882205498554, 0.8547887284861704, 0.0918855733777047, 0.012644803675830922, 0.0050579214703323685, 0.02781856808682803, 0.23295766641103677, 0.02171327380450422, 0.06992410208230171, 0.6731114879396307, 0.00036802158990685113, 0.00036802158990685113, 0.0011040647697205534, 0.9913706997257811, 0.1645662331441538, 0.05154701077083417, 0.0198504016633026, 0.30640055470613853, 0.005122684300207123, 0.397008033266052, 0.0009605033062888355, 0.05442852068970068, 0.9886760358766025, 0.9963203702083367, 0.0023498121938875867, 0.051023416684406464, 0.06968123323318197, 0.13650667821910237, 0.08995732978873901, 0.0417897013515941, 0.08900540037298516, 0.4457885453975289, 0.07615435326030816, 0.00028663184224214986, 0.0011465273689685994, 0.005159373160358698, 0.0008598955267264496, 0.0008598955267264496, 0.00028663184224214986, 0.0017197910534528993, 0.9894531194199013, 0.08561833543795644, 0.2470700536923886, 0.2538563918008349, 0.06036684480187712, 0.058472983004171177, 0.05815733937122018, 0.2220552957810225, 0.014440696207507861, 0.995884646502679, 0.2761625457997785, 0.0873196594258797, 0.05132652809136736, 0.13775846454711335, 0.13662863531239772, 0.09805303715567822, 0.10555833135771779, 0.10725307520979124, 0.995000019054391, 0.0023457176971360583, 0.9969300212828248], \"Term\": [\"2007\", \"ad\", \"ad\", \"ad\", \"ad\", \"ad\", \"ad\", \"ad\", \"ad\", \"add\", \"add\", \"add\", \"add\", \"add\", \"add\", \"add\", \"add\", \"adopt\", \"again\", \"again\", \"again\", \"again\", \"again\", \"again\", \"again\", \"again\", \"agav\", \"agav\", \"agav\", \"agav\", \"agav\", \"ahoi\", \"airi\", \"al\", \"alkalin\", \"alkalin\", \"almond\", \"almond\", \"almond\", \"almond\", \"almond\", \"amazon\", \"amazon\", \"amazon\", \"amazon\", \"amazon\", \"amazon\", \"amazon\", \"amazon\", \"anchovi\", \"ant\", \"anxiou\", \"aroma\", \"aroma\", \"aroma\", \"aroma\", \"aroma\", \"aroma\", \"aroma\", \"aroma\", \"arriv\", \"arriv\", \"arriv\", \"arriv\", \"arriv\", \"arriv\", \"arriv\", \"arriv\", \"artifici\", \"artifici\", \"artifici\", \"artifici\", \"artifici\", \"artifici\", \"artifici\", \"artifici\", \"babi\", \"babi\", \"babi\", \"babi\", \"babi\", \"babi\", \"bad\", \"bad\", \"bad\", \"bad\", \"bad\", \"bad\", \"bad\", \"bad\", \"bag\", \"bag\", \"bag\", \"bag\", \"bag\", \"bag\", \"bag\", \"bag\", \"bake\", \"bake\", \"bake\", \"bake\", \"bake\", \"bake\", \"bake\", \"bar\", \"bar\", \"bar\", \"bar\", \"bar\", \"basmati\", \"bean\", \"bean\", \"bean\", \"bean\", \"bean\", \"bean\", \"bean\", \"bean\", \"bergamot\", \"best\", \"best\", \"best\", \"best\", \"best\", \"best\", \"best\", \"best\", \"better\", \"better\", \"better\", \"better\", \"better\", \"better\", \"better\", \"better\", \"beverag\", \"beverag\", \"beverag\", \"beverag\", \"bigelow\", \"bigelow\", \"bitter\", \"bitter\", \"bitter\", \"bitter\", \"bitter\", \"bitter\", \"black\", \"black\", \"black\", \"black\", \"black\", \"black\", \"black\", \"black\", \"blend\", \"blend\", \"blend\", \"blend\", \"blend\", \"blend\", \"blend\", \"blend\", \"bloat\", \"bloat\", \"bloat\", \"blossom\", \"boba\", \"bold\", \"bold\", \"bold\", \"bone\", \"bone\", \"bone\", \"bone\", \"bonsai\", \"boost\", \"boost\", \"boost\", \"boost\", \"boost\", \"boost\", \"boost\", \"bottl\", \"bottl\", \"bottl\", \"bottl\", \"bottl\", \"bottl\", \"bottl\", \"bottl\", \"bought\", \"bought\", \"bought\", \"bought\", \"bought\", \"bought\", \"bought\", \"bought\", \"box\", \"box\", \"box\", \"box\", \"box\", \"box\", \"box\", \"box\", \"brand\", \"brand\", \"brand\", \"brand\", \"brand\", \"brand\", \"brand\", \"brand\", \"bread\", \"bread\", \"bread\", \"bread\", \"breakag\", \"breastfeed\", \"breed\", \"brew\", \"brew\", \"brew\", \"brew\", \"brittl\", \"broccoli\", \"broccoli\", \"broth\", \"broth\", \"browni\", \"browni\", \"buckwheat\", \"buffalo\", \"buffalo\", \"buffalo\", \"bui\", \"bui\", \"bui\", \"bui\", \"bui\", \"bui\", \"bui\", \"bui\", \"bulk\", \"bulk\", \"bulk\", \"bulk\", \"bulk\", \"bulk\", \"bulk\", \"bulk\", \"bump\", \"burnt\", \"burnt\", \"burnt\", \"burnt\", \"burnt\", \"butter\", \"butter\", \"butter\", \"butter\", \"butter\", \"butter\", \"butter\", \"butterscotch\", \"cacao\", \"caesar\", \"cake\", \"cake\", \"cake\", \"cake\", \"cake\", \"cake\", \"cake\", \"calm\", \"calm\", \"calori\", \"calori\", \"calori\", \"calori\", \"calori\", \"calori\", \"calori\", \"calori\", \"can\", \"can\", \"can\", \"can\", \"can\", \"can\", \"can\", \"can\", \"cancel\", \"cancel\", \"cancel\", \"cancel\", \"candi\", \"candi\", \"candi\", \"candi\", \"candi\", \"canida\", \"canin\", \"canola\", \"capsul\", \"capsul\", \"capsul\", \"capsul\", \"carib\", \"carri\", \"carri\", \"carri\", \"carri\", \"carri\", \"carri\", \"carri\", \"carri\", \"case\", \"case\", \"case\", \"case\", \"case\", \"case\", \"case\", \"case\", \"cashew\", \"cashew\", \"cashew\", \"cat\", \"catnip\", \"cereal\", \"cereal\", \"cereal\", \"cereal\", \"cereal\", \"cereal\", \"cereal\", \"chai\", \"chai\", \"chai\", \"chamomil\", \"charg\", \"charg\", \"charg\", \"charg\", \"charg\", \"charger\", \"cheaper\", \"cheaper\", \"cheaper\", \"cheaper\", \"cheaper\", \"cheaper\", \"cheaper\", \"cheaper\", \"cheerio\", \"cheerio\", \"cheerio\", \"chees\", \"chees\", \"chees\", \"chees\", \"chees\", \"chees\", \"cheeto\", \"chew\", \"chew\", \"chew\", \"chew\", \"chew\", \"chewi\", \"chewi\", \"chewi\", \"chewi\", \"chewi\", \"chia\", \"chicken\", \"chicken\", \"chicken\", \"chicken\", \"chicken\", \"chicken\", \"chicken\", \"chile\", \"chip\", \"chip\", \"chip\", \"chip\", \"chip\", \"chocol\", \"chocol\", \"chocol\", \"chocol\", \"chocol\", \"chocol\", \"chun\", \"church\", \"cider\", \"cider\", \"cider\", \"cleans\", \"cleans\", \"client\", \"cluster\", \"cluster\", \"cocoa\", \"cocoa\", \"cocoa\", \"cocoa\", \"coffe\", \"coffe\", \"coffe\", \"coffe\", \"cold\", \"cold\", \"cold\", \"cold\", \"cold\", \"cold\", \"cold\", \"color\", \"color\", \"color\", \"color\", \"color\", \"color\", \"color\", \"color\", \"com\", \"com\", \"com\", \"com\", \"com\", \"com\", \"com\", \"com\", \"condiment\", \"condiment\", \"condition\", \"cone\", \"cone\", \"connect\", \"constip\", \"constip\", \"contain\", \"contain\", \"contain\", \"contain\", \"contain\", \"contain\", \"contain\", \"contain\", \"cook\", \"cook\", \"cook\", \"cook\", \"cook\", \"cook\", \"cook\", \"cook\", \"cooki\", \"cooki\", \"cooki\", \"cooki\", \"cooki\", \"corn\", \"corn\", \"corn\", \"corn\", \"corn\", \"corn\", \"corn\", \"corn\", \"costa\", \"couscou\", \"cracker\", \"cracker\", \"cracker\", \"cramp\", \"crash\", \"crash\", \"crave\", \"crave\", \"crave\", \"crave\", \"crave\", \"crave\", \"crave\", \"crave\", \"cream\", \"cream\", \"cream\", \"cream\", \"cream\", \"cream\", \"cream\", \"creek\", \"crema\", \"crisp\", \"crisp\", \"crisp\", \"crisp\", \"crisp\", \"crisp\", \"crispi\", \"crispi\", \"crispi\", \"crocker\", \"crunch\", \"crunch\", \"crunch\", \"crunch\", \"crunch\", \"crunchi\", \"crunchi\", \"crunchi\", \"crunchi\", \"crunchi\", \"crunchi\", \"crystal\", \"crystal\", \"crystal\", \"crystal\", \"crystal\", \"crystal\", \"crystal\", \"cumin\", \"cup\", \"cup\", \"cup\", \"cup\", \"cup\", \"cup\", \"cup\", \"cup\", \"curri\", \"curri\", \"curri\", \"curri\", \"curri\", \"curri\", \"custard\", \"dai\", \"dai\", \"dai\", \"dai\", \"dai\", \"dai\", \"dai\", \"dai\", \"dark\", \"dark\", \"dark\", \"dark\", \"dark\", \"dark\", \"dark\", \"dark\", \"date\", \"date\", \"date\", \"date\", \"date\", \"date\", \"date\", \"date\", \"dave\", \"deal\", \"deal\", \"deal\", \"deal\", \"deal\", \"deal\", \"deal\", \"deal\", \"decaf\", \"decaf\", \"decaf\", \"decaf\", \"delici\", \"delici\", \"delici\", \"delici\", \"delici\", \"delici\", \"delici\", \"delici\", \"deliveri\", \"deliveri\", \"deliveri\", \"deliveri\", \"deliveri\", \"deliveri\", \"deliveri\", \"delux\", \"dent\", \"dent\", \"dent\", \"deodor\", \"deodor\", \"devil\", \"dice\", \"dice\", \"diet\", \"diet\", \"diet\", \"diet\", \"diet\", \"diet\", \"diet\", \"diet\", \"dieter\", \"differ\", \"differ\", \"differ\", \"differ\", \"differ\", \"differ\", \"differ\", \"differ\", \"dirt\", \"dish\", \"dish\", \"dish\", \"dish\", \"dish\", \"dish\", \"doberman\", \"dog\", \"dog\", \"dog\", \"dog\", \"don\", \"don\", \"don\", \"don\", \"don\", \"don\", \"don\", \"don\", \"donut\", \"donut\", \"dress\", \"dress\", \"dress\", \"dress\", \"dress\", \"drink\", \"drink\", \"drink\", \"drink\", \"drink\", \"drink\", \"dry\", \"dry\", \"dry\", \"dry\", \"dry\", \"dry\", \"dry\", \"dry\", \"duck\", \"earl\", \"eat\", \"eat\", \"eat\", \"eat\", \"eat\", \"eat\", \"eat\", \"eat\", \"effect\", \"effect\", \"effect\", \"effect\", \"effect\", \"effect\", \"effect\", \"egg\", \"egg\", \"egg\", \"egg\", \"egg\", \"egg\", \"egg\", \"electrolyt\", \"ella\", \"emeril\", \"emeril\", \"energi\", \"energi\", \"energi\", \"energi\", \"energi\", \"energi\", \"energi\", \"enfamil\", \"english\", \"english\", \"english\", \"english\", \"english\", \"english\", \"english\", \"enjoi\", \"enjoi\", \"enjoi\", \"enjoi\", \"enjoi\", \"enjoi\", \"enjoi\", \"enjoi\", \"erythritol\", \"erythritol\", \"espresso\", \"espresso\", \"espresso\", \"essentia\", \"establish\", \"everlast\", \"evo\", \"expir\", \"expir\", \"expir\", \"expir\", \"favorit\", \"favorit\", \"favorit\", \"favorit\", \"favorit\", \"favorit\", \"favorit\", \"favorit\", \"feast\", \"fed\", \"fed\", \"fedex\", \"feed\", \"feed\", \"feed\", \"feel\", \"feel\", \"feel\", \"feel\", \"feel\", \"feel\", \"feel\", \"feel\", \"felin\", \"fenugreek\", \"fig\", \"fig\", \"finicki\", \"flavor\", \"flavor\", \"flavor\", \"flavor\", \"flavor\", \"flavor\", \"flavor\", \"flavor\", \"flour\", \"flour\", \"flour\", \"flour\", \"flower\", \"flower\", \"flower\", \"flower\", \"fluke\", \"folger\", \"folger\", \"fondant\", \"fondant\", \"fondant\", \"food\", \"food\", \"food\", \"food\", \"food\", \"food\", \"food\", \"food\", \"formula\", \"formula\", \"formula\", \"french\", \"french\", \"french\", \"french\", \"french\", \"fresh\", \"fresh\", \"fresh\", \"fresh\", \"fresh\", \"fresh\", \"fresh\", \"fresh\", \"friski\", \"frost\", \"frost\", \"frost\", \"frost\", \"fruit\", \"fruit\", \"fruit\", \"fruit\", \"fruit\", \"fruit\", \"fruit\", \"fruit\", \"fry\", \"fry\", \"fudg\", \"fudg\", \"fudg\", \"fuel\", \"fur\", \"garlic\", \"garlic\", \"garlic\", \"garlic\", \"garlic\", \"gatorad\", \"genet\", \"gevalia\", \"gevalia\", \"gift\", \"gift\", \"gift\", \"gift\", \"gift\", \"gift\", \"gift\", \"gift\", \"ginger\", \"ginger\", \"ginger\", \"ginger\", \"ginger\", \"ginger\", \"ginger\", \"glen\", \"gloria\", \"gmo\", \"good\", \"good\", \"good\", \"good\", \"good\", \"good\", \"good\", \"good\", \"gooei\", \"gooei\", \"graham\", \"graham\", \"granola\", \"granola\", \"granola\", \"great\", \"great\", \"great\", \"great\", \"great\", \"great\", \"great\", \"great\", \"green\", \"green\", \"green\", \"green\", \"green\", \"green\", \"green\", \"green\", \"greeni\", \"greeni\", \"grei\", \"grill\", \"grill\", \"grill\", \"grill\", \"grill\", \"groceri\", \"groceri\", \"groceri\", \"groceri\", \"groceri\", \"groceri\", \"groceri\", \"groceri\", \"grove\", \"guilt\", \"guilt\", \"guilt\", \"guilt\", \"gumbal\", \"gummi\", \"gummi\", \"gummi\", \"gunpowd\", \"hair\", \"hair\", \"hair\", \"hair\", \"halo\", \"haribo\", \"haribo\", \"hazelnut\", \"hazelnut\", \"hazelnut\", \"hazelnut\", \"healthi\", \"healthi\", \"healthi\", \"healthi\", \"healthi\", \"healthi\", \"healthi\", \"healthi\", \"help\", \"help\", \"help\", \"help\", \"help\", \"help\", \"help\", \"help\", \"her\", \"her\", \"her\", \"her\", \"her\", \"her\", \"herbal\", \"herbal\", \"herbal\", \"herself\", \"hodgson\", \"holder\", \"holder\", \"holder\", \"honei\", \"honei\", \"honei\", \"honei\", \"honei\", \"honei\", \"honei\", \"hot\", \"hot\", \"hot\", \"hot\", \"hot\", \"hot\", \"hot\", \"hot\", \"hour\", \"hour\", \"hour\", \"hour\", \"hour\", \"hour\", \"hour\", \"hour\", \"href\", \"href\", \"href\", \"href\", \"href\", \"href\", \"href\", \"href\", \"http\", \"http\", \"http\", \"http\", \"http\", \"http\", \"http\", \"http\", \"human\", \"human\", \"human\", \"human\", \"hydrat\", \"hydrat\", \"hydrat\", \"hydrat\", \"hydrat\", \"iam\", \"ic\", \"ic\", \"ic\", \"ic\", \"ic\", \"ic\", \"illi\", \"illi\", \"indoor\", \"ingredi\", \"ingredi\", \"ingredi\", \"ingredi\", \"ingredi\", \"ingredi\", \"ingredi\", \"ingredi\", \"instant\", \"instant\", \"instant\", \"instant\", \"instant\", \"instant\", \"instant\", \"item\", \"item\", \"item\", \"item\", \"item\", \"item\", \"item\", \"item\", \"jamaica\", \"jamaica\", \"jan\", \"jasmin\", \"jasmin\", \"jean\", \"jerki\", \"jerki\", \"jerki\", \"jerki\", \"jet\", \"jim\", \"jim\", \"kashi\", \"kcup\", \"kcup\", \"kcup\", \"ketchup\", \"ketchup\", \"ketchup\", \"ketchup\", \"ketchup\", \"keurig\", \"keurig\", \"keurig\", \"kibbl\", \"kid\", \"kid\", \"kid\", \"kid\", \"kid\", \"kid\", \"kid\", \"kid\", \"kitten\", \"kitti\", \"knorr\", \"know\", \"know\", \"know\", \"know\", \"know\", \"know\", \"know\", \"know\", \"kona\", \"kool\", \"kool\", \"korean\", \"krispi\", \"lab\", \"lab\", \"lab\", \"lab\", \"larabar\", \"lather\", \"lavazza\", \"lavend\", \"lax\", \"leaf\", \"leaf\", \"leaf\", \"leaf\", \"leaf\", \"leav\", \"leav\", \"leav\", \"leav\", \"leav\", \"leav\", \"leav\", \"leav\", \"lemongrass\", \"lemongrass\", \"lentil\", \"lick\", \"lick\", \"lick\", \"lick\", \"lick\", \"licoric\", \"licoric\", \"licoric\", \"licoric\", \"licoric\", \"like\", \"like\", \"like\", \"like\", \"like\", \"like\", \"like\", \"like\", \"lipton\", \"lipton\", \"lipton\", \"litter\", \"litter\", \"littl\", \"littl\", \"littl\", \"littl\", \"littl\", \"littl\", \"littl\", \"littl\", \"liver\", \"liver\", \"liver\", \"loaf\", \"loaf\", \"lobster\", \"local\", \"local\", \"local\", \"local\", \"local\", \"local\", \"local\", \"local\", \"look\", \"look\", \"look\", \"look\", \"look\", \"look\", \"look\", \"look\", \"loos\", \"loos\", \"loos\", \"loos\", \"loos\", \"loos\", \"loos\", \"lotion\", \"lotu\", \"louisiana\", \"love\", \"love\", \"love\", \"love\", \"love\", \"love\", \"love\", \"love\", \"make\", \"make\", \"make\", \"make\", \"make\", \"make\", \"make\", \"make\", \"manual\", \"manual\", \"marlei\", \"marlei\", \"marshmallow\", \"marshmallow\", \"marzipan\", \"matcha\", \"matcha\", \"mccann\", \"mccormick\", \"meal\", \"meal\", \"meal\", \"meal\", \"meal\", \"meal\", \"meal\", \"meal\", \"medium\", \"medium\", \"medium\", \"medium\", \"medium\", \"medium\", \"medium\", \"medium\", \"mental\", \"milk\", \"milk\", \"milk\", \"milk\", \"milk\", \"milk\", \"milk\", \"milk\", \"mint\", \"mint\", \"mint\", \"mint\", \"mint\", \"mint\", \"mint\", \"mio\", \"miso\", \"mix\", \"mix\", \"mix\", \"mix\", \"mix\", \"mix\", \"mix\", \"mix\", \"moldi\", \"mommi\", \"month\", \"month\", \"month\", \"month\", \"month\", \"month\", \"month\", \"month\", \"morn\", \"morn\", \"morn\", \"morn\", \"morn\", \"morn\", \"morn\", \"morn\", \"mountain\", \"mountain\", \"movi\", \"movi\", \"movi\", \"movi\", \"movi\", \"msg\", \"msg\", \"msg\", \"muesli\", \"muir\", \"nabisco\", \"nake\", \"nana\", \"nantucket\", \"nectress\", \"need\", \"need\", \"need\", \"need\", \"need\", \"need\", \"need\", \"need\", \"nespresso\", \"newton\", \"nib\", \"night\", \"night\", \"night\", \"night\", \"night\", \"night\", \"night\", \"night\", \"nippl\", \"noodl\", \"noodl\", \"noodl\", \"northern\", \"northern\", \"numi\", \"nurs\", \"nut\", \"nut\", \"nut\", \"nut\", \"nut\", \"nut\", \"nut\", \"nut\", \"nutella\", \"nutella\", \"nutiva\", \"nutiva\", \"nutmeg\", \"nutritionist\", \"oil\", \"oil\", \"oil\", \"oil\", \"oil\", \"oil\", \"oil\", \"oil\", \"old\", \"old\", \"old\", \"old\", \"old\", \"old\", \"old\", \"old\", \"oliv\", \"oliv\", \"oliv\", \"oliv\", \"oliv\", \"omaha\", \"onion\", \"onion\", \"onion\", \"onion\", \"onlin\", \"onlin\", \"onlin\", \"onlin\", \"onlin\", \"onlin\", \"onlin\", \"onlin\", \"oolong\", \"oolong\", \"open\", \"open\", \"open\", \"open\", \"open\", \"open\", \"open\", \"open\", \"oral\", \"oral\", \"order\", \"order\", \"order\", \"order\", \"order\", \"order\", \"order\", \"order\", \"oreo\", \"organ\", \"organ\", \"organ\", \"organ\", \"organ\", \"organ\", \"organ\", \"organ\", \"orlean\", \"osmosi\", \"ounc\", \"ounc\", \"ounc\", \"ounc\", \"ounc\", \"ounc\", \"ounc\", \"ounc\", \"pack\", \"pack\", \"pack\", \"pack\", \"pack\", \"pack\", \"pack\", \"pack\", \"packag\", \"packag\", \"packag\", \"packag\", \"packag\", \"packag\", \"packag\", \"packag\", \"packet\", \"packet\", \"packet\", \"packet\", \"packet\", \"packet\", \"packet\", \"packet\", \"pain\", \"pain\", \"pain\", \"pain\", \"pain\", \"pain\", \"pan\", \"pan\", \"pan\", \"pan\", \"pan\", \"paprika\", \"paprika\", \"parslei\", \"pasta\", \"pasta\", \"paw\", \"pb2\", \"pb2\", \"pb2\", \"peanut\", \"peanut\", \"peanut\", \"peanut\", \"peanut\", \"peanut\", \"peanut\", \"peppercorn\", \"peppercorn\", \"peppermint\", \"peppermint\", \"peppermint\", \"peppermint\", \"peppermint\", \"peppermint\", \"pepperoni\", \"pet\", \"pet\", \"pet\", \"pet\", \"pho\", \"picki\", \"picki\", \"picki\", \"picki\", \"picki\", \"picki\", \"picki\", \"picki\", \"pictur\", \"pictur\", \"pictur\", \"pictur\", \"pictur\", \"pictur\", \"pictur\", \"pictur\", \"pill\", \"pill\", \"pill\", \"pill\", \"pitcher\", \"pitcher\", \"pizza\", \"pizza\", \"pizza\", \"plant\", \"plant\", \"plant\", \"plant\", \"plastic\", \"plastic\", \"plastic\", \"plastic\", \"plastic\", \"plastic\", \"plastic\", \"plastic\", \"pod\", \"pod\", \"pod\", \"poop\", \"popchip\", \"popchip\", \"popcorn\", \"popcorn\", \"popcorn\", \"popcorn\", \"popper\", \"pork\", \"pork\", \"pork\", \"pork\", \"powder\", \"powder\", \"powder\", \"powder\", \"powder\", \"powder\", \"powder\", \"powder\", \"pregnanc\", \"pregnanc\", \"price\", \"price\", \"price\", \"price\", \"price\", \"price\", \"price\", \"price\", \"primal\", \"prime\", \"prime\", \"prime\", \"prime\", \"prime\", \"prime\", \"prime\", \"problem\", \"problem\", \"problem\", \"problem\", \"problem\", \"problem\", \"problem\", \"problem\", \"product\", \"product\", \"product\", \"product\", \"product\", \"product\", \"product\", \"product\", \"promin\", \"promptli\", \"promptli\", \"promptli\", \"propylen\", \"puck\", \"puck\", \"pump\", \"pump\", \"pup\", \"puppi\", \"puppi\", \"purchas\", \"purchas\", \"purchas\", \"purchas\", \"purchas\", \"purchas\", \"purchas\", \"purchas\", \"purina\", \"qualiti\", \"qualiti\", \"qualiti\", \"qualiti\", \"qualiti\", \"qualiti\", \"qualiti\", \"qualiti\", \"quinoa\", \"quinoa\", \"quinoa\", \"raisin\", \"raisin\", \"raisin\", \"read\", \"read\", \"read\", \"read\", \"read\", \"read\", \"read\", \"read\", \"receiv\", \"receiv\", \"receiv\", \"receiv\", \"receiv\", \"receiv\", \"receiv\", \"receiv\", \"recip\", \"recip\", \"recip\", \"recip\", \"recip\", \"recip\", \"recip\", \"recip\", \"recommend\", \"recommend\", \"recommend\", \"recommend\", \"recommend\", \"recommend\", \"recommend\", \"recommend\", \"recoveri\", \"reflux\", \"revers\", \"revers\", \"review\", \"review\", \"review\", \"review\", \"review\", \"review\", \"review\", \"review\", \"rice\", \"rice\", \"rice\", \"rice\", \"rice\", \"rice\", \"rice\", \"rich\", \"rich\", \"rich\", \"rich\", \"rich\", \"rich\", \"rich\", \"rich\", \"rishi\", \"river\", \"roach\", \"roast\", \"roast\", \"roast\", \"roast\", \"roast\", \"roast\", \"roast\", \"roaster\", \"robust\", \"robust\", \"robust\", \"robust\", \"robust\", \"robust\", \"rooibo\", \"rooibo\", \"rose\", \"rose\", \"rose\", \"rub\", \"rub\", \"russian\", \"rye\", \"safewai\", \"salad\", \"salad\", \"salad\", \"salad\", \"salt\", \"salt\", \"salt\", \"salt\", \"salt\", \"sauc\", \"sauc\", \"sauc\", \"sauc\", \"sauc\", \"sauc\", \"sauc\", \"saut\", \"save\", \"save\", \"save\", \"save\", \"save\", \"save\", \"save\", \"save\", \"scalp\", \"schedul\", \"schedul\", \"schedul\", \"scienc\", \"scienc\", \"scottish\", \"scovil\", \"scrambl\", \"season\", \"season\", \"season\", \"season\", \"season\", \"season\", \"season\", \"season\", \"seed\", \"seed\", \"seed\", \"seed\", \"seed\", \"seed\", \"sell\", \"sell\", \"sell\", \"sell\", \"sell\", \"sell\", \"sell\", \"sell\", \"seller\", \"seller\", \"seller\", \"seller\", \"seller\", \"sent\", \"sent\", \"sent\", \"sent\", \"sent\", \"sent\", \"seper\", \"servic\", \"servic\", \"servic\", \"servic\", \"servic\", \"servic\", \"servic\", \"shake\", \"shake\", \"shake\", \"shake\", \"shake\", \"shake\", \"shake\", \"shake\", \"shampoo\", \"she\", \"she\", \"she\", \"she\", \"she\", \"she\", \"shepherd\", \"ship\", \"ship\", \"ship\", \"ship\", \"ship\", \"ship\", \"ship\", \"ship\", \"shipment\", \"shipment\", \"shipment\", \"shipment\", \"shipment\", \"shipment\", \"sigh\", \"skillet\", \"sleep\", \"sleep\", \"smell\", \"smell\", \"smell\", \"smell\", \"smell\", \"smell\", \"smell\", \"smell\", \"smooth\", \"smooth\", \"smooth\", \"smooth\", \"smooth\", \"smooth\", \"smooth\", \"smooth\", \"snack\", \"snack\", \"snack\", \"snack\", \"snack\", \"snack\", \"snack\", \"soap\", \"soap\", \"soda\", \"soda\", \"soda\", \"soda\", \"soda\", \"sodium\", \"sodium\", \"sodium\", \"sodium\", \"soil\", \"soil\", \"sooth\", \"sooth\", \"sooth\", \"sooth\", \"soup\", \"soup\", \"soup\", \"soup\", \"soup\", \"soybean\", \"spelt\", \"spelt\", \"splenda\", \"sport\", \"sport\", \"sport\", \"sriracha\", \"starbuck\", \"starbuck\", \"starch\", \"start\", \"start\", \"start\", \"start\", \"start\", \"start\", \"start\", \"start\", \"stash\", \"stash\", \"stash\", \"stash\", \"stash\", \"steamer\", \"steamer\", \"steel\", \"steel\", \"steel\", \"steel\", \"steep\", \"steep\", \"steep\", \"steep\", \"stevia\", \"stevia\", \"stevia\", \"stevia\", \"stevita\", \"stik\", \"stool\", \"stool\", \"store\", \"store\", \"store\", \"store\", \"store\", \"store\", \"store\", \"store\", \"string\", \"string\", \"string\", \"string\", \"strong\", \"strong\", \"strong\", \"strong\", \"strong\", \"strong\", \"strong\", \"strong\", \"stuff\", \"stuff\", \"stuff\", \"stuff\", \"stuff\", \"stuff\", \"stuff\", \"stuff\", \"subscrib\", \"subscrib\", \"subscrib\", \"subscrib\", \"subscrib\", \"subscrib\", \"subscrib\", \"sucralos\", \"sugar\", \"sugar\", \"sugar\", \"sugar\", \"sugar\", \"sugar\", \"sugar\", \"sugar\", \"sumatra\", \"sumatran\", \"sweet\", \"sweet\", \"sweet\", \"sweet\", \"sweet\", \"sweet\", \"sweet\", \"sweet\", \"sweeten\", \"sweeten\", \"sweeten\", \"sweeten\", \"sweeten\", \"sweeten\", \"sweeten\", \"sweetner\", \"sweetner\", \"syrup\", \"syrup\", \"syrup\", \"syrup\", \"syrup\", \"syrup\", \"syrup\", \"tabasco\", \"take\", \"take\", \"take\", \"take\", \"take\", \"take\", \"take\", \"take\", \"tangerin\", \"tassimo\", \"tassimo\", \"tast\", \"tast\", \"tast\", \"tast\", \"tast\", \"tast\", \"tast\", \"tast\", \"taster\", \"tasti\", \"tasti\", \"tasti\", \"tasti\", \"tasti\", \"tasti\", \"tasti\", \"tasti\", \"tazo\", \"tazo\", \"tea\", \"tea\", \"tea\", \"tea\", \"tea\", \"tea\", \"teabag\", \"teabag\", \"teabag\", \"teaspoon\", \"teaspoon\", \"teaspoon\", \"teaspoon\", \"teavana\", \"teeth\", \"teeth\", \"teeth\", \"teeth\", \"teeth\", \"teeth\", \"teriyaki\", \"teriyaki\", \"terrier\", \"textur\", \"textur\", \"textur\", \"textur\", \"textur\", \"textur\", \"textur\", \"textur\", \"thank\", \"thank\", \"thank\", \"thank\", \"thank\", \"thank\", \"thank\", \"thank\", \"the\", \"the\", \"the\", \"the\", \"the\", \"the\", \"the\", \"the\", \"theater\", \"thei\", \"thei\", \"thei\", \"thei\", \"thei\", \"thei\", \"thei\", \"thei\", \"them\", \"them\", \"them\", \"them\", \"them\", \"them\", \"them\", \"them\", \"thing\", \"thing\", \"thing\", \"thing\", \"thing\", \"thing\", \"thing\", \"thing\", \"think\", \"think\", \"think\", \"think\", \"think\", \"think\", \"think\", \"think\", \"tiger\", \"time\", \"time\", \"time\", \"time\", \"time\", \"time\", \"time\", \"time\", \"timothi\", \"tofu\", \"tofu\", \"toi\", \"toi\", \"toi\", \"toi\", \"tomato\", \"tomato\", \"tomato\", \"tomato\", \"tonic\", \"train\", \"train\", \"train\", \"train\", \"train\", \"transact\", \"trap\", \"trap\", \"treat\", \"treat\", \"treat\", \"treat\", \"treat\", \"treat\", \"treat\", \"treat\", \"tree\", \"tree\", \"tree\", \"tree\", \"tree\", \"tree\", \"tree\", \"tri\", \"tri\", \"tri\", \"tri\", \"tri\", \"tri\", \"tri\", \"tri\", \"trident\", \"truvia\", \"try\", \"try\", \"try\", \"try\", \"try\", \"try\", \"try\", \"try\", \"tulli\", \"twine\", \"twine\", \"uncl\", \"unhappi\", \"upgrad\", \"us\", \"us\", \"us\", \"us\", \"us\", \"us\", \"us\", \"us\", \"valentin\", \"vanilla\", \"vanilla\", \"vanilla\", \"vanilla\", \"vanilla\", \"vanilla\", \"vanilla\", \"veget\", \"veget\", \"veget\", \"veget\", \"veget\", \"veget\", \"veget\", \"veget\", \"vendor\", \"vendor\", \"vendor\", \"vendor\", \"verona\", \"vet\", \"virgin\", \"vita\", \"wafer\", \"wai\", \"wai\", \"wai\", \"wai\", \"wai\", \"wai\", \"wai\", \"wai\", \"walmart\", \"walmart\", \"walmart\", \"walmart\", \"walmart\", \"walmart\", \"walmart\", \"walmart\", \"want\", \"want\", \"want\", \"want\", \"want\", \"want\", \"want\", \"want\", \"warehous\", \"warehous\", \"warehous\", \"water\", \"water\", \"water\", \"water\", \"water\", \"water\", \"water\", \"water\", \"watermelon\", \"weak\", \"weak\", \"weak\", \"weak\", \"weak\", \"week\", \"week\", \"week\", \"week\", \"week\", \"week\", \"week\", \"week\", \"well\", \"well\", \"well\", \"well\", \"well\", \"well\", \"well\", \"well\", \"wet\", \"wet\", \"wet\", \"wet\", \"wet\", \"wet\", \"wheat\", \"wheat\", \"wheat\", \"wheat\", \"wheat\", \"wheat\", \"wheat\", \"whiskei\", \"white\", \"white\", \"white\", \"white\", \"white\", \"white\", \"white\", \"white\", \"wilton\", \"wolfgang\", \"wolfgang\", \"work\", \"work\", \"work\", \"work\", \"work\", \"work\", \"work\", \"work\", \"www\", \"www\", \"www\", \"www\", \"www\", \"www\", \"www\", \"www\", \"year\", \"year\", \"year\", \"year\", \"year\", \"year\", \"year\", \"year\", \"yogi\", \"you\", \"you\", \"you\", \"you\", \"you\", \"you\", \"you\", \"you\", \"zevia\", \"zuke\", \"zuke\"]}, \"R\": 30, \"lambda.step\": 0.01, \"plot.opts\": {\"xlab\": \"PC1\", \"ylab\": \"PC2\"}, \"topic.order\": [5, 6, 8, 2, 7, 1, 3, 4]};\n",
              "\n",
              "function LDAvis_load_lib(url, callback){\n",
              "  var s = document.createElement('script');\n",
              "  s.src = url;\n",
              "  s.async = true;\n",
              "  s.onreadystatechange = s.onload = callback;\n",
              "  s.onerror = function(){console.warn(\"failed to load library \" + url);};\n",
              "  document.getElementsByTagName(\"head\")[0].appendChild(s);\n",
              "}\n",
              "\n",
              "if(typeof(LDAvis) !== \"undefined\"){\n",
              "   // already loaded: just create the visualization\n",
              "   !function(LDAvis){\n",
              "       new LDAvis(\"#\" + \"ldavis_el26591375545857506563915519479\", ldavis_el26591375545857506563915519479_data);\n",
              "   }(LDAvis);\n",
              "}else if(typeof define === \"function\" && define.amd){\n",
              "   // require.js is available: use it to load d3/LDAvis\n",
              "   require.config({paths: {d3: \"https://d3js.org/d3.v5\"}});\n",
              "   require([\"d3\"], function(d3){\n",
              "      window.d3 = d3;\n",
              "      LDAvis_load_lib(\"https://cdn.jsdelivr.net/gh/bmabey/pyLDAvis@3.4.0/pyLDAvis/js/ldavis.v3.0.0.js\", function(){\n",
              "        new LDAvis(\"#\" + \"ldavis_el26591375545857506563915519479\", ldavis_el26591375545857506563915519479_data);\n",
              "      });\n",
              "    });\n",
              "}else{\n",
              "    // require.js not available: dynamically load d3 & LDAvis\n",
              "    LDAvis_load_lib(\"https://d3js.org/d3.v5.js\", function(){\n",
              "         LDAvis_load_lib(\"https://cdn.jsdelivr.net/gh/bmabey/pyLDAvis@3.4.0/pyLDAvis/js/ldavis.v3.0.0.js\", function(){\n",
              "                 new LDAvis(\"#\" + \"ldavis_el26591375545857506563915519479\", ldavis_el26591375545857506563915519479_data);\n",
              "            })\n",
              "         });\n",
              "}\n",
              "</script>"
            ]
          },
          "metadata": {},
          "execution_count": 147
        }
      ]
    },
    {
      "cell_type": "markdown",
      "source": [
        "I am explaining 3 topics i.e topic 1 4 and 3.\n",
        "\n",
        "This maps shows the relative distances between topics represented in circles and multi scaling graph.\n",
        "\n",
        "each circle is topic and distance between circles gives simlarity among words in topic\n",
        "\n",
        "Just hover each topic and read following explanation\n",
        "\n",
        "Topic 1:\n",
        "Top Keywords: \"like,\" \"taste,\" \"flavor,\" \"good,\" \"chocolate,\" \"eat,\" \"love,\" \"snack,\" \"cookie,\" \"bar,\" etc.\n",
        "\n",
        "Interpretation : Topic 1 is close to Topic 4, indicating some overlap in product categories or consumer sentiments.\n",
        "\n",
        "Topic 3:\n",
        "Top Keywords: \"food,\" \"dog,\" \"cat,\" \"treat,\" \"love,\" \"eat,\" \"like,\" \"product,\" \"feed,\" \"can,\" etc.\n",
        "\n",
        "Interpretation: Topic 3 is isolated from the other topics, indicating it covers a unique subject area—pet food—that does not overlap much with the food and snack items in other topics.\n",
        "\n",
        "\n",
        "Topic 4:\n",
        "Top Keywords: \"product,\" \"us,\" \"oil,\" \"taste,\" \"like,\" \"salt,\" \"cook,\" \"good,\" \"sauce,\" \"ingredient,\" etc.\n",
        "\n",
        "Interpretation:\n",
        "Topic 4 is also near Topic 1, showing that users who discuss cooking ingredients may also review snack items, creating some thematic overlap."
      ],
      "metadata": {
        "id": "_9XN6cylA_oo"
      }
    },
    {
      "cell_type": "markdown",
      "source": [
        "## Extra Question (5 Points)\n",
        "\n",
        "**Compare the results generated by the four topic modeling algorithms, which one is better? You should explain the reasons in details.**\n",
        "\n",
        "**This question will compensate for any points deducted in this exercise. Maximum marks for the exercise is 40 points.**"
      ],
      "metadata": {
        "id": "d89ODUx3jjJV"
      }
    },
    {
      "cell_type": "code",
      "source": [
        "# Write your code here\n",
        "''' I felt lda is pretty better. Because output response was fast and it managed high-dimensional data effiecently '''"
      ],
      "metadata": {
        "id": "OK34nZtojhmm"
      },
      "execution_count": null,
      "outputs": []
    },
    {
      "cell_type": "markdown",
      "source": [
        "# Mandatory Question"
      ],
      "metadata": {
        "id": "VEs-OoDEhTW4"
      }
    },
    {
      "cell_type": "markdown",
      "source": [
        "**Important: Reflective Feedback on this exercise**\n",
        "\n",
        "Please provide your thoughts and feedback on the exercises you completed in this assignment.\n",
        "\n",
        "Consider the following points in your response:\n",
        "\n",
        "**Learning Experience:** Describe your overall learning experience in working with text data and extracting features using various topic modeling algorithms. Did you understand these algorithms and did the implementations helped in grasping the nuances of feature extraction from text data.\n",
        "\n",
        "**Challenges Encountered:** Were there specific difficulties in completing this exercise?\n",
        "\n",
        "Relevance to Your Field of Study: How does this exercise relate to the field of NLP?\n",
        "\n",
        "**(Your submission will not be graded if this question is left unanswered)**\n",
        "\n"
      ],
      "metadata": {
        "id": "IUKC7suYhVl0"
      }
    },
    {
      "cell_type": "code",
      "source": [
        "# Your answer here (no code for this question, write down your answer as detail as possible for the above questions):\n",
        "\n",
        "'''\n",
        "Please write you answer here:\n",
        "\n",
        "Everything was good\n",
        "\n",
        "\n",
        "'''"
      ],
      "metadata": {
        "id": "CAq0DZWAhU9m"
      },
      "execution_count": null,
      "outputs": []
    }
  ],
  "metadata": {
    "kernelspec": {
      "display_name": "Python 3 (ipykernel)",
      "language": "python",
      "name": "python3"
    },
    "language_info": {
      "codemirror_mode": {
        "name": "ipython",
        "version": 3
      },
      "file_extension": ".py",
      "mimetype": "text/x-python",
      "name": "python",
      "nbconvert_exporter": "python",
      "pygments_lexer": "ipython3",
      "version": "3.9.12"
    },
    "colab": {
      "provenance": [],
      "collapsed_sections": [
        "dEUjBE6C70nf",
        "7oSK4soH70nf",
        "7nZGAOwl70ng"
      ],
      "include_colab_link": true
    }
  },
  "nbformat": 4,
  "nbformat_minor": 0
}