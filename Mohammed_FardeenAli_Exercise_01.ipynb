{
  "cells": [
    {
      "cell_type": "markdown",
      "metadata": {
        "id": "view-in-github",
        "colab_type": "text"
      },
      "source": [
        "<a href=\"https://colab.research.google.com/github/Fardeen210/Fardeen_INFO5731_Fall2024/blob/main/Mohammed_FardeenAli_Exercise_01.ipynb\" target=\"_parent\"><img src=\"https://colab.research.google.com/assets/colab-badge.svg\" alt=\"Open In Colab\"/></a>"
      ]
    },
    {
      "cell_type": "markdown",
      "metadata": {
        "id": "DymRJbxDBCnf"
      },
      "source": [
        "# **INFO5731 Exercise 1**\n",
        "\n",
        "This exercise covers a variety of fundamental concepts in Python and is designed to help students improve their coding skills and problem-solving abilities.\n",
        "\n",
        "**Expectations**:\n",
        "*   Students are expected to complete the exercise during lecture period to meet the active participation criteria of the course.\n",
        "*   Use the provided .*ipynb* document to write your code & respond to the questions. Avoid generating a new file.\n",
        "*   Write complete answers and run all the cells before submission.\n",
        "*   Make sure the submission is \"clean\"; *i.e.*, no unnecessary code cells.\n",
        "*   Once finished, allow shared rights from top right corner (*see Canvas for details*).\n",
        "\n",
        "**Total points**: 40\n",
        "\n",
        "**Deadline**: This in-class exercise is due at the end of the day tomorrow, at 11:59 PM.\n",
        "\n",
        "**Late submissions cannot be considered, and no requests will be answered. Manage your time accordingly.**\n"
      ]
    },
    {
      "cell_type": "markdown",
      "source": [
        "## Question 1\n",
        "Write a Python program that  prompts the user to input the length and width of a rectangle, and then calculates and displays the area of the rectangle."
      ],
      "metadata": {
        "id": "FBKvD6O_TY6e"
      }
    },
    {
      "cell_type": "code",
      "source": [
        "length = float(input(\"enter the length of the rectangle;\"))\n",
        "width = float(input(\"enter the width of the rectangle :\"))\n",
        "area = length * width\n",
        "print(\"the are of recatangle is\",area)"
      ],
      "metadata": {
        "id": "cikVKDXdTbzE",
        "colab": {
          "base_uri": "https://localhost:8080/"
        },
        "outputId": "cfea7f62-d908-48b8-9ee1-b19935b5b120"
      },
      "execution_count": null,
      "outputs": [
        {
          "output_type": "stream",
          "name": "stdout",
          "text": [
            "enter the length of the rectangle;5\n",
            "enter the width of the rectangle :5\n",
            "the are of recatangle is 25.0\n"
          ]
        }
      ]
    },
    {
      "cell_type": "markdown",
      "source": [
        "## Question 2\n",
        "Create a Python program that interactively takes two numerical inputs from the user and swaps their values without utilizing an extra variable."
      ],
      "metadata": {
        "id": "E9RqrlwdTfvl"
      }
    },
    {
      "cell_type": "code",
      "source": [
        "Num1 = float(input(\"Enter your first number\"))\n",
        "Num2 = float(input(\"Enter your second Number\"))\n",
        "Num1 = Num1 + Num2\n",
        "Num2 = Num1 - Num2\n",
        "Num1 = Num1 - Num2\n",
        "print(\"First Number is\",Num1,)\n",
        "print(\"Second Number is\",Num2)\n"
      ],
      "metadata": {
        "id": "4XvRknixTh1g",
        "colab": {
          "base_uri": "https://localhost:8080/"
        },
        "outputId": "3c0b24d9-0c4a-4dd2-b38d-cd0d58432ebe"
      },
      "execution_count": null,
      "outputs": [
        {
          "output_type": "stream",
          "name": "stdout",
          "text": [
            "Enter your first number5.5\n",
            "Enter your second Number54\n",
            "Num1 is 54.0\n",
            "Num2 is 5.5\n"
          ]
        }
      ]
    },
    {
      "cell_type": "markdown",
      "metadata": {
        "id": "03jb4GZsBkBS"
      },
      "source": [
        "## Question 3\n",
        "Write a Python script to determine and print the length of a user-input string."
      ]
    },
    {
      "cell_type": "code",
      "execution_count": null,
      "metadata": {
        "id": "YaGLbSHHB8Ej",
        "colab": {
          "base_uri": "https://localhost:8080/"
        },
        "outputId": "c77496e1-f44b-4a72-f8aa-3804cc9cb8a5"
      },
      "outputs": [
        {
          "output_type": "stream",
          "name": "stdout",
          "text": [
            "enter your prompt: fafdfeenamnfasds\n",
            "input length:  16\n"
          ]
        }
      ],
      "source": [
        "# write your answer here\n",
        "user_input =input(\"enter your prompt: \")\n",
        "print(\"input length: \",len(user_input))"
      ]
    },
    {
      "cell_type": "markdown",
      "metadata": {
        "id": "jJDe71iLB616"
      },
      "source": [
        "## Question 4\n",
        "Construct a Python program that counts and displays the occurrences of each character in a given string.\n",
        "\n",
        "Sample String: 'openai.ai',\n",
        "\n",
        "Expected Result: {'a': 2, 'i': 2, '.': 1, 'o': 1, 'p': 1, 'e': 1, 'n': 1}"
      ]
    },
    {
      "cell_type": "code",
      "execution_count": null,
      "metadata": {
        "id": "MtKskTzbCLaU",
        "colab": {
          "base_uri": "https://localhost:8080/"
        },
        "outputId": "cf6397f5-7de3-45ce-e56b-79362baf5647"
      },
      "outputs": [
        {
          "output_type": "stream",
          "name": "stdout",
          "text": [
            "enter yout promt: methos of computers\n",
            "{'m': 2, 'e': 2, 't': 2, 'h': 1, 'o': 3, 's': 2, ' ': 2, 'f': 1, 'c': 1, 'p': 1, 'u': 1, 'r': 1}\n"
          ]
        }
      ],
      "source": [
        "# write your answer here\n",
        "User_input = input(\"enter yout promt: \")\n",
        "count = {}\n",
        "\n",
        "for char in User_input:\n",
        "    if char in count:\n",
        "        count[char] += 1\n",
        "    else:\n",
        "        count[char] = 1\n",
        "print(count)"
      ]
    },
    {
      "cell_type": "markdown",
      "metadata": {
        "id": "55W9AMdXCSpV"
      },
      "source": [
        "## Question 5\n",
        "Design a Python code to calculate the sum of all elements in a user-provided list."
      ]
    },
    {
      "cell_type": "code",
      "execution_count": null,
      "metadata": {
        "id": "I57NXsauCec2",
        "colab": {
          "base_uri": "https://localhost:8080/"
        },
        "outputId": "cfdf310f-18a6-40c9-9d62-4916627892d3"
      },
      "outputs": [
        {
          "output_type": "stream",
          "name": "stdout",
          "text": [
            "Enter your numbers with spaces12 34 234 234 1234\n",
            "the sum of the list is 1748.0\n"
          ]
        }
      ],
      "source": [
        "# write your answer here\n",
        "def cal_sum(input_list):\n",
        "  return sum(input_list)\n",
        "\n",
        "num1 = input(\"Enter your numbers with spaces\")\n",
        "\n",
        "input_list= [float(i) for i in num1.split()]\n",
        "\n",
        "total_sum = cal_sum(input_list)\n",
        "\n",
        "print(\"the sum of the list is\",total_sum)"
      ]
    },
    {
      "cell_type": "markdown",
      "metadata": {
        "id": "4ulBZ6yhCi9F"
      },
      "source": [
        "## Question 6\n",
        "Write a Python program that modifies a given string by replacing all occurrences of its first character with '$', excluding the first character itself.\n",
        "\n",
        "\n",
        "Sample String : 'restart‘\n",
        "Expected Result : 'resta\\$t'"
      ]
    },
    {
      "cell_type": "code",
      "execution_count": null,
      "metadata": {
        "id": "Fj0XhwbBCw2o",
        "colab": {
          "base_uri": "https://localhost:8080/"
        },
        "outputId": "1ab4b6c0-8603-4f10-ed12-ee89118ce1bc"
      },
      "outputs": [
        {
          "output_type": "stream",
          "name": "stdout",
          "text": [
            "Enter your prompt: restart\n",
            "Modified String: resta$t\n"
          ]
        }
      ],
      "source": [
        "# write your answer here\n",
        "\n",
        "user_input = input(\"Enter your prompt: \")\n",
        "\n",
        "first_char = user_input[0]\n",
        "\n",
        "modified_string = first_char + user_input[1:].replace(first_char, '$')\n",
        "\n",
        "print(\"Modified String:\", modified_string)\n",
        "\n"
      ]
    },
    {
      "cell_type": "markdown",
      "source": [
        "## Question 7\n",
        "Write a Python program using a while loop to compute the factorial of a user-supplied number."
      ],
      "metadata": {
        "id": "qVXA3q7ET5JI"
      }
    },
    {
      "cell_type": "code",
      "source": [
        "# write your answer here\n",
        "num1 = int(input(\"Enter your number: \"))\n",
        "factorial =1\n",
        "i=1\n",
        "while i <= num1:\n",
        "  factorial *= i\n",
        "  i+=1\n",
        "print(\"factorial of\",num1,\"is\",factorial)\n"
      ],
      "metadata": {
        "id": "Lbt7R6UkT7BA",
        "colab": {
          "base_uri": "https://localhost:8080/"
        },
        "outputId": "14b0adbd-ae4f-47d5-bb4a-68e61c8333a8"
      },
      "execution_count": null,
      "outputs": [
        {
          "output_type": "stream",
          "name": "stdout",
          "text": [
            "Enter your number: 5\n",
            "factorial of 5 is 120\n"
          ]
        }
      ]
    },
    {
      "cell_type": "markdown",
      "source": [
        "## Question 8\n",
        "Create a program that accepts a list of numbers as input and outputs a new list containing only the even numbers."
      ],
      "metadata": {
        "id": "6YfbzXMNT--R"
      }
    },
    {
      "cell_type": "code",
      "source": [
        "user_input=input(\"enter a list of numbers: \")\n",
        "input_list = (float(num) for num in user_input.split())\n",
        "even_numbers = [i for i in input_list if i % 2 == 0]\n",
        "print(\"Even numbers:\", even_numbers)\n",
        "\n"
      ],
      "metadata": {
        "id": "54q7wMQPUAKu",
        "colab": {
          "base_uri": "https://localhost:8080/"
        },
        "outputId": "2e5c005c-ddc8-4093-ab8e-9e0ee9894779"
      },
      "execution_count": null,
      "outputs": [
        {
          "output_type": "stream",
          "name": "stdout",
          "text": [
            "enter the number12 34 23 12 55\n",
            "Even numbers: [12.0, 34.0, 12.0]\n"
          ]
        }
      ]
    },
    {
      "cell_type": "markdown",
      "metadata": {
        "id": "_bIP7s1MCzue"
      },
      "source": [
        "## Question 9\n",
        "Design a Python function to check if a number is prime.\n"
      ]
    },
    {
      "cell_type": "code",
      "execution_count": null,
      "metadata": {
        "id": "w79QilHXD3Mg",
        "colab": {
          "base_uri": "https://localhost:8080/"
        },
        "outputId": "ecfedf46-7fcb-47b6-843e-cdb30d521b46"
      },
      "outputs": [
        {
          "output_type": "stream",
          "name": "stdout",
          "text": [
            "Enter your number: 4\n",
            "4 is not a prime number\n"
          ]
        }
      ],
      "source": [
        "num1 = int(input(\"Enter your number: \"))\n",
        "\n",
        "if num1 <= 1:\n",
        "    print(num1, \"is neither a prime number nor a composite number\")\n",
        "else:\n",
        "    # Check if num1 is a prime number\n",
        "    is_prime = True\n",
        "    for i in range(2, int(num1 ** 0.5) + 1):\n",
        "        if num1 % i == 0:\n",
        "            is_prime = False\n",
        "            break\n",
        "    if is_prime:\n",
        "        print(num1, \"is a prime number\")\n",
        "    else:\n",
        "        print(num1, \"is not a prime number\")\n"
      ]
    },
    {
      "cell_type": "markdown",
      "metadata": {
        "id": "xCa2bK9aD4Q3"
      },
      "source": [
        "## Question 10\n",
        "Write a Python program to concatenate following dictionaries to create a new one.\n",
        "\n",
        "Sample Dictionary : dic1={1:10, 2:20}, dic2={3:30, 4:40}, dic3={5:50,6:60},\n",
        "\n",
        "Expected Result : {1: 10, 2: 20, 3: 30, 4: 40, 5: 50, 6: 60}\n"
      ]
    },
    {
      "cell_type": "code",
      "execution_count": null,
      "metadata": {
        "id": "_z4aLqAbEET1",
        "colab": {
          "base_uri": "https://localhost:8080/"
        },
        "outputId": "c36ab5e9-959c-4d9c-8ced-c7060945e158"
      },
      "outputs": [
        {
          "output_type": "stream",
          "name": "stdout",
          "text": [
            "{1: 10, 2: 20, 3: 30, 4: 40, 5: 50, 6: 60}\n"
          ]
        }
      ],
      "source": [
        "# write your answer here\n",
        "dic1 = {1: 10, 2: 20}\n",
        "dic2 = {3: 30, 4: 40}\n",
        "dic3 = {5: 50, 6: 60}\n",
        "\n",
        "dic4={}\n",
        "for d in (dic1,dic2,dic3):\n",
        "  dic4.update(d)\n",
        "print(dic4)\n"
      ]
    },
    {
      "cell_type": "markdown",
      "source": [
        "## Question 11\n",
        "Design a Python function that takes a tuple of integers as input and returns the largest and smallest elements."
      ],
      "metadata": {
        "id": "bkyZ2xSZUOst"
      }
    },
    {
      "cell_type": "code",
      "source": [
        "# write your answer here\n",
        "user_tuple = input(\"Enter a tuple of integers separated by commas: \")\n",
        "input_tuple = tuple(map(int, user_tuple.split(\",\")))\n",
        "max_element = max(input_tuple)\n",
        "min_element = min(input_tuple)\n",
        "print(\"Largest element:\", max_element)\n",
        "print(\"Smallest element:\", min_element)\n"
      ],
      "metadata": {
        "id": "3FdLRBKOUQEd",
        "colab": {
          "base_uri": "https://localhost:8080/"
        },
        "outputId": "fb9e8d5f-e59a-4390-8ab6-90b04dc339c5"
      },
      "execution_count": null,
      "outputs": [
        {
          "output_type": "stream",
          "name": "stdout",
          "text": [
            "Enter a tuple of integers separated by commas: 23,34,3254,552,2,3,5\n",
            "Largest element: 3254\n",
            "Smallest element: 2\n"
          ]
        }
      ]
    },
    {
      "cell_type": "markdown",
      "source": [
        "## Question 12\n",
        "Write a Python program that counts the frequency of each character in a given string and stores it in a dictionary."
      ],
      "metadata": {
        "id": "O0TVi3gKUTpp"
      }
    },
    {
      "cell_type": "code",
      "source": [
        "# write your answer here\n",
        "user_input = input(\"Enter your prompt: \")\n",
        "char_freq = {}\n",
        "for char in user_input:\n",
        "    if char in char_freq:\n",
        "        char_freq[char] += 1\n",
        "    else:\n",
        "        char_freq [char] = 1\n",
        "print(char_freq)"
      ],
      "metadata": {
        "id": "lAtfSfZXUU-h",
        "colab": {
          "base_uri": "https://localhost:8080/"
        },
        "outputId": "83e72927-5576-4c5f-df39-32ea0dfe9ac2"
      },
      "execution_count": null,
      "outputs": [
        {
          "output_type": "stream",
          "name": "stdout",
          "text": [
            "Enter your prompt: akdfjkadjfadsjfsdsd\n",
            "{'a': 3, 'k': 2, 'd': 5, 'f': 3, 'j': 3, 's': 3}\n"
          ]
        }
      ]
    },
    {
      "cell_type": "markdown",
      "metadata": {
        "id": "0v48Vqa7FrQh"
      },
      "source": [
        "## Question 13\n",
        "Implement a Python script to identify duplicate elements in a provided array of integers. Return -1 if there are no duplicates."
      ]
    },
    {
      "cell_type": "code",
      "execution_count": 64,
      "metadata": {
        "id": "7WEmgq-DF2P1",
        "colab": {
          "base_uri": "https://localhost:8080/"
        },
        "outputId": "c2451948-ebc5-4fae-d393-5c02230a9366"
      },
      "outputs": [
        {
          "output_type": "stream",
          "name": "stdout",
          "text": [
            "Enter integers separated by commas: 1,23,34,45,35\n",
            "-1\n"
          ]
        }
      ],
      "source": [
        "input_string = input(\"Enter integers separated by commas: \")\n",
        "\n",
        "# Converting the input string to a list of integers\n",
        "arr = list(map(int, input_string.split(',')))\n",
        "duplicate = []\n",
        "# Loop through each element in the array\n",
        "for i in range(len(arr)):\n",
        "    for j in range(i + 1, len(arr)):\n",
        "        if arr[i] == arr[j]:\n",
        "            # Append the duplicate element to the list\n",
        "            duplicate.append(arr[i])\n",
        "            break\n",
        "\n",
        "# Check if there were any duplicates found\n",
        "if duplicate:\n",
        "    print(\"Duplicates:\", duplicate)\n",
        "else:\n",
        "    print(-1)"
      ]
    },
    {
      "cell_type": "markdown",
      "metadata": {
        "id": "vD5PYLMuGga_"
      },
      "source": [
        "## Question 14\n",
        "Write a Python script to find the common elements between two lists."
      ]
    },
    {
      "cell_type": "code",
      "execution_count": 66,
      "metadata": {
        "id": "t0D5kdJUGjjw",
        "colab": {
          "base_uri": "https://localhost:8080/"
        },
        "outputId": "89815216-8b56-44e0-ad7d-6bc1d149d06a"
      },
      "outputs": [
        {
          "output_type": "stream",
          "name": "stdout",
          "text": [
            "Enter integers for the first list :1, 2, 3, 4, 5\n",
            "Enter integers for the second list :4, 5, 6, 7, 8\n",
            "Common elements: [4, 5]\n"
          ]
        }
      ],
      "source": [
        "# write your answer here\n",
        "input_list1 = input(\"Enter integers for the first list :\")\n",
        "list1 = list(map(int, input_list1.split(',')))\n",
        "\n",
        "input_list2 = input(\"Enter integers for the second list :\")\n",
        "list2 = list(map(int, input_list2.split(',')))\n",
        "\n",
        "# Finding common elements using set intersection\n",
        "common_elements = [element for element in list1 if element in list2]\n",
        "\n",
        "\n",
        "# Printing the common elements\n",
        "if common_elements:\n",
        "    print(\"Common elements:\", common_elements)\n",
        "else:\n",
        "    print(\"No common elements found.\")\n"
      ]
    },
    {
      "cell_type": "markdown",
      "metadata": {
        "id": "uHkd-y5VhVWC"
      },
      "source": [
        "## Question 15\n",
        "Write a Python program to randomly divide the students in this class into maximum of eight groups for term projects, each group should have at least 4 students but no more than 6 students (including 6).\n",
        "\n",
        "Here is the students list:\n",
        "\n",
        "student_list_spring_2024=[rb0846,\n",
        "ac1964,\n",
        "hc0612,\n",
        "md0912,\n",
        "ad1198,\n",
        "md0894,\n",
        "md0825,\n",
        "vg0598,\n",
        "vg0433,\n",
        "mh1068,\n",
        "yj0173,\n",
        "pk0553,\n",
        "tk0411,\n",
        "srk0204,\n",
        "sk2922,\n",
        "sk2936,\n",
        "mk1302,\n",
        "mk1317,\n",
        "tk0412,\n",
        "vk0656,\n",
        "sm2985,\n",
        "mm2372,\n",
        "un0045,\n",
        "an0892,\n",
        "sn0913,\n",
        "gp0252,\n",
        "ap1484,\n",
        "mr1765,\n",
        "sr1385,\n",
        "sr1335,\n",
        "hs0665,\n",
        "ms2060,\n",
        "gt0217,\n",
        "nt0385,\n",
        "tv0186,\n",
        "sv1394,\n",
        "sv1752,\n",
        "sv1555,\n",
        "sy0594\n",
        "]\n"
      ]
    },
    {
      "cell_type": "code",
      "execution_count": 68,
      "metadata": {
        "id": "3iGbmcOBhTwy",
        "colab": {
          "base_uri": "https://localhost:8080/"
        },
        "outputId": "d60db7e1-c225-45d5-b8a6-c036beaf8902"
      },
      "outputs": [
        {
          "output_type": "stream",
          "name": "stdout",
          "text": [
            "Group 1: ['sk2936', 'pk0553', 'ms2060', 'sk2922']\n",
            "Group 2: ['nt0385', 'un0045', 'gt0217', 'sr1385', 'ap1484']\n",
            "Group 3: ['gp0252', 'md0825', 'tv0186', 'sn0913', 'vk0656', 'ac1964']\n",
            "Group 4: ['tk0411', 'sy0594', 'hc0612', 'yj0173', 'tk0412']\n",
            "Group 5: ['vg0433', 'sv1752', 'an0892', 'rb0846', 'vg0598', 'sv1394']\n",
            "Group 6: ['hs0665', 'mr1765', 'mh1068', 'md0912']\n",
            "Group 7: ['ad1198', 'mk1317', 'srk0204', 'sm2985', 'sr1335', 'mm2372']\n",
            "Group 8: ['sv1555', 'md0894', 'mk1302']\n"
          ]
        }
      ],
      "source": [
        "import random\n",
        "\n",
        "# List of students\n",
        "student_list_spring_2024 = [\n",
        "    \"rb0846\", \"ac1964\", \"hc0612\", \"md0912\", \"ad1198\", \"md0894\", \"md0825\", \"vg0598\", \"vg0433\",\n",
        "    \"mh1068\", \"yj0173\", \"pk0553\", \"tk0411\", \"srk0204\", \"sk2922\", \"sk2936\", \"mk1302\", \"mk1317\",\n",
        "    \"tk0412\", \"vk0656\", \"sm2985\", \"mm2372\", \"un0045\", \"an0892\", \"sn0913\", \"gp0252\", \"ap1484\",\n",
        "    \"mr1765\", \"sr1385\", \"sr1335\", \"hs0665\", \"ms2060\", \"gt0217\", \"nt0385\", \"tv0186\", \"sv1394\",\n",
        "    \"sv1752\", \"sv1555\", \"sy0594\"\n",
        "]\n",
        "\n",
        "# Shuffle the student list\n",
        "random.shuffle(student_list_spring_2024)\n",
        "\n",
        "# Define group constraints\n",
        "min_group_size = 4\n",
        "max_group_size = 6\n",
        "max_groups = 8\n",
        "\n",
        "# Create groups\n",
        "groups = []\n",
        "while student_list_spring_2024:\n",
        "    group_size = random.randint(min_group_size, max_group_size)\n",
        "    group = [student_list_spring_2024.pop() for _ in range(min(len(student_list_spring_2024), group_size))]\n",
        "    groups.append(group)\n",
        "    if len(groups) >= max_groups and student_list_spring_2024:\n",
        "        groups[-1].extend(student_list_spring_2024)\n",
        "        student_list_spring_2024 = []\n",
        "\n",
        "# Print the groups\n",
        "for i, group in enumerate(groups):\n",
        "    print(f\"Group {i + 1}: {group}\")\n"
      ]
    },
    {
      "cell_type": "markdown",
      "metadata": {
        "id": "fmZ9vX20Qs3d"
      },
      "source": [
        "## Question 16\n",
        "Create a program that takes a positive integer 'n' as input and prints the count of even numbers from 1 to 'n'. Optimize the loop using the continue statement."
      ]
    },
    {
      "cell_type": "code",
      "execution_count": 70,
      "metadata": {
        "id": "W8Jw6sWMQs3d",
        "colab": {
          "base_uri": "https://localhost:8080/"
        },
        "outputId": "3e1deef1-2f97-438c-ef9d-5bdd25691103"
      },
      "outputs": [
        {
          "output_type": "stream",
          "name": "stdout",
          "text": [
            "Enter a positive integer: 20\n",
            "Count of even numbers: 10\n"
          ]
        }
      ],
      "source": [
        "# write your answer here\n",
        "user_input = int(input(\"Enter a positive integer: \"))\n",
        "count_numbers = 0\n",
        "for i in range(1, user_input + 1):\n",
        "    if i % 2 == 0:\n",
        "        count_numbers += 1\n",
        "    else:\n",
        "        continue\n",
        "print(\"Count of even numbers:\", count_numbers)"
      ]
    },
    {
      "cell_type": "markdown",
      "metadata": {
        "id": "hvq4APMhQs3d"
      },
      "source": [
        "## Question 17\n",
        "Develop a Python function called 'count_vowels' that takes a string as input and returns the count of vowels (both lowercase and uppercase) present in the string, ignoring spaces and non-alphabetic characters."
      ]
    },
    {
      "cell_type": "code",
      "execution_count": 71,
      "metadata": {
        "id": "ZnoxhSglQs3d",
        "colab": {
          "base_uri": "https://localhost:8080/"
        },
        "outputId": "af90b5a8-2b53-461a-e86f-75d43f2ffe4a"
      },
      "outputs": [
        {
          "output_type": "stream",
          "name": "stdout",
          "text": [
            "Enter a string: fardeenalimohammed\n",
            "Count of vowels: 8\n"
          ]
        }
      ],
      "source": [
        "# write your answer here\n",
        "def count_vowels(user_input):\n",
        "  vowels = \"aeiouAEIOU\"\n",
        "  vowel_count = 0\n",
        "  for char in user_input:\n",
        "    if char in vowels:\n",
        "      vowel_count += 1\n",
        "  return vowel_count\n",
        "user_input = input(\"Enter a string: \")\n",
        "vowel_count = count_vowels(user_input)\n",
        "print(\"Count of vowels:\", vowel_count)\n"
      ]
    },
    {
      "cell_type": "markdown",
      "source": [
        "## Question 18\n",
        "Create a custom exception named ValueTooSmallError in Python. Write a program that takes user input for an age, and if the entered age is less than 18, raise the ValueTooSmallError with an appropriate error message."
      ],
      "metadata": {
        "id": "55FWoSJPVVM6"
      }
    },
    {
      "cell_type": "code",
      "source": [
        "# write your answer here\n",
        "# Define a custom exception\n",
        "class ValueTooSmallError(Exception):\n",
        "    def __init__(self, mes=\"Age must be 18 or more\"):\n",
        "        self.message = mes\n",
        "        super().__init__(self.message)\n",
        "\n",
        "# Main program\n",
        "try:\n",
        "    age = int(input(\"Enter your age: \"))\n",
        "    if age < 18:\n",
        "        raise ValueTooSmallError()\n",
        "    print(\"Age is good.\")\n",
        "\n",
        "except ValueTooSmallError as f:\n",
        "    print(f)\n",
        "except ValueError:\n",
        "    print(\"Please enter a valid number.\")\n",
        "\n"
      ],
      "metadata": {
        "id": "hwtr1wZmVX5A",
        "colab": {
          "base_uri": "https://localhost:8080/"
        },
        "outputId": "01c34b3c-84df-4c24-d2bd-80f19cce0ebd"
      },
      "execution_count": 76,
      "outputs": [
        {
          "output_type": "stream",
          "name": "stdout",
          "text": [
            "Enter your age: 3\n",
            "Age must be 18 or more\n"
          ]
        }
      ]
    },
    {
      "cell_type": "markdown",
      "source": [
        "## Question 19\n",
        "Develop a script that reverses a given string without using built-in reverse functions."
      ],
      "metadata": {
        "id": "Q9ecagcaVazW"
      }
    },
    {
      "cell_type": "code",
      "source": [
        "def reverse_function(s):\n",
        "    reversed_str = \"\"\n",
        "    for char in s:\n",
        "        reversed_str = char + reversed_str\n",
        "    return reversed_str\n",
        "\n",
        "# Example usage\n",
        "string = input(\"Enter a string: \")\n",
        "reversed_string = reverse_function(string)\n",
        "print(reversed_string)\n"
      ],
      "metadata": {
        "id": "gycgckoAVZjR",
        "colab": {
          "base_uri": "https://localhost:8080/"
        },
        "outputId": "d0a38eaa-7be4-43a0-dc23-7c3e3b4b8908"
      },
      "execution_count": 81,
      "outputs": [
        {
          "output_type": "stream",
          "name": "stdout",
          "text": [
            "Enter a string: hello\n",
            "olleh\n"
          ]
        }
      ]
    },
    {
      "cell_type": "markdown",
      "source": [
        "## Question 20\n",
        "Implement a Python script to generate a random password of a specified length."
      ],
      "metadata": {
        "id": "ZFG6RibifMLu"
      }
    },
    {
      "cell_type": "code",
      "source": [
        "# write your answer here\n",
        "length=int(input(\"enter the length of password\"))\n",
        "import random\n",
        "import string\n",
        "\n",
        "def generate_password_loop(length):\n",
        "    if length <= 4:\n",
        "        raise ValueError(\"Password length should be at least 4 characters.\")\n",
        "    all_characters = string.ascii_letters + string.digits + string.punctuation\n",
        "    password = ''\n",
        "    for i in range(length):\n",
        "        password += random.choice(all_characters)\n",
        "    return password\n",
        "print(\"Generated password:\", generate_password_loop(length))\n",
        "\n"
      ],
      "metadata": {
        "id": "BFVrkEi9fNiD",
        "colab": {
          "base_uri": "https://localhost:8080/"
        },
        "outputId": "f661e330-dfd9-4d1c-c8cf-be74b2ac56a1"
      },
      "execution_count": 85,
      "outputs": [
        {
          "output_type": "stream",
          "name": "stdout",
          "text": [
            "enter the length of password5\n",
            "Generated password: @_=kg\n"
          ]
        }
      ]
    },
    {
      "cell_type": "markdown",
      "source": [
        "# Try these questions"
      ],
      "metadata": {
        "id": "6SmvS7nSfbj8"
      }
    },
    {
      "cell_type": "markdown",
      "source": [
        "(21) Define a base class called 'Vehicle' with attributes make and model. Create a derived class Car that inherits from Vehicle and has an additional attribute 'num_doors'. Demonstrate an example of creating an instance of the 'Car' class and accessing its attributes."
      ],
      "metadata": {
        "id": "cboAr5pEWUf5"
      }
    },
    {
      "cell_type": "code",
      "source": [
        "# write your answer here\n"
      ],
      "metadata": {
        "id": "phs9gciMWWAW"
      },
      "execution_count": null,
      "outputs": []
    },
    {
      "cell_type": "markdown",
      "source": [
        "(22) Create a class called 'Shape' with a method calculate_area(). Implement two derived classes 'Circle' and 'Rectangle' that inherit from Shape and override the calculate_area() method. Demonstrate polymorphism by creating instances of both derived classes and calling the calculate_area() method."
      ],
      "metadata": {
        "id": "J8HHefNtePwd"
      }
    },
    {
      "cell_type": "code",
      "source": [
        "# write your answer here"
      ],
      "metadata": {
        "id": "btnMmUZDeRhS"
      },
      "execution_count": null,
      "outputs": []
    },
    {
      "cell_type": "markdown",
      "source": [
        "(23) Write a Python program that prompts the user to enter two numbers and perform a division operation. Handle exceptions for both zero division and invalid input (non-numeric input). Display appropriate error messages for each type of exception and ensure the program does not crash due to these errors."
      ],
      "metadata": {
        "id": "z0oqEAlTeMUS"
      }
    },
    {
      "cell_type": "code",
      "source": [
        "# write your answer here"
      ],
      "metadata": {
        "id": "yjdc1zM1eMAs"
      },
      "execution_count": null,
      "outputs": []
    },
    {
      "cell_type": "markdown",
      "source": [
        "# Mandatory Question"
      ],
      "metadata": {
        "id": "sZOhks1dXWEe"
      }
    },
    {
      "cell_type": "markdown",
      "source": [
        "**Important:**\n",
        "Reflecting on the first three lectures and the exercises you've completed, please provide feedback on your learning experience. Share your thoughts on whether the material covered was clear, the exercises were helpful, and if you feel more confident in applying Python programming concepts. Additionally, mention any specific areas where you would like more clarification or topics you would like to explore further in future lectures. Your feedback is valuable in shaping the course for an effective learning journey."
      ],
      "metadata": {
        "id": "eqmHVEwaWhbV"
      }
    },
    {
      "cell_type": "code",
      "source": [
        "'''\n",
        "Write your response here.\n",
        "Everything is good. Explanation and topics are fully covered and well explained.\n",
        "\" I would recommed to add weekly python problems atleast 5 to 10\", which are realted to our future lectures.\n",
        "In that way, we will get hands on expereince and practicall real life expereience\"\n",
        "'''"
      ],
      "metadata": {
        "id": "akAVJn9YBTQT"
      },
      "execution_count": null,
      "outputs": []
    }
  ],
  "metadata": {
    "colab": {
      "provenance": [],
      "collapsed_sections": [
        "FBKvD6O_TY6e",
        "E9RqrlwdTfvl",
        "03jb4GZsBkBS",
        "jJDe71iLB616",
        "55W9AMdXCSpV",
        "6SmvS7nSfbj8"
      ],
      "include_colab_link": true
    },
    "kernelspec": {
      "display_name": "Python 3 (ipykernel)",
      "language": "python",
      "name": "python3"
    },
    "language_info": {
      "codemirror_mode": {
        "name": "ipython",
        "version": 3
      },
      "file_extension": ".py",
      "mimetype": "text/x-python",
      "name": "python",
      "nbconvert_exporter": "python",
      "pygments_lexer": "ipython3",
      "version": "3.9.12"
    }
  },
  "nbformat": 4,
  "nbformat_minor": 0
}